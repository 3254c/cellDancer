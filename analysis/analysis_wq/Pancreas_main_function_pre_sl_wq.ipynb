{
 "cells": [
  {
   "cell_type": "markdown",
   "id": "507f410d-6357-43fd-91fd-40798b73caad",
   "metadata": {},
   "source": [
    "# Case Study: Pancreatic Endocrinogenesis"
   ]
  },
  {
   "cell_type": "markdown",
   "id": "418956f5-4eac-425b-97a7-123e6dabe701",
   "metadata": {
    "tags": []
   },
   "source": [
    "## Import Packages"
   ]
  },
  {
   "cell_type": "code",
   "execution_count": 1,
   "id": "1ceb600e-9598-4fd1-85fb-9bd43b97ee4d",
   "metadata": {
    "scrolled": true
   },
   "outputs": [],
   "source": [
    "%load_ext autoreload\n",
    "%autoreload 2\n",
    "\n",
    "import os\n",
    "import glob\n",
    "import random\n",
    "import sys\n",
    "import pandas as pd\n",
    "import math\n",
    "import matplotlib.pyplot as plt\n",
    "# import from absolute directory\n",
    "#srcdir = '/Users/pengzhizhang/cellDancer/src'\n",
    "#srcdir = '/Users/shengyuli/Library/CloudStorage/OneDrive-HoustonMethodist/work/Velocity/bin/cellDancer_polish/src'\n",
    "srcdir = '/Users/wanglab/Documents/ShengyuLi/Velocity/bin/celldancer_polish/src'\n",
    "srcdir = '/Users/chen.weiqing/Documents/GitHub/cellDancer/src'\n",
    "sys.path.append(srcdir)\n",
    "\n",
    "import celldancer.cdplt as cdplt\n",
    "# import celldancer.velocity_estimation as calc_velocity\n",
    "from celldancer.cdplt import colormap\n",
    "from celldancer import velocity_estimation\n",
    "from celldancer.compute_cell_velocity import compute_cell_velocity\n",
    "from celldancer.pseudo_time import pseudo_time"
   ]
  },
  {
   "cell_type": "markdown",
   "id": "ccc20035-d794-4be8-a7fc-f8fb82530e80",
   "metadata": {
    "tags": []
   },
   "source": [
    "## Velocity Estimation"
   ]
  },
  {
   "cell_type": "code",
   "execution_count": 18,
   "id": "5412482f-bb49-4238-bef4-f02a0d361f74",
   "metadata": {
    "tags": []
   },
   "outputs": [
    {
     "name": "stdout",
     "output_type": "stream",
     "text": [
      "Using /Users/chen.weiqing/code/celldancer/pancreas/velocity_result/cell_dancer_velocity_2022-05-13 07-37-09 as the output path.\n"
     ]
    },
    {
     "name": "stderr",
     "output_type": "stream",
     "text": [
      "Velocity Estimation: 100%|████████████████████████████████████████████████████████████| 1/1 [00:01<00:00,  1.82s/it]\n"
     ]
    },
    {
     "name": "stdout",
     "output_type": "stream",
     "text": [
      "--------------------------------------------------------------------------------\n",
      "DATALOADER:0 TEST RESULTS\n",
      "{}\n",
      "--------------------------------------------------------------------------------\n",
      "--------------------------------------------------------------------------------\n",
      "DATALOADER:0 TEST RESULTS\n",
      "{}\n",
      "--------------------------------------------------------------------------------\n",
      "--------------------------------------------------------------------------------\n",
      "DATALOADER:0 TEST RESULTS\n",
      "{}\n",
      "--------------------------------------------------------------------------------\n",
      "--------------------------------------------------------------------------------\n",
      "DATALOADER:0 TEST RESULTS\n",
      "{}\n",
      "--------------------------------------------------------------------------------\n",
      "--------------------------------------------------------------------------------\n",
      "DATALOADER:0 TEST RESULTS\n",
      "{}\n",
      "--------------------------------------------------------------------------------\n",
      "--------------------------------------------------------------------------------\n",
      "DATALOADER:0 TEST RESULTS\n",
      "{}\n",
      "--------------------------------------------------------------------------------\n",
      "--------------------------------------------------------------------------------\n",
      "DATALOADER:0 TEST RESULTS\n",
      "{}\n",
      "--------------------------------------------------------------------------------\n",
      "--------------------------------------------------------------------------------\n",
      "DATALOADER:0 TEST RESULTS\n",
      "{}\n",
      "--------------------------------------------------------------------------------\n",
      "--------------------------------------------------------------------------------\n",
      "DATALOADER:0 TEST RESULTS\n",
      "{}\n",
      "--------------------------------------------------------------------------------\n",
      "--------------------------------------------------------------------------------\n",
      "DATALOADER:0 TEST RESULTS\n",
      "{}\n",
      "--------------------------------------------------------------------------------\n",
      "--------------------------------------------------------------------------------\n",
      "DATALOADER:0 TEST RESULTS\n",
      "{}\n",
      "--------------------------------------------------------------------------------\n"
     ]
    }
   ],
   "source": [
    "%autoreload 2\n",
    "\n",
    "#raw_path='/Users/shengyuli/Library/CloudStorage/OneDrive-HoustonMethodist/work/Velocity/data/raw_data/PancreaticEndocrinogenesis.csv'\n",
    "raw_path='/Users/chen.weiqing/code/celldancer/PancreaticEndocrinogenesis.csv'\n",
    "load_raw_data=pd.read_csv(raw_path)\n",
    "load_raw_data\n",
    "\n",
    "gene_list=[\"Sulf2\"]\n",
    "\n",
    "result_path = '/Users/chen.weiqing/code/celldancer/pancreas/velocity_result'\n",
    "brief, load_cellDancer=velocity_estimation.train(load_raw_data,gene_choice=gene_list,result_path=result_path,n_jobs=8)"
   ]
  },
  {
   "cell_type": "markdown",
   "id": "0b55cf0f-e146-47f2-a923-76cfee951563",
   "metadata": {},
   "source": [
    "## Set Parameters"
   ]
  },
  {
   "cell_type": "code",
   "execution_count": 19,
   "id": "cf9928c4-2870-4848-a9a2-88846711e5a4",
   "metadata": {},
   "outputs": [
    {
     "name": "stdout",
     "output_type": "stream",
     "text": [
      "Using /Users/chen.weiqing/code/celldancer/pancreas/velocity_result/cell_dancer_velocity_2022-05-13 07-42-22 as the output path.\n",
      "--------------------------------------------------------------------------------\n",
      "DATALOADER:0 TEST RESULTS\n",
      "{}\n",
      "--------------------------------------------------------------------------------\n"
     ]
    },
    {
     "name": "stderr",
     "output_type": "stream",
     "text": [
      "Velocity Estimation: 100%|████████████████████████████████████████████████████████████| 1/1 [00:02<00:00,  2.63s/it]"
     ]
    },
    {
     "name": "stdout",
     "output_type": "stream",
     "text": [
      "--------------------------------------------------------------------------------\n",
      "DATALOADER:0 TEST RESULTS\n",
      "{}\n",
      "--------------------------------------------------------------------------------\n"
     ]
    },
    {
     "name": "stderr",
     "output_type": "stream",
     "text": [
      "\n"
     ]
    }
   ],
   "source": [
    "max_epoches=200\n",
    "check_n_epoch=10\n",
    "learning_rate=0.001\n",
    "downsample_method='neighbors'\n",
    "step_i=200\n",
    "step_j=200\n",
    "sampling_ratio=0.125\n",
    "n_neighbors=30\n",
    "optimizer='Adam'\n",
    "n_neighbors_downsample=30\n",
    "auto_downsample=True\n",
    "auto_norm_u_s=True\n",
    "cost_type='smooth'\n",
    "smooth_weight=0.1\n",
    "patience=3\n",
    "binning=True\n",
    "\n",
    "# Velocity Estimation\n",
    "brief, load_cellDancer=velocity_estimation.train(load_raw_data,\\\n",
    "                                                 gene_choice=gene_list,\\\n",
    "                                                 max_epoches=max_epoches,\\\n",
    "                                                 check_n_epoch=check_n_epoch,\\\n",
    "                                                 learning_rate=learning_rate, \\\n",
    "                                                 downsample_method=downsample_method,\\\n",
    "                                                 step_i=step_i,\\\n",
    "                                                 step_j=step_j,\\\n",
    "                                                 sampling_ratio=sampling_ratio,\\\n",
    "                                                 n_neighbors=n_neighbors,\\\n",
    "                                                 optimizer=optimizer,\\\n",
    "                                                 n_neighbors_downsample=n_neighbors_downsample,\\\n",
    "                                                 auto_downsample=auto_downsample,\\\n",
    "                                                 auto_norm_u_s=auto_norm_u_s,\\\n",
    "                                                 cost_type=cost_type,\\\n",
    "                                                 smooth_weight=smooth_weight,\\\n",
    "                                                 patience=patience,\\\n",
    "                                                 binning=binning,\\\n",
    "                                                 result_path=result_path,n_jobs=1)"
   ]
  },
  {
   "cell_type": "markdown",
   "id": "3a664866-ba40-4239-8578-c4b9563e8bd3",
   "metadata": {},
   "source": [
    "## Sample Genes' Velocity Plot"
   ]
  },
  {
   "cell_type": "code",
   "execution_count": 26,
   "id": "752c5e7c-a433-4d8d-8042-f1eb1c3c1ae5",
   "metadata": {},
   "outputs": [
    {
     "ename": "ValueError",
     "evalue": "Invalid RGBA argument: 'Ductal'",
     "output_type": "error",
     "traceback": [
      "\u001b[0;31m---------------------------------------------------------------------------\u001b[0m",
      "\u001b[0;31mValueError\u001b[0m                                Traceback (most recent call last)",
      "\u001b[0;32m~/opt/anaconda3/envs/celldancer/lib/python3.7/site-packages/IPython/core/formatters.py\u001b[0m in \u001b[0;36m__call__\u001b[0;34m(self, obj)\u001b[0m\n\u001b[1;32m    339\u001b[0m                 \u001b[0;32mpass\u001b[0m\u001b[0;34m\u001b[0m\u001b[0;34m\u001b[0m\u001b[0m\n\u001b[1;32m    340\u001b[0m             \u001b[0;32melse\u001b[0m\u001b[0;34m:\u001b[0m\u001b[0;34m\u001b[0m\u001b[0;34m\u001b[0m\u001b[0m\n\u001b[0;32m--> 341\u001b[0;31m                 \u001b[0;32mreturn\u001b[0m \u001b[0mprinter\u001b[0m\u001b[0;34m(\u001b[0m\u001b[0mobj\u001b[0m\u001b[0;34m)\u001b[0m\u001b[0;34m\u001b[0m\u001b[0;34m\u001b[0m\u001b[0m\n\u001b[0m\u001b[1;32m    342\u001b[0m             \u001b[0;31m# Finally look for special method names\u001b[0m\u001b[0;34m\u001b[0m\u001b[0;34m\u001b[0m\u001b[0;34m\u001b[0m\u001b[0m\n\u001b[1;32m    343\u001b[0m             \u001b[0mmethod\u001b[0m \u001b[0;34m=\u001b[0m \u001b[0mget_real_method\u001b[0m\u001b[0;34m(\u001b[0m\u001b[0mobj\u001b[0m\u001b[0;34m,\u001b[0m \u001b[0mself\u001b[0m\u001b[0;34m.\u001b[0m\u001b[0mprint_method\u001b[0m\u001b[0;34m)\u001b[0m\u001b[0;34m\u001b[0m\u001b[0;34m\u001b[0m\u001b[0m\n",
      "\u001b[0;32m~/opt/anaconda3/envs/celldancer/lib/python3.7/site-packages/IPython/core/pylabtools.py\u001b[0m in \u001b[0;36mprint_figure\u001b[0;34m(fig, fmt, bbox_inches, base64, **kwargs)\u001b[0m\n\u001b[1;32m    149\u001b[0m         \u001b[0mFigureCanvasBase\u001b[0m\u001b[0;34m(\u001b[0m\u001b[0mfig\u001b[0m\u001b[0;34m)\u001b[0m\u001b[0;34m\u001b[0m\u001b[0;34m\u001b[0m\u001b[0m\n\u001b[1;32m    150\u001b[0m \u001b[0;34m\u001b[0m\u001b[0m\n\u001b[0;32m--> 151\u001b[0;31m     \u001b[0mfig\u001b[0m\u001b[0;34m.\u001b[0m\u001b[0mcanvas\u001b[0m\u001b[0;34m.\u001b[0m\u001b[0mprint_figure\u001b[0m\u001b[0;34m(\u001b[0m\u001b[0mbytes_io\u001b[0m\u001b[0;34m,\u001b[0m \u001b[0;34m**\u001b[0m\u001b[0mkw\u001b[0m\u001b[0;34m)\u001b[0m\u001b[0;34m\u001b[0m\u001b[0;34m\u001b[0m\u001b[0m\n\u001b[0m\u001b[1;32m    152\u001b[0m     \u001b[0mdata\u001b[0m \u001b[0;34m=\u001b[0m \u001b[0mbytes_io\u001b[0m\u001b[0;34m.\u001b[0m\u001b[0mgetvalue\u001b[0m\u001b[0;34m(\u001b[0m\u001b[0;34m)\u001b[0m\u001b[0;34m\u001b[0m\u001b[0;34m\u001b[0m\u001b[0m\n\u001b[1;32m    153\u001b[0m     \u001b[0;32mif\u001b[0m \u001b[0mfmt\u001b[0m \u001b[0;34m==\u001b[0m \u001b[0;34m'svg'\u001b[0m\u001b[0;34m:\u001b[0m\u001b[0;34m\u001b[0m\u001b[0;34m\u001b[0m\u001b[0m\n",
      "\u001b[0;32m~/opt/anaconda3/envs/celldancer/lib/python3.7/site-packages/matplotlib/backend_bases.py\u001b[0m in \u001b[0;36mprint_figure\u001b[0;34m(self, filename, dpi, facecolor, edgecolor, orientation, format, bbox_inches, pad_inches, bbox_extra_artists, backend, **kwargs)\u001b[0m\n\u001b[1;32m   2288\u001b[0m                 )\n\u001b[1;32m   2289\u001b[0m                 \u001b[0;32mwith\u001b[0m \u001b[0mgetattr\u001b[0m\u001b[0;34m(\u001b[0m\u001b[0mrenderer\u001b[0m\u001b[0;34m,\u001b[0m \u001b[0;34m\"_draw_disabled\"\u001b[0m\u001b[0;34m,\u001b[0m \u001b[0mnullcontext\u001b[0m\u001b[0;34m)\u001b[0m\u001b[0;34m(\u001b[0m\u001b[0;34m)\u001b[0m\u001b[0;34m:\u001b[0m\u001b[0;34m\u001b[0m\u001b[0;34m\u001b[0m\u001b[0m\n\u001b[0;32m-> 2290\u001b[0;31m                     \u001b[0mself\u001b[0m\u001b[0;34m.\u001b[0m\u001b[0mfigure\u001b[0m\u001b[0;34m.\u001b[0m\u001b[0mdraw\u001b[0m\u001b[0;34m(\u001b[0m\u001b[0mrenderer\u001b[0m\u001b[0;34m)\u001b[0m\u001b[0;34m\u001b[0m\u001b[0;34m\u001b[0m\u001b[0m\n\u001b[0m\u001b[1;32m   2291\u001b[0m \u001b[0;34m\u001b[0m\u001b[0m\n\u001b[1;32m   2292\u001b[0m             \u001b[0;32mif\u001b[0m \u001b[0mbbox_inches\u001b[0m\u001b[0;34m:\u001b[0m\u001b[0;34m\u001b[0m\u001b[0;34m\u001b[0m\u001b[0m\n",
      "\u001b[0;32m~/opt/anaconda3/envs/celldancer/lib/python3.7/site-packages/matplotlib/artist.py\u001b[0m in \u001b[0;36mdraw_wrapper\u001b[0;34m(artist, renderer, *args, **kwargs)\u001b[0m\n\u001b[1;32m     71\u001b[0m     \u001b[0;34m@\u001b[0m\u001b[0mwraps\u001b[0m\u001b[0;34m(\u001b[0m\u001b[0mdraw\u001b[0m\u001b[0;34m)\u001b[0m\u001b[0;34m\u001b[0m\u001b[0;34m\u001b[0m\u001b[0m\n\u001b[1;32m     72\u001b[0m     \u001b[0;32mdef\u001b[0m \u001b[0mdraw_wrapper\u001b[0m\u001b[0;34m(\u001b[0m\u001b[0martist\u001b[0m\u001b[0;34m,\u001b[0m \u001b[0mrenderer\u001b[0m\u001b[0;34m,\u001b[0m \u001b[0;34m*\u001b[0m\u001b[0margs\u001b[0m\u001b[0;34m,\u001b[0m \u001b[0;34m**\u001b[0m\u001b[0mkwargs\u001b[0m\u001b[0;34m)\u001b[0m\u001b[0;34m:\u001b[0m\u001b[0;34m\u001b[0m\u001b[0;34m\u001b[0m\u001b[0m\n\u001b[0;32m---> 73\u001b[0;31m         \u001b[0mresult\u001b[0m \u001b[0;34m=\u001b[0m \u001b[0mdraw\u001b[0m\u001b[0;34m(\u001b[0m\u001b[0martist\u001b[0m\u001b[0;34m,\u001b[0m \u001b[0mrenderer\u001b[0m\u001b[0;34m,\u001b[0m \u001b[0;34m*\u001b[0m\u001b[0margs\u001b[0m\u001b[0;34m,\u001b[0m \u001b[0;34m**\u001b[0m\u001b[0mkwargs\u001b[0m\u001b[0;34m)\u001b[0m\u001b[0;34m\u001b[0m\u001b[0;34m\u001b[0m\u001b[0m\n\u001b[0m\u001b[1;32m     74\u001b[0m         \u001b[0;32mif\u001b[0m \u001b[0mrenderer\u001b[0m\u001b[0;34m.\u001b[0m\u001b[0m_rasterizing\u001b[0m\u001b[0;34m:\u001b[0m\u001b[0;34m\u001b[0m\u001b[0;34m\u001b[0m\u001b[0m\n\u001b[1;32m     75\u001b[0m             \u001b[0mrenderer\u001b[0m\u001b[0;34m.\u001b[0m\u001b[0mstop_rasterizing\u001b[0m\u001b[0;34m(\u001b[0m\u001b[0;34m)\u001b[0m\u001b[0;34m\u001b[0m\u001b[0;34m\u001b[0m\u001b[0m\n",
      "\u001b[0;32m~/opt/anaconda3/envs/celldancer/lib/python3.7/site-packages/matplotlib/artist.py\u001b[0m in \u001b[0;36mdraw_wrapper\u001b[0;34m(artist, renderer)\u001b[0m\n\u001b[1;32m     48\u001b[0m                 \u001b[0mrenderer\u001b[0m\u001b[0;34m.\u001b[0m\u001b[0mstart_filter\u001b[0m\u001b[0;34m(\u001b[0m\u001b[0;34m)\u001b[0m\u001b[0;34m\u001b[0m\u001b[0;34m\u001b[0m\u001b[0m\n\u001b[1;32m     49\u001b[0m \u001b[0;34m\u001b[0m\u001b[0m\n\u001b[0;32m---> 50\u001b[0;31m             \u001b[0;32mreturn\u001b[0m \u001b[0mdraw\u001b[0m\u001b[0;34m(\u001b[0m\u001b[0martist\u001b[0m\u001b[0;34m,\u001b[0m \u001b[0mrenderer\u001b[0m\u001b[0;34m)\u001b[0m\u001b[0;34m\u001b[0m\u001b[0;34m\u001b[0m\u001b[0m\n\u001b[0m\u001b[1;32m     51\u001b[0m         \u001b[0;32mfinally\u001b[0m\u001b[0;34m:\u001b[0m\u001b[0;34m\u001b[0m\u001b[0;34m\u001b[0m\u001b[0m\n\u001b[1;32m     52\u001b[0m             \u001b[0;32mif\u001b[0m \u001b[0martist\u001b[0m\u001b[0;34m.\u001b[0m\u001b[0mget_agg_filter\u001b[0m\u001b[0;34m(\u001b[0m\u001b[0;34m)\u001b[0m \u001b[0;32mis\u001b[0m \u001b[0;32mnot\u001b[0m \u001b[0;32mNone\u001b[0m\u001b[0;34m:\u001b[0m\u001b[0;34m\u001b[0m\u001b[0;34m\u001b[0m\u001b[0m\n",
      "\u001b[0;32m~/opt/anaconda3/envs/celldancer/lib/python3.7/site-packages/matplotlib/figure.py\u001b[0m in \u001b[0;36mdraw\u001b[0;34m(self, renderer)\u001b[0m\n\u001b[1;32m   2802\u001b[0m             \u001b[0mself\u001b[0m\u001b[0;34m.\u001b[0m\u001b[0mpatch\u001b[0m\u001b[0;34m.\u001b[0m\u001b[0mdraw\u001b[0m\u001b[0;34m(\u001b[0m\u001b[0mrenderer\u001b[0m\u001b[0;34m)\u001b[0m\u001b[0;34m\u001b[0m\u001b[0;34m\u001b[0m\u001b[0m\n\u001b[1;32m   2803\u001b[0m             mimage._draw_list_compositing_images(\n\u001b[0;32m-> 2804\u001b[0;31m                 renderer, self, artists, self.suppressComposite)\n\u001b[0m\u001b[1;32m   2805\u001b[0m \u001b[0;34m\u001b[0m\u001b[0m\n\u001b[1;32m   2806\u001b[0m             \u001b[0;32mfor\u001b[0m \u001b[0msfig\u001b[0m \u001b[0;32min\u001b[0m \u001b[0mself\u001b[0m\u001b[0;34m.\u001b[0m\u001b[0msubfigs\u001b[0m\u001b[0;34m:\u001b[0m\u001b[0;34m\u001b[0m\u001b[0;34m\u001b[0m\u001b[0m\n",
      "\u001b[0;32m~/opt/anaconda3/envs/celldancer/lib/python3.7/site-packages/matplotlib/image.py\u001b[0m in \u001b[0;36m_draw_list_compositing_images\u001b[0;34m(renderer, parent, artists, suppress_composite)\u001b[0m\n\u001b[1;32m    130\u001b[0m     \u001b[0;32mif\u001b[0m \u001b[0mnot_composite\u001b[0m \u001b[0;32mor\u001b[0m \u001b[0;32mnot\u001b[0m \u001b[0mhas_images\u001b[0m\u001b[0;34m:\u001b[0m\u001b[0;34m\u001b[0m\u001b[0;34m\u001b[0m\u001b[0m\n\u001b[1;32m    131\u001b[0m         \u001b[0;32mfor\u001b[0m \u001b[0ma\u001b[0m \u001b[0;32min\u001b[0m \u001b[0martists\u001b[0m\u001b[0;34m:\u001b[0m\u001b[0;34m\u001b[0m\u001b[0;34m\u001b[0m\u001b[0m\n\u001b[0;32m--> 132\u001b[0;31m             \u001b[0ma\u001b[0m\u001b[0;34m.\u001b[0m\u001b[0mdraw\u001b[0m\u001b[0;34m(\u001b[0m\u001b[0mrenderer\u001b[0m\u001b[0;34m)\u001b[0m\u001b[0;34m\u001b[0m\u001b[0;34m\u001b[0m\u001b[0m\n\u001b[0m\u001b[1;32m    133\u001b[0m     \u001b[0;32melse\u001b[0m\u001b[0;34m:\u001b[0m\u001b[0;34m\u001b[0m\u001b[0;34m\u001b[0m\u001b[0m\n\u001b[1;32m    134\u001b[0m         \u001b[0;31m# Composite any adjacent images together\u001b[0m\u001b[0;34m\u001b[0m\u001b[0;34m\u001b[0m\u001b[0;34m\u001b[0m\u001b[0m\n",
      "\u001b[0;32m~/opt/anaconda3/envs/celldancer/lib/python3.7/site-packages/matplotlib/artist.py\u001b[0m in \u001b[0;36mdraw_wrapper\u001b[0;34m(artist, renderer)\u001b[0m\n\u001b[1;32m     48\u001b[0m                 \u001b[0mrenderer\u001b[0m\u001b[0;34m.\u001b[0m\u001b[0mstart_filter\u001b[0m\u001b[0;34m(\u001b[0m\u001b[0;34m)\u001b[0m\u001b[0;34m\u001b[0m\u001b[0;34m\u001b[0m\u001b[0m\n\u001b[1;32m     49\u001b[0m \u001b[0;34m\u001b[0m\u001b[0m\n\u001b[0;32m---> 50\u001b[0;31m             \u001b[0;32mreturn\u001b[0m \u001b[0mdraw\u001b[0m\u001b[0;34m(\u001b[0m\u001b[0martist\u001b[0m\u001b[0;34m,\u001b[0m \u001b[0mrenderer\u001b[0m\u001b[0;34m)\u001b[0m\u001b[0;34m\u001b[0m\u001b[0;34m\u001b[0m\u001b[0m\n\u001b[0m\u001b[1;32m     51\u001b[0m         \u001b[0;32mfinally\u001b[0m\u001b[0;34m:\u001b[0m\u001b[0;34m\u001b[0m\u001b[0;34m\u001b[0m\u001b[0m\n\u001b[1;32m     52\u001b[0m             \u001b[0;32mif\u001b[0m \u001b[0martist\u001b[0m\u001b[0;34m.\u001b[0m\u001b[0mget_agg_filter\u001b[0m\u001b[0;34m(\u001b[0m\u001b[0;34m)\u001b[0m \u001b[0;32mis\u001b[0m \u001b[0;32mnot\u001b[0m \u001b[0;32mNone\u001b[0m\u001b[0;34m:\u001b[0m\u001b[0;34m\u001b[0m\u001b[0;34m\u001b[0m\u001b[0m\n",
      "\u001b[0;32m~/opt/anaconda3/envs/celldancer/lib/python3.7/site-packages/matplotlib/axes/_base.py\u001b[0m in \u001b[0;36mdraw\u001b[0;34m(self, renderer)\u001b[0m\n\u001b[1;32m   3081\u001b[0m \u001b[0;34m\u001b[0m\u001b[0m\n\u001b[1;32m   3082\u001b[0m         mimage._draw_list_compositing_images(\n\u001b[0;32m-> 3083\u001b[0;31m             renderer, self, artists, self.figure.suppressComposite)\n\u001b[0m\u001b[1;32m   3084\u001b[0m \u001b[0;34m\u001b[0m\u001b[0m\n\u001b[1;32m   3085\u001b[0m         \u001b[0mrenderer\u001b[0m\u001b[0;34m.\u001b[0m\u001b[0mclose_group\u001b[0m\u001b[0;34m(\u001b[0m\u001b[0;34m'axes'\u001b[0m\u001b[0;34m)\u001b[0m\u001b[0;34m\u001b[0m\u001b[0;34m\u001b[0m\u001b[0m\n",
      "\u001b[0;32m~/opt/anaconda3/envs/celldancer/lib/python3.7/site-packages/matplotlib/image.py\u001b[0m in \u001b[0;36m_draw_list_compositing_images\u001b[0;34m(renderer, parent, artists, suppress_composite)\u001b[0m\n\u001b[1;32m    130\u001b[0m     \u001b[0;32mif\u001b[0m \u001b[0mnot_composite\u001b[0m \u001b[0;32mor\u001b[0m \u001b[0;32mnot\u001b[0m \u001b[0mhas_images\u001b[0m\u001b[0;34m:\u001b[0m\u001b[0;34m\u001b[0m\u001b[0;34m\u001b[0m\u001b[0m\n\u001b[1;32m    131\u001b[0m         \u001b[0;32mfor\u001b[0m \u001b[0ma\u001b[0m \u001b[0;32min\u001b[0m \u001b[0martists\u001b[0m\u001b[0;34m:\u001b[0m\u001b[0;34m\u001b[0m\u001b[0;34m\u001b[0m\u001b[0m\n\u001b[0;32m--> 132\u001b[0;31m             \u001b[0ma\u001b[0m\u001b[0;34m.\u001b[0m\u001b[0mdraw\u001b[0m\u001b[0;34m(\u001b[0m\u001b[0mrenderer\u001b[0m\u001b[0;34m)\u001b[0m\u001b[0;34m\u001b[0m\u001b[0;34m\u001b[0m\u001b[0m\n\u001b[0m\u001b[1;32m    133\u001b[0m     \u001b[0;32melse\u001b[0m\u001b[0;34m:\u001b[0m\u001b[0;34m\u001b[0m\u001b[0;34m\u001b[0m\u001b[0m\n\u001b[1;32m    134\u001b[0m         \u001b[0;31m# Composite any adjacent images together\u001b[0m\u001b[0;34m\u001b[0m\u001b[0;34m\u001b[0m\u001b[0;34m\u001b[0m\u001b[0m\n",
      "\u001b[0;32m~/opt/anaconda3/envs/celldancer/lib/python3.7/site-packages/matplotlib/artist.py\u001b[0m in \u001b[0;36mdraw_wrapper\u001b[0;34m(artist, renderer)\u001b[0m\n\u001b[1;32m     48\u001b[0m                 \u001b[0mrenderer\u001b[0m\u001b[0;34m.\u001b[0m\u001b[0mstart_filter\u001b[0m\u001b[0;34m(\u001b[0m\u001b[0;34m)\u001b[0m\u001b[0;34m\u001b[0m\u001b[0;34m\u001b[0m\u001b[0m\n\u001b[1;32m     49\u001b[0m \u001b[0;34m\u001b[0m\u001b[0m\n\u001b[0;32m---> 50\u001b[0;31m             \u001b[0;32mreturn\u001b[0m \u001b[0mdraw\u001b[0m\u001b[0;34m(\u001b[0m\u001b[0martist\u001b[0m\u001b[0;34m,\u001b[0m \u001b[0mrenderer\u001b[0m\u001b[0;34m)\u001b[0m\u001b[0;34m\u001b[0m\u001b[0;34m\u001b[0m\u001b[0m\n\u001b[0m\u001b[1;32m     51\u001b[0m         \u001b[0;32mfinally\u001b[0m\u001b[0;34m:\u001b[0m\u001b[0;34m\u001b[0m\u001b[0;34m\u001b[0m\u001b[0m\n\u001b[1;32m     52\u001b[0m             \u001b[0;32mif\u001b[0m \u001b[0martist\u001b[0m\u001b[0;34m.\u001b[0m\u001b[0mget_agg_filter\u001b[0m\u001b[0;34m(\u001b[0m\u001b[0;34m)\u001b[0m \u001b[0;32mis\u001b[0m \u001b[0;32mnot\u001b[0m \u001b[0;32mNone\u001b[0m\u001b[0;34m:\u001b[0m\u001b[0;34m\u001b[0m\u001b[0;34m\u001b[0m\u001b[0m\n",
      "\u001b[0;32m~/opt/anaconda3/envs/celldancer/lib/python3.7/site-packages/matplotlib/collections.py\u001b[0m in \u001b[0;36mdraw\u001b[0;34m(self, renderer)\u001b[0m\n\u001b[1;32m    987\u001b[0m     \u001b[0;32mdef\u001b[0m \u001b[0mdraw\u001b[0m\u001b[0;34m(\u001b[0m\u001b[0mself\u001b[0m\u001b[0;34m,\u001b[0m \u001b[0mrenderer\u001b[0m\u001b[0;34m)\u001b[0m\u001b[0;34m:\u001b[0m\u001b[0;34m\u001b[0m\u001b[0;34m\u001b[0m\u001b[0m\n\u001b[1;32m    988\u001b[0m         \u001b[0mself\u001b[0m\u001b[0;34m.\u001b[0m\u001b[0mset_sizes\u001b[0m\u001b[0;34m(\u001b[0m\u001b[0mself\u001b[0m\u001b[0;34m.\u001b[0m\u001b[0m_sizes\u001b[0m\u001b[0;34m,\u001b[0m \u001b[0mself\u001b[0m\u001b[0;34m.\u001b[0m\u001b[0mfigure\u001b[0m\u001b[0;34m.\u001b[0m\u001b[0mdpi\u001b[0m\u001b[0;34m)\u001b[0m\u001b[0;34m\u001b[0m\u001b[0;34m\u001b[0m\u001b[0m\n\u001b[0;32m--> 989\u001b[0;31m         \u001b[0msuper\u001b[0m\u001b[0;34m(\u001b[0m\u001b[0;34m)\u001b[0m\u001b[0;34m.\u001b[0m\u001b[0mdraw\u001b[0m\u001b[0;34m(\u001b[0m\u001b[0mrenderer\u001b[0m\u001b[0;34m)\u001b[0m\u001b[0;34m\u001b[0m\u001b[0;34m\u001b[0m\u001b[0m\n\u001b[0m\u001b[1;32m    990\u001b[0m \u001b[0;34m\u001b[0m\u001b[0m\n\u001b[1;32m    991\u001b[0m \u001b[0;34m\u001b[0m\u001b[0m\n",
      "\u001b[0;32m~/opt/anaconda3/envs/celldancer/lib/python3.7/site-packages/matplotlib/artist.py\u001b[0m in \u001b[0;36mdraw_wrapper\u001b[0;34m(artist, renderer)\u001b[0m\n\u001b[1;32m     48\u001b[0m                 \u001b[0mrenderer\u001b[0m\u001b[0;34m.\u001b[0m\u001b[0mstart_filter\u001b[0m\u001b[0;34m(\u001b[0m\u001b[0;34m)\u001b[0m\u001b[0;34m\u001b[0m\u001b[0;34m\u001b[0m\u001b[0m\n\u001b[1;32m     49\u001b[0m \u001b[0;34m\u001b[0m\u001b[0m\n\u001b[0;32m---> 50\u001b[0;31m             \u001b[0;32mreturn\u001b[0m \u001b[0mdraw\u001b[0m\u001b[0;34m(\u001b[0m\u001b[0martist\u001b[0m\u001b[0;34m,\u001b[0m \u001b[0mrenderer\u001b[0m\u001b[0;34m)\u001b[0m\u001b[0;34m\u001b[0m\u001b[0;34m\u001b[0m\u001b[0m\n\u001b[0m\u001b[1;32m     51\u001b[0m         \u001b[0;32mfinally\u001b[0m\u001b[0;34m:\u001b[0m\u001b[0;34m\u001b[0m\u001b[0;34m\u001b[0m\u001b[0m\n\u001b[1;32m     52\u001b[0m             \u001b[0;32mif\u001b[0m \u001b[0martist\u001b[0m\u001b[0;34m.\u001b[0m\u001b[0mget_agg_filter\u001b[0m\u001b[0;34m(\u001b[0m\u001b[0;34m)\u001b[0m \u001b[0;32mis\u001b[0m \u001b[0;32mnot\u001b[0m \u001b[0;32mNone\u001b[0m\u001b[0;34m:\u001b[0m\u001b[0;34m\u001b[0m\u001b[0;34m\u001b[0m\u001b[0m\n",
      "\u001b[0;32m~/opt/anaconda3/envs/celldancer/lib/python3.7/site-packages/matplotlib/collections.py\u001b[0m in \u001b[0;36mdraw\u001b[0;34m(self, renderer)\u001b[0m\n\u001b[1;32m    364\u001b[0m         \u001b[0mrenderer\u001b[0m\u001b[0;34m.\u001b[0m\u001b[0mopen_group\u001b[0m\u001b[0;34m(\u001b[0m\u001b[0mself\u001b[0m\u001b[0;34m.\u001b[0m\u001b[0m__class__\u001b[0m\u001b[0;34m.\u001b[0m\u001b[0m__name__\u001b[0m\u001b[0;34m,\u001b[0m \u001b[0mself\u001b[0m\u001b[0;34m.\u001b[0m\u001b[0mget_gid\u001b[0m\u001b[0;34m(\u001b[0m\u001b[0;34m)\u001b[0m\u001b[0;34m)\u001b[0m\u001b[0;34m\u001b[0m\u001b[0;34m\u001b[0m\u001b[0m\n\u001b[1;32m    365\u001b[0m \u001b[0;34m\u001b[0m\u001b[0m\n\u001b[0;32m--> 366\u001b[0;31m         \u001b[0mself\u001b[0m\u001b[0;34m.\u001b[0m\u001b[0mupdate_scalarmappable\u001b[0m\u001b[0;34m(\u001b[0m\u001b[0;34m)\u001b[0m\u001b[0;34m\u001b[0m\u001b[0;34m\u001b[0m\u001b[0m\n\u001b[0m\u001b[1;32m    367\u001b[0m \u001b[0;34m\u001b[0m\u001b[0m\n\u001b[1;32m    368\u001b[0m         \u001b[0mtransform\u001b[0m\u001b[0;34m,\u001b[0m \u001b[0mtransOffset\u001b[0m\u001b[0;34m,\u001b[0m \u001b[0moffsets\u001b[0m\u001b[0;34m,\u001b[0m \u001b[0mpaths\u001b[0m \u001b[0;34m=\u001b[0m \u001b[0mself\u001b[0m\u001b[0;34m.\u001b[0m\u001b[0m_prepare_points\u001b[0m\u001b[0;34m(\u001b[0m\u001b[0;34m)\u001b[0m\u001b[0;34m\u001b[0m\u001b[0;34m\u001b[0m\u001b[0m\n",
      "\u001b[0;32m~/opt/anaconda3/envs/celldancer/lib/python3.7/site-packages/matplotlib/collections.py\u001b[0m in \u001b[0;36mupdate_scalarmappable\u001b[0;34m(self)\u001b[0m\n\u001b[1;32m    902\u001b[0m                 \u001b[0;31m# pcolormesh, scatter, maybe others flatten their _A\u001b[0m\u001b[0;34m\u001b[0m\u001b[0;34m\u001b[0m\u001b[0;34m\u001b[0m\u001b[0m\n\u001b[1;32m    903\u001b[0m                 \u001b[0mself\u001b[0m\u001b[0;34m.\u001b[0m\u001b[0m_alpha\u001b[0m \u001b[0;34m=\u001b[0m \u001b[0mself\u001b[0m\u001b[0;34m.\u001b[0m\u001b[0m_alpha\u001b[0m\u001b[0;34m.\u001b[0m\u001b[0mreshape\u001b[0m\u001b[0;34m(\u001b[0m\u001b[0mself\u001b[0m\u001b[0;34m.\u001b[0m\u001b[0m_A\u001b[0m\u001b[0;34m.\u001b[0m\u001b[0mshape\u001b[0m\u001b[0;34m)\u001b[0m\u001b[0;34m\u001b[0m\u001b[0;34m\u001b[0m\u001b[0m\n\u001b[0;32m--> 904\u001b[0;31m             \u001b[0mself\u001b[0m\u001b[0;34m.\u001b[0m\u001b[0m_mapped_colors\u001b[0m \u001b[0;34m=\u001b[0m \u001b[0mself\u001b[0m\u001b[0;34m.\u001b[0m\u001b[0mto_rgba\u001b[0m\u001b[0;34m(\u001b[0m\u001b[0mself\u001b[0m\u001b[0;34m.\u001b[0m\u001b[0m_A\u001b[0m\u001b[0;34m,\u001b[0m \u001b[0mself\u001b[0m\u001b[0;34m.\u001b[0m\u001b[0m_alpha\u001b[0m\u001b[0;34m)\u001b[0m\u001b[0;34m\u001b[0m\u001b[0;34m\u001b[0m\u001b[0m\n\u001b[0m\u001b[1;32m    905\u001b[0m \u001b[0;34m\u001b[0m\u001b[0m\n\u001b[1;32m    906\u001b[0m         \u001b[0;32mif\u001b[0m \u001b[0mself\u001b[0m\u001b[0;34m.\u001b[0m\u001b[0m_face_is_mapped\u001b[0m\u001b[0;34m:\u001b[0m\u001b[0;34m\u001b[0m\u001b[0;34m\u001b[0m\u001b[0m\n",
      "\u001b[0;32m~/opt/anaconda3/envs/celldancer/lib/python3.7/site-packages/matplotlib/cm.py\u001b[0m in \u001b[0;36mto_rgba\u001b[0;34m(self, x, alpha, bytes, norm)\u001b[0m\n\u001b[1;32m    454\u001b[0m         \u001b[0;32mif\u001b[0m \u001b[0mnorm\u001b[0m\u001b[0;34m:\u001b[0m\u001b[0;34m\u001b[0m\u001b[0;34m\u001b[0m\u001b[0m\n\u001b[1;32m    455\u001b[0m             \u001b[0mx\u001b[0m \u001b[0;34m=\u001b[0m \u001b[0mself\u001b[0m\u001b[0;34m.\u001b[0m\u001b[0mnorm\u001b[0m\u001b[0;34m(\u001b[0m\u001b[0mx\u001b[0m\u001b[0;34m)\u001b[0m\u001b[0;34m\u001b[0m\u001b[0;34m\u001b[0m\u001b[0m\n\u001b[0;32m--> 456\u001b[0;31m         \u001b[0mrgba\u001b[0m \u001b[0;34m=\u001b[0m \u001b[0mself\u001b[0m\u001b[0;34m.\u001b[0m\u001b[0mcmap\u001b[0m\u001b[0;34m(\u001b[0m\u001b[0mx\u001b[0m\u001b[0;34m,\u001b[0m \u001b[0malpha\u001b[0m\u001b[0;34m=\u001b[0m\u001b[0malpha\u001b[0m\u001b[0;34m,\u001b[0m \u001b[0mbytes\u001b[0m\u001b[0;34m=\u001b[0m\u001b[0mbytes\u001b[0m\u001b[0;34m)\u001b[0m\u001b[0;34m\u001b[0m\u001b[0;34m\u001b[0m\u001b[0m\n\u001b[0m\u001b[1;32m    457\u001b[0m         \u001b[0;32mreturn\u001b[0m \u001b[0mrgba\u001b[0m\u001b[0;34m\u001b[0m\u001b[0;34m\u001b[0m\u001b[0m\n\u001b[1;32m    458\u001b[0m \u001b[0;34m\u001b[0m\u001b[0m\n",
      "\u001b[0;32m~/opt/anaconda3/envs/celldancer/lib/python3.7/site-packages/matplotlib/colors.py\u001b[0m in \u001b[0;36m__call__\u001b[0;34m(self, X, alpha, bytes)\u001b[0m\n\u001b[1;32m    611\u001b[0m         \"\"\"\n\u001b[1;32m    612\u001b[0m         \u001b[0;32mif\u001b[0m \u001b[0;32mnot\u001b[0m \u001b[0mself\u001b[0m\u001b[0;34m.\u001b[0m\u001b[0m_isinit\u001b[0m\u001b[0;34m:\u001b[0m\u001b[0;34m\u001b[0m\u001b[0;34m\u001b[0m\u001b[0m\n\u001b[0;32m--> 613\u001b[0;31m             \u001b[0mself\u001b[0m\u001b[0;34m.\u001b[0m\u001b[0m_init\u001b[0m\u001b[0;34m(\u001b[0m\u001b[0;34m)\u001b[0m\u001b[0;34m\u001b[0m\u001b[0;34m\u001b[0m\u001b[0m\n\u001b[0m\u001b[1;32m    614\u001b[0m \u001b[0;34m\u001b[0m\u001b[0m\n\u001b[1;32m    615\u001b[0m         \u001b[0mmask_bad\u001b[0m \u001b[0;34m=\u001b[0m \u001b[0mX\u001b[0m\u001b[0;34m.\u001b[0m\u001b[0mmask\u001b[0m \u001b[0;32mif\u001b[0m \u001b[0mnp\u001b[0m\u001b[0;34m.\u001b[0m\u001b[0mma\u001b[0m\u001b[0;34m.\u001b[0m\u001b[0mis_masked\u001b[0m\u001b[0;34m(\u001b[0m\u001b[0mX\u001b[0m\u001b[0;34m)\u001b[0m \u001b[0;32melse\u001b[0m \u001b[0mnp\u001b[0m\u001b[0;34m.\u001b[0m\u001b[0misnan\u001b[0m\u001b[0;34m(\u001b[0m\u001b[0mX\u001b[0m\u001b[0;34m)\u001b[0m  \u001b[0;31m# Mask nan's.\u001b[0m\u001b[0;34m\u001b[0m\u001b[0;34m\u001b[0m\u001b[0m\n",
      "\u001b[0;32m~/opt/anaconda3/envs/celldancer/lib/python3.7/site-packages/matplotlib/colors.py\u001b[0m in \u001b[0;36m_init\u001b[0;34m(self)\u001b[0m\n\u001b[1;32m   1064\u001b[0m     \u001b[0;32mdef\u001b[0m \u001b[0m_init\u001b[0m\u001b[0;34m(\u001b[0m\u001b[0mself\u001b[0m\u001b[0;34m)\u001b[0m\u001b[0;34m:\u001b[0m\u001b[0;34m\u001b[0m\u001b[0;34m\u001b[0m\u001b[0m\n\u001b[1;32m   1065\u001b[0m         \u001b[0mself\u001b[0m\u001b[0;34m.\u001b[0m\u001b[0m_lut\u001b[0m \u001b[0;34m=\u001b[0m \u001b[0mnp\u001b[0m\u001b[0;34m.\u001b[0m\u001b[0mzeros\u001b[0m\u001b[0;34m(\u001b[0m\u001b[0;34m(\u001b[0m\u001b[0mself\u001b[0m\u001b[0;34m.\u001b[0m\u001b[0mN\u001b[0m \u001b[0;34m+\u001b[0m \u001b[0;36m3\u001b[0m\u001b[0;34m,\u001b[0m \u001b[0;36m4\u001b[0m\u001b[0;34m)\u001b[0m\u001b[0;34m,\u001b[0m \u001b[0mfloat\u001b[0m\u001b[0;34m)\u001b[0m\u001b[0;34m\u001b[0m\u001b[0;34m\u001b[0m\u001b[0m\n\u001b[0;32m-> 1066\u001b[0;31m         \u001b[0mself\u001b[0m\u001b[0;34m.\u001b[0m\u001b[0m_lut\u001b[0m\u001b[0;34m[\u001b[0m\u001b[0;34m:\u001b[0m\u001b[0;34m-\u001b[0m\u001b[0;36m3\u001b[0m\u001b[0;34m]\u001b[0m \u001b[0;34m=\u001b[0m \u001b[0mto_rgba_array\u001b[0m\u001b[0;34m(\u001b[0m\u001b[0mself\u001b[0m\u001b[0;34m.\u001b[0m\u001b[0mcolors\u001b[0m\u001b[0;34m)\u001b[0m\u001b[0;34m\u001b[0m\u001b[0;34m\u001b[0m\u001b[0m\n\u001b[0m\u001b[1;32m   1067\u001b[0m         \u001b[0mself\u001b[0m\u001b[0;34m.\u001b[0m\u001b[0m_isinit\u001b[0m \u001b[0;34m=\u001b[0m \u001b[0;32mTrue\u001b[0m\u001b[0;34m\u001b[0m\u001b[0;34m\u001b[0m\u001b[0m\n\u001b[1;32m   1068\u001b[0m         \u001b[0mself\u001b[0m\u001b[0;34m.\u001b[0m\u001b[0m_set_extremes\u001b[0m\u001b[0;34m(\u001b[0m\u001b[0;34m)\u001b[0m\u001b[0;34m\u001b[0m\u001b[0;34m\u001b[0m\u001b[0m\n",
      "\u001b[0;32m~/opt/anaconda3/envs/celldancer/lib/python3.7/site-packages/matplotlib/colors.py\u001b[0m in \u001b[0;36mto_rgba_array\u001b[0;34m(c, alpha)\u001b[0m\n\u001b[1;32m    373\u001b[0m             \u001b[0mrgba\u001b[0m \u001b[0;34m=\u001b[0m \u001b[0mnp\u001b[0m\u001b[0;34m.\u001b[0m\u001b[0marray\u001b[0m\u001b[0;34m(\u001b[0m\u001b[0mc\u001b[0m\u001b[0;34m)\u001b[0m\u001b[0;34m\u001b[0m\u001b[0;34m\u001b[0m\u001b[0m\n\u001b[1;32m    374\u001b[0m         \u001b[0;32melse\u001b[0m\u001b[0;34m:\u001b[0m\u001b[0;34m\u001b[0m\u001b[0;34m\u001b[0m\u001b[0m\n\u001b[0;32m--> 375\u001b[0;31m             \u001b[0mrgba\u001b[0m \u001b[0;34m=\u001b[0m \u001b[0mnp\u001b[0m\u001b[0;34m.\u001b[0m\u001b[0marray\u001b[0m\u001b[0;34m(\u001b[0m\u001b[0;34m[\u001b[0m\u001b[0mto_rgba\u001b[0m\u001b[0;34m(\u001b[0m\u001b[0mcc\u001b[0m\u001b[0;34m)\u001b[0m \u001b[0;32mfor\u001b[0m \u001b[0mcc\u001b[0m \u001b[0;32min\u001b[0m \u001b[0mc\u001b[0m\u001b[0;34m]\u001b[0m\u001b[0;34m)\u001b[0m\u001b[0;34m\u001b[0m\u001b[0;34m\u001b[0m\u001b[0m\n\u001b[0m\u001b[1;32m    376\u001b[0m     \u001b[0;32melse\u001b[0m\u001b[0;34m:\u001b[0m\u001b[0;34m\u001b[0m\u001b[0;34m\u001b[0m\u001b[0m\n\u001b[1;32m    377\u001b[0m         \u001b[0mrgba\u001b[0m \u001b[0;34m=\u001b[0m \u001b[0mnp\u001b[0m\u001b[0;34m.\u001b[0m\u001b[0marray\u001b[0m\u001b[0;34m(\u001b[0m\u001b[0;34m[\u001b[0m\u001b[0mto_rgba\u001b[0m\u001b[0;34m(\u001b[0m\u001b[0mcc\u001b[0m\u001b[0;34m)\u001b[0m \u001b[0;32mfor\u001b[0m \u001b[0mcc\u001b[0m \u001b[0;32min\u001b[0m \u001b[0mc\u001b[0m\u001b[0;34m]\u001b[0m\u001b[0;34m)\u001b[0m\u001b[0;34m\u001b[0m\u001b[0;34m\u001b[0m\u001b[0m\n",
      "\u001b[0;32m~/opt/anaconda3/envs/celldancer/lib/python3.7/site-packages/matplotlib/colors.py\u001b[0m in \u001b[0;36m<listcomp>\u001b[0;34m(.0)\u001b[0m\n\u001b[1;32m    373\u001b[0m             \u001b[0mrgba\u001b[0m \u001b[0;34m=\u001b[0m \u001b[0mnp\u001b[0m\u001b[0;34m.\u001b[0m\u001b[0marray\u001b[0m\u001b[0;34m(\u001b[0m\u001b[0mc\u001b[0m\u001b[0;34m)\u001b[0m\u001b[0;34m\u001b[0m\u001b[0;34m\u001b[0m\u001b[0m\n\u001b[1;32m    374\u001b[0m         \u001b[0;32melse\u001b[0m\u001b[0;34m:\u001b[0m\u001b[0;34m\u001b[0m\u001b[0;34m\u001b[0m\u001b[0m\n\u001b[0;32m--> 375\u001b[0;31m             \u001b[0mrgba\u001b[0m \u001b[0;34m=\u001b[0m \u001b[0mnp\u001b[0m\u001b[0;34m.\u001b[0m\u001b[0marray\u001b[0m\u001b[0;34m(\u001b[0m\u001b[0;34m[\u001b[0m\u001b[0mto_rgba\u001b[0m\u001b[0;34m(\u001b[0m\u001b[0mcc\u001b[0m\u001b[0;34m)\u001b[0m \u001b[0;32mfor\u001b[0m \u001b[0mcc\u001b[0m \u001b[0;32min\u001b[0m \u001b[0mc\u001b[0m\u001b[0;34m]\u001b[0m\u001b[0;34m)\u001b[0m\u001b[0;34m\u001b[0m\u001b[0;34m\u001b[0m\u001b[0m\n\u001b[0m\u001b[1;32m    376\u001b[0m     \u001b[0;32melse\u001b[0m\u001b[0;34m:\u001b[0m\u001b[0;34m\u001b[0m\u001b[0;34m\u001b[0m\u001b[0m\n\u001b[1;32m    377\u001b[0m         \u001b[0mrgba\u001b[0m \u001b[0;34m=\u001b[0m \u001b[0mnp\u001b[0m\u001b[0;34m.\u001b[0m\u001b[0marray\u001b[0m\u001b[0;34m(\u001b[0m\u001b[0;34m[\u001b[0m\u001b[0mto_rgba\u001b[0m\u001b[0;34m(\u001b[0m\u001b[0mcc\u001b[0m\u001b[0;34m)\u001b[0m \u001b[0;32mfor\u001b[0m \u001b[0mcc\u001b[0m \u001b[0;32min\u001b[0m \u001b[0mc\u001b[0m\u001b[0;34m]\u001b[0m\u001b[0;34m)\u001b[0m\u001b[0;34m\u001b[0m\u001b[0;34m\u001b[0m\u001b[0m\n",
      "\u001b[0;32m~/opt/anaconda3/envs/celldancer/lib/python3.7/site-packages/matplotlib/colors.py\u001b[0m in \u001b[0;36mto_rgba\u001b[0;34m(c, alpha)\u001b[0m\n\u001b[1;32m    185\u001b[0m         \u001b[0mrgba\u001b[0m \u001b[0;34m=\u001b[0m \u001b[0;32mNone\u001b[0m\u001b[0;34m\u001b[0m\u001b[0;34m\u001b[0m\u001b[0m\n\u001b[1;32m    186\u001b[0m     \u001b[0;32mif\u001b[0m \u001b[0mrgba\u001b[0m \u001b[0;32mis\u001b[0m \u001b[0;32mNone\u001b[0m\u001b[0;34m:\u001b[0m  \u001b[0;31m# Suppress exception chaining of cache lookup failure.\u001b[0m\u001b[0;34m\u001b[0m\u001b[0;34m\u001b[0m\u001b[0m\n\u001b[0;32m--> 187\u001b[0;31m         \u001b[0mrgba\u001b[0m \u001b[0;34m=\u001b[0m \u001b[0m_to_rgba_no_colorcycle\u001b[0m\u001b[0;34m(\u001b[0m\u001b[0mc\u001b[0m\u001b[0;34m,\u001b[0m \u001b[0malpha\u001b[0m\u001b[0;34m)\u001b[0m\u001b[0;34m\u001b[0m\u001b[0;34m\u001b[0m\u001b[0m\n\u001b[0m\u001b[1;32m    188\u001b[0m         \u001b[0;32mtry\u001b[0m\u001b[0;34m:\u001b[0m\u001b[0;34m\u001b[0m\u001b[0;34m\u001b[0m\u001b[0m\n\u001b[1;32m    189\u001b[0m             \u001b[0m_colors_full_map\u001b[0m\u001b[0;34m.\u001b[0m\u001b[0mcache\u001b[0m\u001b[0;34m[\u001b[0m\u001b[0mc\u001b[0m\u001b[0;34m,\u001b[0m \u001b[0malpha\u001b[0m\u001b[0;34m]\u001b[0m \u001b[0;34m=\u001b[0m \u001b[0mrgba\u001b[0m\u001b[0;34m\u001b[0m\u001b[0;34m\u001b[0m\u001b[0m\n",
      "\u001b[0;32m~/opt/anaconda3/envs/celldancer/lib/python3.7/site-packages/matplotlib/colors.py\u001b[0m in \u001b[0;36m_to_rgba_no_colorcycle\u001b[0;34m(c, alpha)\u001b[0m\n\u001b[1;32m    260\u001b[0m                     f\"Value must be within 0-1 range\")\n\u001b[1;32m    261\u001b[0m             \u001b[0;32mreturn\u001b[0m \u001b[0mc\u001b[0m\u001b[0;34m,\u001b[0m \u001b[0mc\u001b[0m\u001b[0;34m,\u001b[0m \u001b[0mc\u001b[0m\u001b[0;34m,\u001b[0m \u001b[0malpha\u001b[0m \u001b[0;32mif\u001b[0m \u001b[0malpha\u001b[0m \u001b[0;32mis\u001b[0m \u001b[0;32mnot\u001b[0m \u001b[0;32mNone\u001b[0m \u001b[0;32melse\u001b[0m \u001b[0;36m1.\u001b[0m\u001b[0;34m\u001b[0m\u001b[0;34m\u001b[0m\u001b[0m\n\u001b[0;32m--> 262\u001b[0;31m         \u001b[0;32mraise\u001b[0m \u001b[0mValueError\u001b[0m\u001b[0;34m(\u001b[0m\u001b[0;34mf\"Invalid RGBA argument: {orig_c!r}\"\u001b[0m\u001b[0;34m)\u001b[0m\u001b[0;34m\u001b[0m\u001b[0;34m\u001b[0m\u001b[0m\n\u001b[0m\u001b[1;32m    263\u001b[0m     \u001b[0;31m# turn 2-D array into 1-D array\u001b[0m\u001b[0;34m\u001b[0m\u001b[0;34m\u001b[0m\u001b[0;34m\u001b[0m\u001b[0m\n\u001b[1;32m    264\u001b[0m     \u001b[0;32mif\u001b[0m \u001b[0misinstance\u001b[0m\u001b[0;34m(\u001b[0m\u001b[0mc\u001b[0m\u001b[0;34m,\u001b[0m \u001b[0mnp\u001b[0m\u001b[0;34m.\u001b[0m\u001b[0mndarray\u001b[0m\u001b[0;34m)\u001b[0m\u001b[0;34m:\u001b[0m\u001b[0;34m\u001b[0m\u001b[0;34m\u001b[0m\u001b[0m\n",
      "\u001b[0;31mValueError\u001b[0m: Invalid RGBA argument: 'Ductal'"
     ]
    },
    {
     "data": {
      "text/plain": [
       "<Figure size 1440x288 with 1 Axes>"
      ]
     },
     "metadata": {
      "needs_background": "light"
     },
     "output_type": "display_data"
    }
   ],
   "source": [
    "ncols=5\n",
    "\n",
    "\n",
    "gene_list=[\"Sulf2\"]\n",
    "height=math.ceil(len(gene_list)/5)*4\n",
    "fig = plt.figure(figsize=(20,height))\n",
    "\n",
    "for i in range(len(gene_list)):\n",
    "    ax = fig.add_subplot(math.ceil(len(gene_list)/ncols), ncols, i+1)\n",
    "    cdplt.gene.scatter_gene(\n",
    "        ax=ax,\n",
    "        x='spliced',\n",
    "        y='unspliced',\n",
    "        load_cellDancer=load_cellDancer,\n",
    "        save_path=None,\n",
    "        custom_xlim=None,\n",
    "        custom_ylim=None,\n",
    "        colors=cdplt.colormap.colormap_pancreas,\n",
    "        alpha=0.5, \n",
    "        s = 5,\n",
    "        velocity=True,\n",
    "        gene_name=gene_list[i])\n",
    "    \n",
    "    ax.set_title(gene_list[i])\n",
    "    ax.axis('off')\n",
    "\n",
    "plt.show()"
   ]
  },
  {
   "cell_type": "markdown",
   "id": "8a24696c-2017-461c-87d3-07358fa194a0",
   "metadata": {},
   "source": [
    "## Load velocity estimation result of 2000 genes"
   ]
  },
  {
   "cell_type": "code",
   "execution_count": 5,
   "id": "6aa998f4-9dcc-405e-b4a9-e99a8bab7107",
   "metadata": {
    "scrolled": true
   },
   "outputs": [
    {
     "data": {
      "text/html": [
       "<div>\n",
       "<style scoped>\n",
       "    .dataframe tbody tr th:only-of-type {\n",
       "        vertical-align: middle;\n",
       "    }\n",
       "\n",
       "    .dataframe tbody tr th {\n",
       "        vertical-align: top;\n",
       "    }\n",
       "\n",
       "    .dataframe thead th {\n",
       "        text-align: right;\n",
       "    }\n",
       "</style>\n",
       "<table border=\"1\" class=\"dataframe\">\n",
       "  <thead>\n",
       "    <tr style=\"text-align: right;\">\n",
       "      <th></th>\n",
       "      <th>cellIndex</th>\n",
       "      <th>gene_name</th>\n",
       "      <th>s0</th>\n",
       "      <th>u0</th>\n",
       "      <th>s1</th>\n",
       "      <th>u1</th>\n",
       "      <th>alpha</th>\n",
       "      <th>beta</th>\n",
       "      <th>gamma</th>\n",
       "      <th>cost</th>\n",
       "      <th>clusters</th>\n",
       "      <th>cellID</th>\n",
       "      <th>embedding1</th>\n",
       "      <th>embedding2</th>\n",
       "    </tr>\n",
       "  </thead>\n",
       "  <tbody>\n",
       "    <tr>\n",
       "      <th>0</th>\n",
       "      <td>0</td>\n",
       "      <td>2010107G23Rik</td>\n",
       "      <td>0.645871</td>\n",
       "      <td>0.000000</td>\n",
       "      <td>0.631752</td>\n",
       "      <td>0.000444</td>\n",
       "      <td>0.004090</td>\n",
       "      <td>0.033074</td>\n",
       "      <td>0.143236</td>\n",
       "      <td>0.085577</td>\n",
       "      <td>Pre-endocrine</td>\n",
       "      <td>AAACCTGAGAGGGATA</td>\n",
       "      <td>6.143066</td>\n",
       "      <td>-0.063644</td>\n",
       "    </tr>\n",
       "    <tr>\n",
       "      <th>1</th>\n",
       "      <td>1</td>\n",
       "      <td>2010107G23Rik</td>\n",
       "      <td>0.659958</td>\n",
       "      <td>0.050844</td>\n",
       "      <td>0.667935</td>\n",
       "      <td>0.049499</td>\n",
       "      <td>0.002315</td>\n",
       "      <td>0.013641</td>\n",
       "      <td>0.159593</td>\n",
       "      <td>0.085577</td>\n",
       "      <td>Ductal</td>\n",
       "      <td>AAACCTGAGCCTTGAT</td>\n",
       "      <td>-9.906417</td>\n",
       "      <td>0.197778</td>\n",
       "    </tr>\n",
       "    <tr>\n",
       "      <th>2</th>\n",
       "      <td>2</td>\n",
       "      <td>2010107G23Rik</td>\n",
       "      <td>0.536477</td>\n",
       "      <td>0.031027</td>\n",
       "      <td>0.543241</td>\n",
       "      <td>0.030047</td>\n",
       "      <td>0.002852</td>\n",
       "      <td>0.018068</td>\n",
       "      <td>0.154822</td>\n",
       "      <td>0.085577</td>\n",
       "      <td>Alpha</td>\n",
       "      <td>AAACCTGAGGCAATTA</td>\n",
       "      <td>7.559791</td>\n",
       "      <td>0.583762</td>\n",
       "    </tr>\n",
       "    <tr>\n",
       "      <th>3</th>\n",
       "      <td>3</td>\n",
       "      <td>2010107G23Rik</td>\n",
       "      <td>0.172749</td>\n",
       "      <td>0.000000</td>\n",
       "      <td>0.168829</td>\n",
       "      <td>0.000422</td>\n",
       "      <td>0.003884</td>\n",
       "      <td>0.025258</td>\n",
       "      <td>0.148675</td>\n",
       "      <td>0.085577</td>\n",
       "      <td>Ductal</td>\n",
       "      <td>AAACCTGCATCATCCC</td>\n",
       "      <td>-11.283765</td>\n",
       "      <td>4.218998</td>\n",
       "    </tr>\n",
       "    <tr>\n",
       "      <th>4</th>\n",
       "      <td>4</td>\n",
       "      <td>2010107G23Rik</td>\n",
       "      <td>2.669759</td>\n",
       "      <td>0.024144</td>\n",
       "      <td>2.671663</td>\n",
       "      <td>0.020978</td>\n",
       "      <td>0.003705</td>\n",
       "      <td>0.064247</td>\n",
       "      <td>0.127344</td>\n",
       "      <td>0.085577</td>\n",
       "      <td>Ngn3 high EP</td>\n",
       "      <td>AAACCTGGTAAGTGGC</td>\n",
       "      <td>1.721565</td>\n",
       "      <td>-4.753407</td>\n",
       "    </tr>\n",
       "    <tr>\n",
       "      <th>...</th>\n",
       "      <td>...</td>\n",
       "      <td>...</td>\n",
       "      <td>...</td>\n",
       "      <td>...</td>\n",
       "      <td>...</td>\n",
       "      <td>...</td>\n",
       "      <td>...</td>\n",
       "      <td>...</td>\n",
       "      <td>...</td>\n",
       "      <td>...</td>\n",
       "      <td>...</td>\n",
       "      <td>...</td>\n",
       "      <td>...</td>\n",
       "      <td>...</td>\n",
       "    </tr>\n",
       "    <tr>\n",
       "      <th>7391995</th>\n",
       "      <td>3691</td>\n",
       "      <td>Zfp949</td>\n",
       "      <td>0.175796</td>\n",
       "      <td>0.175190</td>\n",
       "      <td>0.163429</td>\n",
       "      <td>0.174457</td>\n",
       "      <td>0.209083</td>\n",
       "      <td>0.203498</td>\n",
       "      <td>0.271190</td>\n",
       "      <td>0.043265</td>\n",
       "      <td>Pre-endocrine</td>\n",
       "      <td>TTTGTCAAGTGACATA</td>\n",
       "      <td>4.768472</td>\n",
       "      <td>-1.388353</td>\n",
       "    </tr>\n",
       "    <tr>\n",
       "      <th>7391996</th>\n",
       "      <td>3692</td>\n",
       "      <td>Zfp949</td>\n",
       "      <td>0.078194</td>\n",
       "      <td>0.130215</td>\n",
       "      <td>0.086273</td>\n",
       "      <td>0.142232</td>\n",
       "      <td>0.216891</td>\n",
       "      <td>0.203658</td>\n",
       "      <td>0.268408</td>\n",
       "      <td>0.043265</td>\n",
       "      <td>Ngn3 high EP</td>\n",
       "      <td>TTTGTCAAGTGTGGCA</td>\n",
       "      <td>-1.873335</td>\n",
       "      <td>-4.182650</td>\n",
       "    </tr>\n",
       "    <tr>\n",
       "      <th>7391997</th>\n",
       "      <td>3693</td>\n",
       "      <td>Zfp949</td>\n",
       "      <td>0.000000</td>\n",
       "      <td>0.044002</td>\n",
       "      <td>0.011225</td>\n",
       "      <td>0.076212</td>\n",
       "      <td>0.210932</td>\n",
       "      <td>0.204190</td>\n",
       "      <td>0.266029</td>\n",
       "      <td>0.043265</td>\n",
       "      <td>Ductal</td>\n",
       "      <td>TTTGTCAGTTGTTTGG</td>\n",
       "      <td>-9.882250</td>\n",
       "      <td>-0.105594</td>\n",
       "    </tr>\n",
       "    <tr>\n",
       "      <th>7391998</th>\n",
       "      <td>3694</td>\n",
       "      <td>Zfp949</td>\n",
       "      <td>0.041343</td>\n",
       "      <td>0.086365</td>\n",
       "      <td>0.050158</td>\n",
       "      <td>0.108793</td>\n",
       "      <td>0.214619</td>\n",
       "      <td>0.203931</td>\n",
       "      <td>0.267263</td>\n",
       "      <td>0.043265</td>\n",
       "      <td>Alpha</td>\n",
       "      <td>TTTGTCATCGAATGCT</td>\n",
       "      <td>6.612424</td>\n",
       "      <td>4.531895</td>\n",
       "    </tr>\n",
       "    <tr>\n",
       "      <th>7391999</th>\n",
       "      <td>3695</td>\n",
       "      <td>Zfp949</td>\n",
       "      <td>0.085127</td>\n",
       "      <td>0.232572</td>\n",
       "      <td>0.116726</td>\n",
       "      <td>0.219691</td>\n",
       "      <td>0.218535</td>\n",
       "      <td>0.202875</td>\n",
       "      <td>0.269143</td>\n",
       "      <td>0.043265</td>\n",
       "      <td>Epsilon</td>\n",
       "      <td>TTTGTCATCTGTTTGT</td>\n",
       "      <td>3.071044</td>\n",
       "      <td>1.120432</td>\n",
       "    </tr>\n",
       "  </tbody>\n",
       "</table>\n",
       "<p>7392000 rows × 14 columns</p>\n",
       "</div>"
      ],
      "text/plain": [
       "         cellIndex      gene_name        s0        u0        s1        u1  \\\n",
       "0                0  2010107G23Rik  0.645871  0.000000  0.631752  0.000444   \n",
       "1                1  2010107G23Rik  0.659958  0.050844  0.667935  0.049499   \n",
       "2                2  2010107G23Rik  0.536477  0.031027  0.543241  0.030047   \n",
       "3                3  2010107G23Rik  0.172749  0.000000  0.168829  0.000422   \n",
       "4                4  2010107G23Rik  2.669759  0.024144  2.671663  0.020978   \n",
       "...            ...            ...       ...       ...       ...       ...   \n",
       "7391995       3691         Zfp949  0.175796  0.175190  0.163429  0.174457   \n",
       "7391996       3692         Zfp949  0.078194  0.130215  0.086273  0.142232   \n",
       "7391997       3693         Zfp949  0.000000  0.044002  0.011225  0.076212   \n",
       "7391998       3694         Zfp949  0.041343  0.086365  0.050158  0.108793   \n",
       "7391999       3695         Zfp949  0.085127  0.232572  0.116726  0.219691   \n",
       "\n",
       "            alpha      beta     gamma      cost       clusters  \\\n",
       "0        0.004090  0.033074  0.143236  0.085577  Pre-endocrine   \n",
       "1        0.002315  0.013641  0.159593  0.085577         Ductal   \n",
       "2        0.002852  0.018068  0.154822  0.085577          Alpha   \n",
       "3        0.003884  0.025258  0.148675  0.085577         Ductal   \n",
       "4        0.003705  0.064247  0.127344  0.085577   Ngn3 high EP   \n",
       "...           ...       ...       ...       ...            ...   \n",
       "7391995  0.209083  0.203498  0.271190  0.043265  Pre-endocrine   \n",
       "7391996  0.216891  0.203658  0.268408  0.043265   Ngn3 high EP   \n",
       "7391997  0.210932  0.204190  0.266029  0.043265         Ductal   \n",
       "7391998  0.214619  0.203931  0.267263  0.043265          Alpha   \n",
       "7391999  0.218535  0.202875  0.269143  0.043265        Epsilon   \n",
       "\n",
       "                   cellID  embedding1  embedding2  \n",
       "0        AAACCTGAGAGGGATA    6.143066   -0.063644  \n",
       "1        AAACCTGAGCCTTGAT   -9.906417    0.197778  \n",
       "2        AAACCTGAGGCAATTA    7.559791    0.583762  \n",
       "3        AAACCTGCATCATCCC  -11.283765    4.218998  \n",
       "4        AAACCTGGTAAGTGGC    1.721565   -4.753407  \n",
       "...                   ...         ...         ...  \n",
       "7391995  TTTGTCAAGTGACATA    4.768472   -1.388353  \n",
       "7391996  TTTGTCAAGTGTGGCA   -1.873335   -4.182650  \n",
       "7391997  TTTGTCAGTTGTTTGG   -9.882250   -0.105594  \n",
       "7391998  TTTGTCATCGAATGCT    6.612424    4.531895  \n",
       "7391999  TTTGTCATCTGTTTGT    3.071044    1.120432  \n",
       "\n",
       "[7392000 rows x 14 columns]"
      ]
     },
     "execution_count": 5,
     "metadata": {},
     "output_type": "execute_result"
    }
   ],
   "source": [
    "#detail_result_path = '/Users/shengyuli/Library/CloudStorage/OneDrive-HoustonMethodist/work/Velocity/data/pancreas/velocity_result/velocity_result_all_genes_with_bin/2000_smooth/combined_detail/combined_detail.csv'\n",
    "detail_file = '/Users/chen.weiqing/code/celldancer/pancreas/combined_detail.csv'\n",
    "\n",
    "output_path = os.getcwd()\n",
    "load_cellDancer=pd.read_csv(detail_file)\n",
    "load_cellDancer"
   ]
  },
  {
   "cell_type": "code",
   "execution_count": 6,
   "id": "c0dcdc76-b8b2-4efb-823a-1f611c884bd0",
   "metadata": {},
   "outputs": [
    {
     "name": "stdout",
     "output_type": "stream",
     "text": [
      "left 412\n"
     ]
    }
   ],
   "source": [
    "def filter_by_u0(cutoff,load_cellDancer):\n",
    "    df_tmp=pd.DataFrame(load_cellDancer.groupby(['gene_name'], sort=False)['u0'].max())\n",
    "    gene_select=list(df_tmp[df_tmp.u0>cutoff].index)\n",
    "    print('left '+str(len(gene_select)))\n",
    "    load_cellDancer_filtered=load_cellDancer[load_cellDancer.gene_name.isin(gene_select)].reset_index(drop=True)\n",
    "    return (load_cellDancer_filtered)\n",
    "load_cellDancer_filtered_u0_1=filter_by_u0(1,load_cellDancer)"
   ]
  },
  {
   "cell_type": "code",
   "execution_count": 7,
   "id": "b9f33514-00b7-4d2b-9267-c629ebefd0cf",
   "metadata": {},
   "outputs": [
    {
     "data": {
      "text/plain": [
       "(0.0, 10.0)"
      ]
     },
     "execution_count": 7,
     "metadata": {},
     "output_type": "execute_result"
    },
    {
     "data": {
      "image/png": "[encoded data removed]",
      "text/plain": [
       "<Figure size 432x288 with 1 Axes>"
      ]
     },
     "metadata": {
      "needs_background": "light"
     },
     "output_type": "display_data"
    }
   ],
   "source": [
    "load_cellDancer.groupby('gene_name').max().hist('u0',bins=10000)\n",
    "plt.xlim(0,10)"
   ]
  },
  {
   "cell_type": "code",
   "execution_count": 8,
   "id": "d8962272-2937-4320-b893-fc818690aa10",
   "metadata": {},
   "outputs": [
    {
     "data": {
      "text/plain": [
       "(0.0, 10.0)"
      ]
     },
     "execution_count": 8,
     "metadata": {},
     "output_type": "execute_result"
    },
    {
     "data": {
      "image/png": "[encoded data removed]",
      "text/plain": [
       "<Figure size 432x288 with 1 Axes>"
      ]
     },
     "metadata": {
      "needs_background": "light"
     },
     "output_type": "display_data"
    }
   ],
   "source": [
    "load_cellDancer.groupby('gene_name').max().hist('s0',bins=10000)\n",
    "plt.xlim(0,10)"
   ]
  },
  {
   "cell_type": "markdown",
   "id": "34cdc007-f5f1-4073-b537-e3095ad2f558",
   "metadata": {},
   "source": [
    "## Compute Cell Velocity and Estimate Pseudotime"
   ]
  },
  {
   "cell_type": "code",
   "execution_count": 9,
   "id": "081b84e0-d3c5-42f8-98b9-23b8cdfbd208",
   "metadata": {},
   "outputs": [
    {
     "name": "stdout",
     "output_type": "stream",
     "text": [
      "The autoreload extension is already loaded. To reload it, use:\n",
      "  %reload_ext autoreload\n"
     ]
    },
    {
     "ename": "NameError",
     "evalue": "name 'transfer_mode' is not defined",
     "output_type": "error",
     "traceback": [
      "\u001b[0;31m---------------------------------------------------------------------------\u001b[0m",
      "\u001b[0;31mNameError\u001b[0m                                 Traceback (most recent call last)",
      "\u001b[0;32m/var/folders/bs/1__9cj197035bl6lc5h6dj8m0000gn/T/ipykernel_54962/1965128608.py\u001b[0m in \u001b[0;36m<module>\u001b[0;34m\u001b[0m\n\u001b[1;32m     15\u001b[0m               \u001b[0mgene_list\u001b[0m\u001b[0;34m=\u001b[0m\u001b[0mgene_choice\u001b[0m\u001b[0;34m,\u001b[0m\u001b[0;34m\u001b[0m\u001b[0;34m\u001b[0m\u001b[0m\n\u001b[1;32m     16\u001b[0m               \u001b[0mmode\u001b[0m\u001b[0;34m=\u001b[0m\u001b[0;34m\"embedding\"\u001b[0m\u001b[0;34m,\u001b[0m\u001b[0;34m\u001b[0m\u001b[0;34m\u001b[0m\u001b[0m\n\u001b[0;32m---> 17\u001b[0;31m               \u001b[0mtransfer_mode\u001b[0m\u001b[0;34m=\u001b[0m\u001b[0mtransfer_mode\u001b[0m\u001b[0;34m,\u001b[0m\u001b[0;31m#'power10',\u001b[0m\u001b[0;34m\u001b[0m\u001b[0;34m\u001b[0m\u001b[0m\n\u001b[0m\u001b[1;32m     18\u001b[0m               \u001b[0mn_neighbors\u001b[0m\u001b[0;34m=\u001b[0m\u001b[0mn_neighbors\u001b[0m\u001b[0;34m,\u001b[0m\u001b[0;34m\u001b[0m\u001b[0;34m\u001b[0m\u001b[0m\n\u001b[1;32m     19\u001b[0m               step=downsample_step)\n",
      "\u001b[0;31mNameError\u001b[0m: name 'transfer_mode' is not defined"
     ]
    }
   ],
   "source": [
    "%load_ext autoreload\n",
    "%autoreload 2\n",
    "\n",
    "# set parameters\n",
    "n_neighbors=5 #100\n",
    "downsample_step=(60,60)\n",
    "grid=(20,20)\n",
    "dt = 0.01\n",
    "t_total = 10000\n",
    "n_repeats = 10\n",
    "\n",
    "# compute_cell_velocity\n",
    "gene_choice=list(set(load_cellDancer.gene_name))\n",
    "compute_cell_velocity(load_cellDancer=load_cellDancer,\n",
    "              gene_list=gene_choice,\n",
    "              mode=\"embedding\",\n",
    "              transfer_mode=transfer_mode,#'power10',\n",
    "              n_neighbors=n_neighbors,\n",
    "              step=downsample_step)\n",
    "\n",
    "# plot_cell_velocity\n",
    "fig, ax = plt.subplots(figsize=(20,20))\n",
    "clusters = load_cellDancer['clusters'].drop_duplicates().to_list()\n",
    "cdplt.cell.scatter_cell(ax,load_cellDancer, colors=cdplt.colormap.colormap_pancreas, alpha=0.5, s=30,velocity=True)\n",
    "ax.axis('off')\n",
    "plt.show()"
   ]
  },
  {
   "cell_type": "code",
   "execution_count": null,
   "id": "9f40e580-8d06-460e-9a28-bec698180399",
   "metadata": {},
   "outputs": [],
   "source": [
    "fig, ax = plt.subplots(figsize=(20,20))\n",
    "ax.quiver(load_cellDancer.embedding1,load_cellDancer.embedding2,load_cellDancer.velocity1,load_cellDancer.velocity2)"
   ]
  },
  {
   "cell_type": "code",
   "execution_count": null,
   "id": "5a2dd490-5eae-47f0-bd55-6fe37ae1ce19",
   "metadata": {
    "tags": []
   },
   "outputs": [],
   "source": [
    "load_cellDancer"
   ]
  },
  {
   "cell_type": "markdown",
   "id": "f4ea6336-6b57-404c-a83c-bb00bd66760e",
   "metadata": {
    "tags": []
   },
   "source": [
    "## Estimate pseudotime"
   ]
  },
  {
   "cell_type": "code",
   "execution_count": null,
   "id": "7d4ef502-4309-4b3f-959d-4fec6b393b08",
   "metadata": {
    "tags": []
   },
   "outputs": [],
   "source": [
    "%%capture\n",
    "#import importlib\n",
    "#importlib.reload(sys.modules['pseudo_time'])\n",
    "\n",
    "cell_time = dict()\n",
    "dt = 0.01\n",
    "t_total = {dt:int(10/dt)} \n",
    "n_repeats = 10\n",
    "grid = (20,20)\n",
    "pseudo_time(load_cellDancer, grid, dt, t_total[dt], downsample_step=downsample_step, n_repeats=n_repeats)"
   ]
  },
  {
   "cell_type": "code",
   "execution_count": null,
   "id": "9f5f2ee2-5b99-42ac-93a7-717c14d51f60",
   "metadata": {},
   "outputs": [],
   "source": [
    "load_cellDancer"
   ]
  },
  {
   "cell_type": "code",
   "execution_count": null,
   "id": "eb7b57df-381e-49be-81e4-1528efc7825e",
   "metadata": {},
   "outputs": [],
   "source": [
    "fig, ax = plt.subplots(ncols=5, figsize=(15,4))\n",
    "gene = 'Sulf2'\n",
    "cdplt.cell.scatter_cell(ax[0],load_cellDancer, colors='alpha', \n",
    "             gene_name=gene, velocity=False, alpha=1)\n",
    "cdplt.cell.scatter_cell(ax[1],load_cellDancer, colors='beta', \n",
    "             gene_name=gene, velocity=False, alpha=1)\n",
    "cdplt.cell.scatter_cell(ax[2],load_cellDancer, colors='gamma', \n",
    "             gene_name=gene, velocity=False, alpha=1)\n",
    "cdplt.cell.scatter_cell(ax[3],load_cellDancer, colors='spliced', \n",
    "             gene_name=gene, velocity=False, alpha=1)\n",
    "cdplt.cell.scatter_cell(ax[4],load_cellDancer, colors='unspliced', \n",
    "             gene_name=gene, velocity=False, alpha=1)\n",
    "ax[0].axis('off')\n",
    "ax[1].axis('off')\n",
    "ax[2].axis('off')\n",
    "ax[3].axis('off')\n",
    "ax[4].axis('off')\n",
    "ax[0].set_title('alpha-'+gene)\n",
    "ax[1].set_title('beta-'+gene)\n",
    "ax[2].set_title('gamma-'+gene)\n",
    "ax[3].set_title('spliced-'+gene)\n",
    "ax[4].set_title('unspliced-'+gene)\n",
    "plt.tight_layout()\n",
    "plt.show()"
   ]
  },
  {
   "cell_type": "code",
   "execution_count": null,
   "id": "314d4648-d12f-475e-a9e0-74292eeda756",
   "metadata": {},
   "outputs": [],
   "source": [
    "fig, ax = plt.subplots(figsize=(6,6))\n",
    "clusters = load_cellDancer['clusters'].drop_duplicates().to_list()\n",
    "cdplt.cell.scatter_cell(ax,load_cellDancer, colors='pseudotime', alpha=0.5, \n",
    "             gene_name=gene, velocity=False, custom_xlim=(-5,11), custom_ylim=(4,18))\n",
    "ax.axis('off')\n",
    "plt.show()"
   ]
  },
  {
   "cell_type": "code",
   "execution_count": null,
   "id": "7834a6b7-e21d-4c22-9ec5-b6b29761559c",
   "metadata": {},
   "outputs": [],
   "source": [
    "ncols=5\n",
    "fig = plt.figure(figsize=(20,12))\n",
    "gene_list=[\"Sulf2\"]\n",
    "load_cellDancer\n",
    "for i in range(len(gene_list)):\n",
    "    ax = fig.add_subplot(math.ceil(len(gene_list)/ncols), ncols, i+1)\n",
    "    cdplt.gene.scatter_gene(\n",
    "        ax=ax,\n",
    "        x='pseudotime',\n",
    "        y='s0',\n",
    "        load_cellDancer=load_cellDancer,\n",
    "        save_path=None,\n",
    "        custom_xlim=None,\n",
    "        custom_ylim=None,\n",
    "        colors=cdplt.colormap.colormap_pancreas,\n",
    "        alpha=0.5, \n",
    "        s = 5,\n",
    "        velocity=False,\n",
    "        gene_name=gene_list[i])\n",
    "\n",
    "    ax.set_title(gene_list[i])\n",
    "    ax.axis('off')\n",
    "\n",
    "plt.show()"
   ]
  },
  {
   "cell_type": "code",
   "execution_count": null,
   "id": "f8d7ad5e-78af-45fe-9d5a-05f3b6f7a165",
   "metadata": {},
   "outputs": [],
   "source": [
    "ncols=5\n",
    "fig = plt.figure(figsize=(20,12))\n",
    "import math\n",
    "load_cellDancer\n",
    "for i in range(len(gene_list)):\n",
    "    ax = fig.add_subplot(math.ceil(len(gene_list)/ncols), ncols, i+1)\n",
    "    cdplt.gene.scatter_gene(\n",
    "        ax=ax,\n",
    "        x='pseudotime',\n",
    "        y='s0',\n",
    "        load_cellDancer=load_cellDancer,\n",
    "        save_path=None,\n",
    "        custom_xlim=None,\n",
    "        custom_ylim=None,\n",
    "        colors=cdplt.colormap.colormap_pancreas,\n",
    "        alpha=0.5, \n",
    "        s = 5,\n",
    "        velocity=False,\n",
    "        gene_name=gene_list[i])\n",
    "\n",
    "    ax.set_title(gene_list[i])\n",
    "    ax.axis('off')\n",
    "\n",
    "plt.show()"
   ]
  },
  {
   "cell_type": "code",
   "execution_count": null,
   "id": "17175fbf-25cb-429e-93a5-5fd81e28e6bf",
   "metadata": {},
   "outputs": [],
   "source": [
    "%load_ext autoreload\n",
    "%autoreload 2\n",
    "import math\n",
    "ncols=5\n",
    "fig = plt.figure(figsize=(20,24))\n",
    "\n",
    "for i in range(len(gene_list)):\n",
    "    ax = fig.add_subplot(math.ceil(len(gene_list)/ncols), ncols, i+1)\n",
    "    cdplt.gene.scatter_gene(\n",
    "        ax=ax,\n",
    "        x='spliced',\n",
    "        y='unspliced',\n",
    "        load_cellDancer=load_cellDancer,\n",
    "        save_path=None,\n",
    "        custom_xlim=None,\n",
    "        custom_ylim=None,\n",
    "        colors=cdplt.colormap.colormap_pancreas,\n",
    "        alpha=0.5, \n",
    "        s = 5,\n",
    "        velocity=True,\n",
    "        gene_name=gene_list[i])\n",
    "    \n",
    "    ax.set_title(gene_list[i])\n",
    "    ax.axis('off')\n",
    "\n",
    "plt.show()"
   ]
  },
  {
   "cell_type": "markdown",
   "id": "5898dfbb-7696-4a5c-8280-27bf8d75ef4e",
   "metadata": {
    "tags": []
   },
   "source": [
    "## UMAP using alpha, beta, and gamma"
   ]
  },
  {
   "cell_type": "code",
   "execution_count": null,
   "id": "2f72db34-7caa-442f-ab87-2944ae319dc0",
   "metadata": {
    "tags": []
   },
   "outputs": [],
   "source": [
    "cdplt.cell.plot_para_umap"
   ]
  },
  {
   "cell_type": "code",
   "execution_count": null,
   "id": "77caf41f-a60b-481a-91f6-453ed7b61d40",
   "metadata": {},
   "outputs": [],
   "source": [
    "load_cellDancer=cdplt.cell.calculate_para_umap(load_cellDancer,'alpha')"
   ]
  },
  {
   "cell_type": "code",
   "execution_count": null,
   "id": "b54ae2c3-b981-4493-8691-c97a8e76d912",
   "metadata": {},
   "outputs": [],
   "source": [
    "load_cellDancer=cdplt.cell.calculate_para_umap(load_cellDancer,'beta')"
   ]
  },
  {
   "cell_type": "code",
   "execution_count": null,
   "id": "c24eadb3-873a-4e52-8392-e3b2683c1381",
   "metadata": {},
   "outputs": [],
   "source": [
    "load_cellDancer=cdplt.cell.calculate_para_umap(load_cellDancer,'gamma')"
   ]
  },
  {
   "cell_type": "code",
   "execution_count": null,
   "id": "385ad0c0-0126-414a-8734-cb5ff8bc1a20",
   "metadata": {},
   "outputs": [],
   "source": [
    "load_cellDancer=cdplt.cell.calculate_para_umap(load_cellDancer,'alpha_beta_gamma')"
   ]
  },
  {
   "cell_type": "code",
   "execution_count": null,
   "id": "eb6189a0-4505-40e8-99cd-5240498f8d57",
   "metadata": {},
   "outputs": [],
   "source": [
    "cdplt.cell.plot_para_umap('alpha',load_cellDancer,cluster_map=cdplt.colormap.colormap_pancreas ,save_path=None,title=None)\n",
    "cdplt.cell.plot_para_umap('alpha',load_cellDancer,gene_name='Top2a',cluster_map=cdplt.colormap.colormap_pancreas ,save_path=None,title=None)"
   ]
  },
  {
   "cell_type": "code",
   "execution_count": null,
   "id": "f71f48b2-967c-4bc9-8ceb-e7977d1a9b2c",
   "metadata": {},
   "outputs": [],
   "source": [
    "cdplt.cell.plot_para_umap('beta',load_cellDancer,cluster_map=cdplt.colormap.colormap_pancreas ,save_path=None,title=None)\n",
    "cdplt.cell.plot_para_umap('beta',load_cellDancer,gene_name='Top2a',cluster_map=cdplt.colormap.colormap_pancreas ,save_path=None,title=None)"
   ]
  },
  {
   "cell_type": "code",
   "execution_count": null,
   "id": "40e2e322-7f9a-4601-9fe2-8481632dfc2d",
   "metadata": {},
   "outputs": [],
   "source": [
    "cdplt.cell.plot_para_umap('gamma',load_cellDancer,cluster_map=cdplt.colormap.colormap_pancreas ,save_path=None,title=None)\n",
    "cdplt.cell.plot_para_umap('gamma',load_cellDancer,gene_name='Top2a',cluster_map=cdplt.colormap.colormap_pancreas ,save_path=None,title=None)"
   ]
  },
  {
   "cell_type": "code",
   "execution_count": null,
   "id": "9af7e161-6c82-4427-8a52-b43e0842d00c",
   "metadata": {},
   "outputs": [],
   "source": [
    "cdplt.cell.plot_para_umap('alpha_beta_gamma',load_cellDancer,cluster_map=cdplt.colormap.colormap_pancreas ,save_path=None,title=None)\n",
    "cdplt.cell.plot_para_umap('alpha_beta_gamma',load_cellDancer,gene_name='Top2a',cluster_map=cdplt.colormap.colormap_pancreas ,save_path=None,title=None)"
   ]
  },
  {
   "cell_type": "code",
   "execution_count": null,
   "id": "97b62912-b915-4baa-be9a-c231b0514c20",
   "metadata": {},
   "outputs": [],
   "source": [
    "def calculate_para_umap(load_cellDancer,para,umap_n=25):\n",
    "    \n",
    "    import umap\n",
    "    if set([(para+'_umap1'),(para+'_umap2')]).issubset(load_cellDancer.columns):\n",
    "        load_cellDancer=load_cellDancer.drop(columns=[(para+'_umap1'),(para+'_umap2')])\n",
    "        \n",
    "    if para=='alpha' or para=='beta' or para=='gamma':\n",
    "        para_df=load_cellDancer.pivot(index='cellIndex', columns='gene_name', values=para)\n",
    "    elif para=='alpha_beta_gamma':\n",
    "        alpha_df=load_cellDancer.pivot(index='cellIndex', columns='gene_name', values='alpha')\n",
    "        beta_df=load_cellDancer.pivot(index='cellIndex', columns='gene_name', values='beta')\n",
    "        gamma_df=load_cellDancer.pivot(index='cellIndex', columns='gene_name', values='gamma')\n",
    "        para_df=pd.concat([alpha_df,beta_df,gamma_df],axis=1)\n",
    "    else:\n",
    "        print('para should be set in one of alpha, beta, gamma, or alpha_beta_gamma.')\n",
    "\n",
    "    def get_umap(df,n_neighbors=umap_n, min_dist=0.1, n_components=2, metric='euclidean'): \n",
    "        fit = umap.UMAP(\n",
    "            n_neighbors=n_neighbors,\n",
    "            min_dist=min_dist,\n",
    "            n_components=n_components,\n",
    "            metric=metric\n",
    "        )\n",
    "        embed = fit.fit_transform(df);\n",
    "        return(embed)\n",
    "    umap_para=get_umap(para_df)\n",
    "    umap_info=pd.DataFrame(umap_para,columns=[(para+'_umap1'),(para+'_umap2')])\n",
    "\n",
    "    gene_amt=len(load_cellDancer.gene_name.drop_duplicates())\n",
    "    umap_col=pd.concat([umap_info]*gene_amt)\n",
    "    umap_col.index=load_cellDancer.index\n",
    "    load_cellDancer=pd.concat([load_cellDancer,umap_col],axis=1)\n",
    "    return(load_cellDancer)\n",
    "\n",
    "def plot_para_umap(para,load_cellDancer,gene_name=None,umap_n=25,cluster_map=None,save_path=None,title=None,legend_annotation=False):\n",
    "    import numpy as np\n",
    "    onegene=load_cellDancer[load_cellDancer.gene_name==load_cellDancer.gene_name[0]]\n",
    "    umap_para=onegene[[(para+'_umap1'),(para+'_umap2')]].to_numpy()\n",
    "    onegene_cluster_info=onegene.clusters\n",
    "    \n",
    "    if gene_name is None:\n",
    "        if cluster_map is None:\n",
    "            from plotting.colormap import build_colormap\n",
    "            cluster_map=build_colormap(onegene_cluster_info)\n",
    "\n",
    "        colors = list(map(lambda x: cluster_map.get(x, 'black'), onegene_cluster_info))\n",
    "\n",
    "        if legend_annotation:\n",
    "            markers = [plt.Line2D([0,0],[0,0],color=color, marker='o', linestyle='') for color in cluster_map.values()]\n",
    "            lgd=plt.legend(markers, cluster_map.keys(), numpoints=1,loc='upper left',bbox_to_anchor=(1.01, 1))\n",
    "\n",
    "        plt.scatter(umap_para[:,0], umap_para[:,1],c=colors,s=15,alpha=0.5,edgecolor=\"none\")\n",
    "        plt.axis('square')\n",
    "        plt.axis('off')\n",
    "    \n",
    "    else:\n",
    "        onegene=load_cellDancer[load_cellDancer.gene_name==gene_name]\n",
    "        plt.figure()\n",
    "        plt.scatter(umap_para[:,0], umap_para[:,1],c=np.log(onegene.s0+0.0001),s=15,alpha=1,edgecolor=\"none\")\n",
    "        plt.axis('square')\n",
    "        plt.axis('off')\n",
    "        plt.colorbar(label=gene_name+\" s0\")\n",
    "        \n",
    "    if save_path is not None:\n",
    "        plt.savefig(save_path,bbox_inches='tight',bbox_extra_artists=(lgd,))\n",
    "    umap_df=pd.concat([pd.DataFrame({'umap1':umap_para[:,0],'umap2':umap_para[:,1]})],axis=1)"
   ]
  },
  {
   "cell_type": "markdown",
   "id": "07e19001-3b27-4094-8a1a-db5e9d020f15",
   "metadata": {
    "tags": []
   },
   "source": [
    "## Rsquare rank"
   ]
  },
  {
   "cell_type": "code",
   "execution_count": null,
   "id": "20d09f35-21b2-4eb9-93dc-35890547dae4",
   "metadata": {
    "tags": []
   },
   "outputs": [],
   "source": [
    "from celldancer.utilities import rank_rsquare"
   ]
  },
  {
   "cell_type": "code",
   "execution_count": null,
   "id": "c1618fd4-3809-4803-902b-ba4e914dd29f",
   "metadata": {},
   "outputs": [],
   "source": [
    "%load_ext autoreload\n",
    "%autoreload 2\n",
    "\n",
    "cluster_choice=['Blood progenitors 1','Blood progenitors 2','Erythroid1','Erythroid2','Erythroid3']\n",
    "rsquare_rank=rank_rsquare(load_cellDancer,gene_list=gene_list,cluster_choice=cluster_choice)\n",
    "rsquare_rank"
   ]
  }
 ],
 "metadata": {
  "kernelspec": {
   "display_name": "Python 3 (ipykernel)",
   "language": "python",
   "name": "python3"
  },
  "language_info": {
   "codemirror_mode": {
    "name": "ipython",
    "version": 3
   },
   "file_extension": ".py",
   "mimetype": "text/x-python",
   "name": "python",
   "nbconvert_exporter": "python",
   "pygments_lexer": "ipython3",
   "version": "3.7.6"
  }
 },
 "nbformat": 4,
 "nbformat_minor": 5
}
