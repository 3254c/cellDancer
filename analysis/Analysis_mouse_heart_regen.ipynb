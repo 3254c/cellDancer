{
 "cells": [
  {
   "cell_type": "code",
   "execution_count": 8,
   "id": "d30ffc6f-c024-40fb-a95c-d1188a2fcfae",
   "metadata": {},
   "outputs": [],
   "source": [
    "import loompy\n",
    "import scanpy as sc\n",
    "import matplotlib.pyplot as plt"
   ]
  },
  {
   "cell_type": "code",
   "execution_count": 3,
   "id": "16682b43-e408-4c96-835d-64bd08b1dccc",
   "metadata": {},
   "outputs": [
    {
     "name": "stderr",
     "output_type": "stream",
     "text": [
      "Variable names are not unique. To make them unique, call `.var_names_make_unique`.\n",
      "Variable names are not unique. To make them unique, call `.var_names_make_unique`.\n",
      "Variable names are not unique. To make them unique, call `.var_names_make_unique`.\n",
      "Variable names are not unique. To make them unique, call `.var_names_make_unique`.\n",
      "Variable names are not unique. To make them unique, call `.var_names_make_unique`.\n",
      "Variable names are not unique. To make them unique, call `.var_names_make_unique`.\n",
      "Variable names are not unique. To make them unique, call `.var_names_make_unique`.\n",
      "Variable names are not unique. To make them unique, call `.var_names_make_unique`.\n"
     ]
    }
   ],
   "source": [
    "P1_1MI=sc.read_loom('/Users/wanglab/Documents/ShengyuLi/Velocity/data/mouse_heart_regen/all_loom/GSM4644949_scRNA-seq_P1_1MI.loom')\n",
    "P1_1Sham=sc.read_loom('/Users/wanglab/Documents/ShengyuLi/Velocity/data/mouse_heart_regen/all_loom/GSM4644950_scRNA-seq_P1_1Sham.loom')\n",
    "P1_3MI=sc.read_loom('/Users/wanglab/Documents/ShengyuLi/Velocity/data/mouse_heart_regen/all_loom/GSM4644951_scRNA-seq_P1_3MI.loom')\n",
    "P1_3Sham=sc.read_loom('/Users/wanglab/Documents/ShengyuLi/Velocity/data/mouse_heart_regen/all_loom/GSM4644952_scRNA-seq_P1_3Sham.loom')\n",
    "\n",
    "P8_1MI=sc.read_loom('/Users/wanglab/Documents/ShengyuLi/Velocity/data/mouse_heart_regen/all_loom/GSM4644953_scRNA-seq_P8_1MI.loom')\n",
    "P8_1Sham=sc.read_loom('/Users/wanglab/Documents/ShengyuLi/Velocity/data/mouse_heart_regen/all_loom/GSM4644954_scRNA-seq_P8_1Sham.loom')\n",
    "P8_3MI=sc.read_loom('/Users/wanglab/Documents/ShengyuLi/Velocity/data/mouse_heart_regen/all_loom/GSM4644955_scRNA-seq_P8_3MI.loom')\n",
    "P8_3Sham=sc.read_loom('/Users/wanglab/Documents/ShengyuLi/Velocity/data/mouse_heart_regen/all_loom/GSM4644956_scRNA-seq_P8_3Sham.loom')"
   ]
  },
  {
   "cell_type": "code",
   "execution_count": 4,
   "id": "cd6bc49c-fa4e-4bc2-80c6-5a867b3cbb11",
   "metadata": {},
   "outputs": [
    {
     "data": {
      "text/plain": [
       "AnnData object with n_obs × n_vars = 15182 × 32285\n",
       "    obs: 'Clusters', '_X', '_Y'\n",
       "    var: 'Accession', 'Chromosome', 'End', 'Start', 'Strand'\n",
       "    layers: 'matrix', 'ambiguous', 'spliced', 'unspliced'"
      ]
     },
     "execution_count": 4,
     "metadata": {},
     "output_type": "execute_result"
    }
   ],
   "source": [
    "P1_1MI"
   ]
  },
  {
   "cell_type": "code",
   "execution_count": 5,
   "id": "c272fbf6-dd55-4375-ae70-b4ad2579a9a2",
   "metadata": {},
   "outputs": [
    {
     "name": "stderr",
     "output_type": "stream",
     "text": [
      "WARNING:root:╭── 'batch_scan_layers' is deprecated. Use 'scan' instead\n",
      "WARNING:root:╰──> at /Users/wanglab/.local/lib/python3.7/site-packages/loompy/loompy.py, line 465\n",
      "WARNING:root:╭── 'batch_scan_layers' is deprecated. Use 'scan' instead\n",
      "WARNING:root:╰──> at /Users/wanglab/.local/lib/python3.7/site-packages/loompy/loompy.py, line 465\n",
      "WARNING:root:╭── 'batch_scan_layers' is deprecated. Use 'scan' instead\n",
      "WARNING:root:╰──> at /Users/wanglab/.local/lib/python3.7/site-packages/loompy/loompy.py, line 465\n",
      "WARNING:root:╭── 'batch_scan_layers' is deprecated. Use 'scan' instead\n",
      "WARNING:root:╰──> at /Users/wanglab/.local/lib/python3.7/site-packages/loompy/loompy.py, line 465\n",
      "WARNING:root:╭── 'batch_scan_layers' is deprecated. Use 'scan' instead\n",
      "WARNING:root:╰──> at /Users/wanglab/.local/lib/python3.7/site-packages/loompy/loompy.py, line 465\n",
      "WARNING:root:╭── 'batch_scan_layers' is deprecated. Use 'scan' instead\n",
      "WARNING:root:╰──> at /Users/wanglab/.local/lib/python3.7/site-packages/loompy/loompy.py, line 465\n",
      "WARNING:root:╭── 'batch_scan_layers' is deprecated. Use 'scan' instead\n",
      "WARNING:root:╰──> at /Users/wanglab/.local/lib/python3.7/site-packages/loompy/loompy.py, line 465\n"
     ]
    }
   ],
   "source": [
    "files = ['/Users/wanglab/Documents/ShengyuLi/Velocity/data/mouse_heart_regen/all_loom/GSM4644949_scRNA-seq_P1_1MI.loom',\\\n",
    "'/Users/wanglab/Documents/ShengyuLi/Velocity/data/mouse_heart_regen/all_loom/GSM4644950_scRNA-seq_P1_1Sham.loom',\\\n",
    "'/Users/wanglab/Documents/ShengyuLi/Velocity/data/mouse_heart_regen/all_loom/GSM4644951_scRNA-seq_P1_3MI.loom',\\\n",
    "'/Users/wanglab/Documents/ShengyuLi/Velocity/data/mouse_heart_regen/all_loom/GSM4644952_scRNA-seq_P1_3Sham.loom',\\\n",
    "'/Users/wanglab/Documents/ShengyuLi/Velocity/data/mouse_heart_regen/all_loom/GSM4644953_scRNA-seq_P8_1MI.loom',\\\n",
    "'/Users/wanglab/Documents/ShengyuLi/Velocity/data/mouse_heart_regen/all_loom/GSM4644954_scRNA-seq_P8_1Sham.loom',\\\n",
    "'/Users/wanglab/Documents/ShengyuLi/Velocity/data/mouse_heart_regen/all_loom/GSM4644955_scRNA-seq_P8_3MI.loom',\\\n",
    "'/Users/wanglab/Documents/ShengyuLi/Velocity/data/mouse_heart_regen/all_loom/GSM4644956_scRNA-seq_P8_3Sham.loom']\n",
    "loompy.combine(files, \"/Users/wanglab/Documents/ShengyuLi/Velocity/data/mouse_heart_regen/all_loom/combined/scRNA-seq_P1_P8_MI_Sham.loom\", key=\"Accession\")\n"
   ]
  },
  {
   "cell_type": "code",
   "execution_count": 6,
   "id": "a774e73f-753d-40ea-a68f-954a9103fa12",
   "metadata": {},
   "outputs": [
    {
     "name": "stderr",
     "output_type": "stream",
     "text": [
      "Variable names are not unique. To make them unique, call `.var_names_make_unique`.\n"
     ]
    }
   ],
   "source": [
    "P1_P8_MI_Sham=sc.read_loom('/Users/wanglab/Documents/ShengyuLi/Velocity/data/mouse_heart_regen/all_loom/combined/scRNA-seq_P1_P8_MI_Sham.loom')"
   ]
  },
  {
   "cell_type": "code",
   "execution_count": 7,
   "id": "63bfc6fa-6757-4eeb-9e08-25a41eb03019",
   "metadata": {},
   "outputs": [
    {
     "data": {
      "text/plain": [
       "AnnData object with n_obs × n_vars = 104851 × 32285\n",
       "    obs: 'Clusters', '_X', '_Y'\n",
       "    var: 'Accession', 'Chromosome', 'End', 'Start', 'Strand'\n",
       "    layers: 'matrix', 'ambiguous', 'spliced', 'unspliced'"
      ]
     },
     "execution_count": 7,
     "metadata": {},
     "output_type": "execute_result"
    }
   ],
   "source": [
    "P1_P8_MI_Sham"
   ]
  },
  {
   "cell_type": "code",
   "execution_count": 10,
   "id": "bc1d76ac-f4bd-42fd-8691-cd307cfd98cd",
   "metadata": {},
   "outputs": [
    {
     "data": {
      "text/plain": [
       "<matplotlib.collections.PathCollection at 0x7f85dad42c90>"
      ]
     },
     "execution_count": 10,
     "metadata": {},
     "output_type": "execute_result"
    },
    {
     "data": {
      "image/png": "[encoded data removed]",
      "text/plain": [
       "<Figure size 432x288 with 1 Axes>"
      ]
     },
     "metadata": {
      "needs_background": "light"
     },
     "output_type": "display_data"
    }
   ],
   "source": [
    "plt.scatter(P1_P8_MI_Sham.obs['_X'],P1_P8_MI_Sham.obs['_Y'])"
   ]
  },
  {
   "cell_type": "code",
   "execution_count": null,
   "id": "7b25ae27-9df8-491a-8cee-13793ac23334",
   "metadata": {},
   "outputs": [],
   "source": []
  }
 ],
 "metadata": {
  "kernelspec": {
   "display_name": "Python 3 (ipykernel)",
   "language": "python",
   "name": "python3"
  },
  "language_info": {
   "codemirror_mode": {
    "name": "ipython",
    "version": 3
   },
   "file_extension": ".py",
   "mimetype": "text/x-python",
   "name": "python",
   "nbconvert_exporter": "python",
   "pygments_lexer": "ipython3",
   "version": "3.7.6"
  }
 },
 "nbformat": 4,
 "nbformat_minor": 5
}
