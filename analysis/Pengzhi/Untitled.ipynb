{
 "cells": [
  {
   "cell_type": "code",
   "execution_count": 3,
   "id": "8eb7e078",
   "metadata": {},
   "outputs": [],
   "source": [
    "import numpy as np\n",
    "from matplotlib import pyplot as plt"
   ]
  },
  {
   "cell_type": "code",
   "execution_count": 4,
   "id": "f90dca4b",
   "metadata": {},
   "outputs": [],
   "source": [
    "x1 = np.linspace(0,np.pi,100)\n",
    "y1 = np.sin(x1)"
   ]
  },
  {
   "cell_type": "code",
   "execution_count": 10,
   "id": "0cfac946",
   "metadata": {},
   "outputs": [],
   "source": [
    "traj1 = np.hstack((x1[:,None], y1[:,None]))"
   ]
  },
  {
   "cell_type": "code",
   "execution_count": 18,
   "id": "184e2686",
   "metadata": {},
   "outputs": [],
   "source": [
    "x2 = np.linspace(1.5, 0.2, 20)\n",
    "y2 = np.sin(1+x2)\n",
    "traj2 = np.hstack((x2[:,None], y2[:,None]))"
   ]
  },
  {
   "cell_type": "code",
   "execution_count": 17,
   "id": "094c1407",
   "metadata": {},
   "outputs": [
    {
     "data": {
      "text/plain": [
       "<matplotlib.collections.PathCollection at 0x7fef90a7d4f0>"
      ]
     },
     "execution_count": 17,
     "metadata": {},
     "output_type": "execute_result"
    },
    {
     "data": {
      "image/png": "[encoded data removed]",
      "text/plain": [
       "<Figure size 432x288 with 1 Axes>"
      ]
     },
     "metadata": {
      "needs_background": "light"
     },
     "output_type": "display_data"
    }
   ],
   "source": [
    "plt.scatter(x2, y2)\n",
    "plt.scatter(x1, y1)"
   ]
  },
  {
   "cell_type": "code",
   "execution_count": 30,
   "id": "0e0a6dc2",
   "metadata": {},
   "outputs": [
    {
     "data": {
      "text/plain": [
       "0.2766660493426091"
      ]
     },
     "execution_count": 30,
     "metadata": {},
     "output_type": "execute_result"
    }
   ],
   "source": [
    "    numPicks = 10\n",
    "    \n",
    "    idx = np.round(np.linspace(0, len(traj2) - 2, numPicks)).astype(int)\n",
    "\n",
    "    temp = traj1 - traj2[idx, None]\n",
    "    A = np.min(np.sum(temp**2, axis=2), axis=1)\n",
    "\n",
    "    np.mean(np.sqrt(A))"
   ]
  },
  {
   "cell_type": "code",
   "execution_count": 21,
   "id": "bef68057",
   "metadata": {},
   "outputs": [],
   "source": [
    "v1 = traj1[1:, :] - traj1[:-1, :]\n",
    "v2 = traj2[1:, :] - traj2[:-2, :]"
   ]
  },
  {
   "cell_type": "code",
   "execution_count": 32,
   "id": "81c81dda",
   "metadata": {},
   "outputs": [
    {
     "data": {
      "text/plain": [
       "array([[0.03173326, 0.03172793],\n",
       "       [0.03173326, 0.03163212],\n",
       "       [0.03173326, 0.03140894],\n",
       "       [0.03173326, 0.03105929],\n",
       "       [0.03173326, 0.03058457],\n",
       "       [0.03173326, 0.0299867 ],\n",
       "       [0.03173326, 0.02926808],\n",
       "       [0.03173326, 0.02843161],\n",
       "       [0.03173326, 0.02748066],\n",
       "       [0.03173326, 0.02641905]])"
      ]
     },
     "execution_count": 32,
     "metadata": {},
     "output_type": "execute_result"
    }
   ],
   "source": [
    "v1[idx]"
   ]
  },
  {
   "cell_type": "code",
   "execution_count": 34,
   "id": "4f5641b8",
   "metadata": {},
   "outputs": [
    {
     "data": {
      "text/plain": [
       "array([0.15793621, 0.07233021, 0.01952539, 0.00027957, 0.01007072,\n",
       "       0.04132242, 0.08846912, 0.14397324, 0.203742  , 0.26210957])"
      ]
     },
     "execution_count": 34,
     "metadata": {},
     "output_type": "execute_result"
    }
   ],
   "source": [
    "A"
   ]
  },
  {
   "cell_type": "code",
   "execution_count": 44,
   "id": "d9d5b2bb",
   "metadata": {},
   "outputs": [],
   "source": [
    "idx1 = np.argmin(np.sum(temp**2, axis=2), axis=1)"
   ]
  },
  {
   "cell_type": "code",
   "execution_count": 49,
   "id": "d2f6df64",
   "metadata": {},
   "outputs": [
    {
     "data": {
      "text/plain": [
       "array([0.39741189, 0.26894277, 0.13973329, 0.01672047, 0.10035297,\n",
       "       0.20327918, 0.2974376 , 0.37943806, 0.45137789, 0.51196638])"
      ]
     },
     "execution_count": 49,
     "metadata": {},
     "output_type": "execute_result"
    }
   ],
   "source": [
    "np.linalg.norm(traj1[idx1]-traj2[idx], axis=1)"
   ]
  },
  {
   "cell_type": "code",
   "execution_count": 50,
   "id": "1b7636d5",
   "metadata": {},
   "outputs": [
    {
     "data": {
      "text/plain": [
       "array([[1.45972992, 0.99383846],\n",
       "       [1.30106362, 0.96384216],\n",
       "       [1.17413059, 0.92235429],\n",
       "       [1.07893081, 0.88145336],\n",
       "       [0.98373103, 0.83256985],\n",
       "       [0.92026451, 0.79576184],\n",
       "       [0.856798  , 0.75574957],\n",
       "       [0.76159822, 0.69007901],\n",
       "       [0.66639844, 0.61815899],\n",
       "       [0.60293192, 0.56705986]])"
      ]
     },
     "execution_count": 50,
     "metadata": {},
     "output_type": "execute_result"
    }
   ],
   "source": [
    "traj1[idx1]"
   ]
  },
  {
   "cell_type": "code",
   "execution_count": 51,
   "id": "9dbf2987",
   "metadata": {},
   "outputs": [
    {
     "data": {
      "text/plain": [
       "array([[1.5       , 0.59847214],\n",
       "       [1.36315789, 0.70216581],\n",
       "       [1.22631579, 0.79273139],\n",
       "       [1.08947368, 0.86847562],\n",
       "       [0.95263158, 0.92798234],\n",
       "       [0.81578947, 0.97013899],\n",
       "       [0.67894737, 0.99415737],\n",
       "       [0.54210526, 0.99958844],\n",
       "       [0.40526316, 0.98633064],\n",
       "       [0.26842105, 0.95463185]])"
      ]
     },
     "execution_count": 51,
     "metadata": {},
     "output_type": "execute_result"
    }
   ],
   "source": [
    "traj2[idx]"
   ]
  },
  {
   "cell_type": "code",
   "execution_count": 53,
   "id": "b63729c9",
   "metadata": {},
   "outputs": [],
   "source": [
    "import itertools"
   ]
  },
  {
   "cell_type": "code",
   "execution_count": 54,
   "id": "a4e0f024",
   "metadata": {},
   "outputs": [
    {
     "data": {
      "text/plain": [
       "<itertools.permutations at 0x7fef5057f2c0>"
      ]
     },
     "execution_count": 54,
     "metadata": {},
     "output_type": "execute_result"
    }
   ],
   "source": [
    "itertools.permutations([1,2,3])"
   ]
  },
  {
   "cell_type": "code",
   "execution_count": 66,
   "id": "cf84aa6e",
   "metadata": {},
   "outputs": [],
   "source": [
    "def powerset(iterable):\n",
    "    \"powerset([1,2,3]) --> () (1,) (2,) (3,) (1,2) (1,3) (2,3) (1,2,3)\"\n",
    "    s = list(iterable)\n",
    "    return itertools.chain.from_iterable(itertools.combinations(s, r) for r in range(2, len(s)+1))\n"
   ]
  },
  {
   "cell_type": "code",
   "execution_count": 68,
   "id": "b7175f15",
   "metadata": {},
   "outputs": [
    {
     "name": "stdout",
     "output_type": "stream",
     "text": [
      "((0, 1), (1, 3))\n",
      "((0, 1), (2, 3))\n",
      "((1, 3), (2, 3))\n",
      "((0, 1), (1, 3), (2, 3))\n"
     ]
    }
   ],
   "source": [
    "for i in powerset([(0,1),(1,3), (2,3)]):\n",
    "    print(i)"
   ]
  },
  {
   "cell_type": "code",
   "execution_count": null,
   "id": "6bcf5918",
   "metadata": {},
   "outputs": [],
   "source": []
  },
  {
   "cell_type": "code",
   "execution_count": null,
   "id": "72f2ff4e",
   "metadata": {},
   "outputs": [],
   "source": []
  }
 ],
 "metadata": {
  "kernelspec": {
   "display_name": "Python 3 (ipykernel)",
   "language": "python",
   "name": "python3"
  },
  "language_info": {
   "codemirror_mode": {
    "name": "ipython",
    "version": 3
   },
   "file_extension": ".py",
   "mimetype": "text/x-python",
   "name": "python",
   "nbconvert_exporter": "python",
   "pygments_lexer": "ipython3",
   "version": "3.9.12"
  }
 },
 "nbformat": 4,
 "nbformat_minor": 5
}
