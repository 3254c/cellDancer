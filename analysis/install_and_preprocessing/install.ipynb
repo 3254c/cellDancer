{
 "cells": [
  {
   "cell_type": "markdown",
   "id": "d6cce81d-7f27-4db7-b5ab-7925b786c599",
   "metadata": {},
   "source": [
    "# Getting Started"
   ]
  },
  {
   "cell_type": "markdown",
   "id": "7ce55334-b161-4677-9943-110f3fe1a473",
   "metadata": {},
   "source": [
    "set environment.\n",
    "You can either download a miniconda or anaconda."
   ]
  },
  {
   "cell_type": "code",
   "execution_count": null,
   "id": "37765d04-68ba-4dc7-9cd3-e25f6e15c2a7",
   "metadata": {},
   "outputs": [],
   "source": [
    "conda create -n celldancer python=3.7.6\n",
    "conda activate celldancer\n",
    "\n"
   ]
  },
  {
   "cell_type": "markdown",
   "id": "6e4288ae-f0d4-4022-87d5-9f97a23f52d8",
   "metadata": {},
   "source": [
    "JupyterLab\n",
    "\n",
    "Install JupyterLab with pip:\n",
    "\n",
    "pip install jupyterlab\n",
    "\n",
    "Note: If you install JupyterLab with conda or mamba, we recommend using the conda-forge channel.\n",
    "\n",
    "Once installed, launch JupyterLab with:\n",
    "\n",
    "jupyter-lab"
   ]
  },
  {
   "cell_type": "markdown",
   "id": "c465514a-5b35-4d94-bbf0-ea16bdb0ae20",
   "metadata": {},
   "source": [
    "install https://github.com/GuangyuWangLab/cellDancer/blob/polish/requirements.txt "
   ]
  },
  {
   "cell_type": "code",
   "execution_count": null,
   "id": "a7c40ae2-3039-47c7-a77c-475de042f18c",
   "metadata": {},
   "outputs": [],
   "source": [
    "pip install -r requirements.txt"
   ]
  }
 ],
 "metadata": {
  "kernelspec": {
   "display_name": "Python 3 (ipykernel)",
   "language": "python",
   "name": "python3"
  },
  "language_info": {
   "codemirror_mode": {
    "name": "ipython",
    "version": 3
   },
   "file_extension": ".py",
   "mimetype": "text/x-python",
   "name": "python",
   "nbconvert_exporter": "python",
   "pygments_lexer": "ipython3",
   "version": "3.7.6"
  }
 },
 "nbformat": 4,
 "nbformat_minor": 5
}
