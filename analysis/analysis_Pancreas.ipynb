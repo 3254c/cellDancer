{
 "cells": [
  {
   "cell_type": "code",
   "execution_count": null,
   "id": "c1351894-d31e-4e14-80f1-821d009e7edb",
   "metadata": {},
   "outputs": [],
   "source": [
    "get pancreas"
   ]
  },
  {
   "cell_type": "code",
   "execution_count": null,
   "id": "c6ac6fe7-5395-4a4f-bb1a-0d04165dd5d9",
   "metadata": {},
   "outputs": [],
   "source": [
    "import scvelo as scv\n",
    "\n"
   ]
  }
 ],
 "metadata": {
  "kernelspec": {
   "display_name": "Python 3 (ipykernel)",
   "language": "python",
   "name": "python3"
  },
  "language_info": {
   "codemirror_mode": {
    "name": "ipython",
    "version": 3
   },
   "file_extension": ".py",
   "mimetype": "text/x-python",
   "name": "python",
   "nbconvert_exporter": "python",
   "pygments_lexer": "ipython3",
   "version": "3.7.6"
  }
 },
 "nbformat": 4,
 "nbformat_minor": 5
}
