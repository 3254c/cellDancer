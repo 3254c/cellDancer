{
 "cells": [
  {
   "cell_type": "markdown",
   "id": "997cfb9f-8ae7-49df-a70f-e293da23449c",
   "metadata": {},
   "source": [
    "# Pancreas_main_function_pre_sl.ipynb"
   ]
  },
  {
   "cell_type": "code",
   "execution_count": 1,
   "id": "85e6b2e6-6e2d-4112-930c-73550086f9ad",
   "metadata": {},
   "outputs": [],
   "source": [
    "import sys\n",
    "#srcdir = '/Users/pengzhizhang/cellDancer/src'\n",
    "srcdir = '/Users/shengyuli/Library/CloudStorage/OneDrive-HoustonMethodist/work/Velocity/bin/cellDancer_polish/src'\n",
    "sys.path.append(srcdir)"
   ]
  },
  {
   "cell_type": "code",
   "execution_count": 2,
   "id": "299ca712-8f1a-46fd-afe0-c6da7b1122aa",
   "metadata": {},
   "outputs": [],
   "source": [
    "import celldancer.cdplt as cdplt\n",
    "from celldancer.cdplt import colormap\n",
    "from celldancer import velocity_estimation\n",
    "from celldancer.compute_cell_velocity import compute_cell_velocity\n",
    "from celldancer.pseudo_time import pseudo_time"
   ]
  },
  {
   "cell_type": "code",
   "execution_count": 3,
   "id": "292823c5-6b46-4484-947c-18c137ec9533",
   "metadata": {},
   "outputs": [
    {
     "data": {
      "text/plain": [
       "<function celldancer.plotting.cell.plot_para_umap(para, load_cellDancer, gene_name=None, umap_n=25, cluster_map=None, save_path=None, title=None, legend_annotation=False)>"
      ]
     },
     "execution_count": 3,
     "metadata": {},
     "output_type": "execute_result"
    }
   ],
   "source": [
    "cdplt.cell.scatter_cell\n",
    "cdplt.gene.scatter_gene\n",
    "cdplt.cell.plot_para_umap"
   ]
  },
  {
   "cell_type": "code",
   "execution_count": null,
   "id": "9fe85f26-a4f5-4da4-bd3d-5ef1634a14f1",
   "metadata": {},
   "outputs": [],
   "source": []
  }
 ],
 "metadata": {
  "kernelspec": {
   "display_name": "Python 3 (ipykernel)",
   "language": "python",
   "name": "python3"
  },
  "language_info": {
   "codemirror_mode": {
    "name": "ipython",
    "version": 3
   },
   "file_extension": ".py",
   "mimetype": "text/x-python",
   "name": "python",
   "nbconvert_exporter": "python",
   "pygments_lexer": "ipython3",
   "version": "3.7.6"
  }
 },
 "nbformat": 4,
 "nbformat_minor": 5
}
