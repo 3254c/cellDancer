{
 "cells": [
  {
   "cell_type": "code",
   "execution_count": 1,
   "metadata": {},
   "outputs": [
    {
     "ename": "ImportError",
     "evalue": "attempted relative import beyond top-level package",
     "output_type": "error",
     "traceback": [
      "\u001b[0;31m---------------------------------------------------------------------------\u001b[0m",
      "\u001b[0;31mImportError\u001b[0m                               Traceback (most recent call last)",
      "\u001b[0;32m/var/folders/2p/2j0f_d_13815dk9jyzwnfl540000gp/T/ipykernel_41226/4274897422.py\u001b[0m in \u001b[0;36m<module>\u001b[0;34m\u001b[0m\n\u001b[1;32m     16\u001b[0m \u001b[0msrcdir\u001b[0m \u001b[0;34m=\u001b[0m \u001b[0mos\u001b[0m\u001b[0;34m.\u001b[0m\u001b[0mpath\u001b[0m\u001b[0;34m.\u001b[0m\u001b[0mjoin\u001b[0m\u001b[0;34m(\u001b[0m\u001b[0mos\u001b[0m\u001b[0;34m.\u001b[0m\u001b[0mgetcwd\u001b[0m\u001b[0;34m(\u001b[0m\u001b[0;34m)\u001b[0m\u001b[0;34m,\u001b[0m \u001b[0;34m'../'\u001b[0m\u001b[0;34m)\u001b[0m\u001b[0;34m\u001b[0m\u001b[0;34m\u001b[0m\u001b[0m\n\u001b[1;32m     17\u001b[0m \u001b[0msys\u001b[0m\u001b[0;34m.\u001b[0m\u001b[0mpath\u001b[0m\u001b[0;34m.\u001b[0m\u001b[0mappend\u001b[0m\u001b[0;34m(\u001b[0m\u001b[0msrcdir\u001b[0m\u001b[0;34m)\u001b[0m\u001b[0;34m\u001b[0m\u001b[0;34m\u001b[0m\u001b[0m\n\u001b[0;32m---> 18\u001b[0;31m \u001b[0;32mfrom\u001b[0m \u001b[0mpseudotime\u001b[0m\u001b[0;34m.\u001b[0m\u001b[0mpseudo_time\u001b[0m \u001b[0;32mimport\u001b[0m \u001b[0;34m*\u001b[0m\u001b[0;34m\u001b[0m\u001b[0;34m\u001b[0m\u001b[0m\n\u001b[0m",
      "\u001b[0;32m~/cellDancer-activate/src/notebooks/../pseudotime/pseudo_time.py\u001b[0m in \u001b[0;36m<module>\u001b[0;34m\u001b[0m\n\u001b[1;32m      7\u001b[0m \u001b[0;32melse\u001b[0m\u001b[0;34m:\u001b[0m\u001b[0;34m\u001b[0m\u001b[0;34m\u001b[0m\u001b[0m\n\u001b[1;32m      8\u001b[0m     \u001b[0;32mfrom\u001b[0m \u001b[0;34m.\u001b[0m\u001b[0mdiffusion\u001b[0m \u001b[0;32mimport\u001b[0m \u001b[0;34m*\u001b[0m\u001b[0;34m\u001b[0m\u001b[0;34m\u001b[0m\u001b[0m\n\u001b[0;32m----> 9\u001b[0;31m     \u001b[0;32mfrom\u001b[0m \u001b[0;34m.\u001b[0m\u001b[0;34m.\u001b[0m\u001b[0mget_embedding\u001b[0m \u001b[0;32mimport\u001b[0m \u001b[0mget_embedding\u001b[0m\u001b[0;34m\u001b[0m\u001b[0;34m\u001b[0m\u001b[0m\n\u001b[0m\u001b[1;32m     10\u001b[0m \u001b[0;34m\u001b[0m\u001b[0m\n\u001b[1;32m     11\u001b[0m \u001b[0;32mdef\u001b[0m \u001b[0mload_velocity\u001b[0m\u001b[0;34m(\u001b[0m\u001b[0mraw_data_file\u001b[0m\u001b[0;34m,\u001b[0m \u001b[0mdetail_result_path\u001b[0m\u001b[0;34m,\u001b[0m \u001b[0mn_neighbors\u001b[0m\u001b[0;34m,\u001b[0m \u001b[0mstep\u001b[0m\u001b[0;34m)\u001b[0m\u001b[0;34m:\u001b[0m\u001b[0;34m\u001b[0m\u001b[0;34m\u001b[0m\u001b[0m\n",
      "\u001b[0;31mImportError\u001b[0m: attempted relative import beyond top-level package"
     ]
    }
   ],
   "source": [
    "import os\n",
    "import glob\n",
    "import random\n",
    "import time\n",
    "import sys\n",
    "import importlib\n",
    "\n",
    "import numpy as np\n",
    "import pandas as pd\n",
    "import matplotlib as mpl\n",
    "import matplotlib.pyplot as plt\n",
    "from matplotlib.pyplot import cm\n",
    "from matplotlib.colors import ListedColormap\n",
    "\n",
    "# import from absolute directory\n",
    "srcdir = os.path.join(os.getcwd(), '../')\n",
    "sys.path.append(srcdir)\n",
    "from pseudotime.pseudo_time import *"
   ]
  },
  {
   "cell_type": "markdown",
   "metadata": {},
   "source": [
    "# 0. Load up all the input and process ~ 2 mins"
   ]
  },
  {
   "cell_type": "code",
   "execution_count": null,
   "metadata": {},
   "outputs": [],
   "source": [
    "detail_result_path = '/Users/pengzhizhang/Documents/test_data/neuro/velocity_result'\n",
    "output_path = detail_result_path\n",
    "raw_data_path = '/Users/pengzhizhang/Documents/test_data/neuro/raw_data'\n",
    "\n",
    "raw_data_file = os.path.join(raw_data_path, \"*_full.csv\")\n",
    "# Fixed parameters\n",
    "n_neighbors=100\n",
    "step=(60,60)\n",
    "\n",
    "__ = load_velocity(raw_data_file, detail_result_path, n_neighbors, step)\n",
    "load_cellDancer = __[0]\n",
    "embedding = __[1]\n",
    "sampling_ixs = __[2]\n",
    "velocity_embedding = __[3]"
   ]
  },
  {
   "cell_type": "markdown",
   "metadata": {},
   "source": [
    "# 1. stress test the ``grid`` grid size"
   ]
  },
  {
   "cell_type": "code",
   "execution_count": null,
   "metadata": {
    "scrolled": true
   },
   "outputs": [],
   "source": [
    "dt = 0.001\n",
    "t_total = 10000\n",
    "n_repeats = 10\n",
    "\n",
    "grids = [(20,20), (30,30), (40,40), (50,50)]\n",
    "cell_time = dict()\n",
    "for grid in grids:\n",
    "    cell_time[grid] = pseudo_time(grid, dt, t_total, n_repeats)"
   ]
  },
  {
   "cell_type": "code",
   "execution_count": null,
   "metadata": {},
   "outputs": [],
   "source": [
    "labels = [str(grid[0])+'x'+str(grid[1]) for grid in cell_time]\n",
    "ctime = np.vstack([cell_time[i] for i in cell_time])\n",
    "plt.matshow(ctime, cmap='YlGnBu_r', aspect='auto')\n",
    "plt.yticks(range(len(labels)), labels)\n",
    "df = pd.DataFrame(ctime.T, columns=labels)\n",
    "plt.show()"
   ]
  },
  {
   "cell_type": "code",
   "execution_count": null,
   "metadata": {
    "scrolled": true
   },
   "outputs": [],
   "source": [
    "sns.pairplot(df, kind='kde')"
   ]
  },
  {
   "cell_type": "code",
   "execution_count": null,
   "metadata": {
    "scrolled": false
   },
   "outputs": [],
   "source": [
    "f, ax = plt.subplots(figsize=(10, 8))\n",
    "corr = df.corr()\n",
    "hm = sns.heatmap(corr, \n",
    "            mask=np.zeros_like(corr, dtype=bool), \n",
    "            cmap=sns.diverging_palette(236,32, center=\"light\", s=100, n=10), \n",
    "            cbar_kws={\"shrink\": .8, 'format': '%.2f', 'ticks': [0.5,0.75,1]},\n",
    "            square=True, \n",
    "            ax=ax,\n",
    "            linewidths=.5,\n",
    "            vmin=0.5, vmax=1, \n",
    "            annot=True, annot_kws={\"size\":20})\n",
    "hm.set_xticklabels(hm.get_xmajorticklabels(), fontsize = 18)\n",
    "hm.set_yticklabels(hm.get_ymajorticklabels(), fontsize = 18)\n",
    "\n",
    "plt.show()"
   ]
  },
  {
   "cell_type": "markdown",
   "metadata": {},
   "source": [
    "# 2. Stress test the ``dt`` parameter, fixing ``grid = (30,30)``"
   ]
  },
  {
   "cell_type": "code",
   "execution_count": null,
   "metadata": {
    "scrolled": false
   },
   "outputs": [],
   "source": [
    "import importlib\n",
    "importlib.reload(sys.modules[\"pseudotime.pseudo_time\"])\n",
    "importlib.reload(sys.modules[\"pseudotime.diffusion\"])\n",
    "from pseudotime.pseudo_time import *\n",
    "from pseudotime.diffusion import *\n",
    "\n",
    "\n",
    "cell_time = dict()\n",
    "dts = [0.001, 0.005, 0.01, 0.05, 0.1]\n",
    "t_total = {dt:int(10/dt) for dt in dts} \n",
    "n_repeats = 10\n",
    "grid = (30,30)\n",
    "for dt in dts[::-1]:\n",
    "    cell_time[dt] = pseudo_time(embedding, velocity_embedding, sampling_ixs, step,\n",
    "                                  grid, dt, t_total[dt], n_repeats, \n",
    "                                  os.path.join(output_path, \"changing_dt\"))"
   ]
  },
  {
   "cell_type": "code",
   "execution_count": null,
   "metadata": {},
   "outputs": [],
   "source": []
  }
 ],
 "metadata": {
  "celltoolbar": "Raw Cell Format",
  "kernelspec": {
   "display_name": "Python 3 (ipykernel)",
   "language": "python",
   "name": "python3"
  },
  "language_info": {
   "codemirror_mode": {
    "name": "ipython",
    "version": 3
   },
   "file_extension": ".py",
   "mimetype": "text/x-python",
   "name": "python",
   "nbconvert_exporter": "python",
   "pygments_lexer": "ipython3",
   "version": "3.9.7"
  }
 },
 "nbformat": 4,
 "nbformat_minor": 2
}
