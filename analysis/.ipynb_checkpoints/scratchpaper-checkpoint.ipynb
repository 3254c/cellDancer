{
 "cells": [
  {
   "cell_type": "code",
   "execution_count": 5,
   "id": "e4fbfa9c",
   "metadata": {},
   "outputs": [],
   "source": [
    "# benchmark cython similarity function\n",
    "\n",
    "import numpy as np\n",
    "traj1 = np.random.rand(1000,2)*10\n",
    "traj2 = np.random.rand(850,2)*10"
   ]
  },
  {
   "cell_type": "code",
   "execution_count": 17,
   "id": "149c14f9",
   "metadata": {},
   "outputs": [
    {
     "data": {
      "text/plain": [
       "0"
      ]
     },
     "execution_count": 17,
     "metadata": {},
     "output_type": "execute_result"
    }
   ],
   "source": [
    "len(np.where(traj1<-1)[0])"
   ]
  },
  {
   "cell_type": "code",
   "execution_count": 6,
   "id": "f0426def",
   "metadata": {},
   "outputs": [],
   "source": [
    "velocity = traj1\n",
    "(v1_max,v2_max) = velocity.max(axis=0)\n",
    "(v1_min,v2_min) = velocity.min(axis=0)\n",
    "velocity /= np.array([max(v1_max,-v1_min), max(v2_max, -v2_min)])"
   ]
  },
  {
   "cell_type": "code",
   "execution_count": 10,
   "id": "b6a95120",
   "metadata": {},
   "outputs": [],
   "source": [
    "velocity = traj1.copy()\n",
    "(v1_max,v2_max) = velocity.max(axis=0)\n",
    "(v1_min,v2_min) = velocity.min(axis=0)\n",
    "velocity /= np.array([max(v1_max,-v1_min), max(v2_max, -v2_min)])"
   ]
  },
  {
   "cell_type": "code",
   "execution_count": 33,
   "id": "00206c69",
   "metadata": {},
   "outputs": [
    {
     "name": "stdout",
     "output_type": "stream",
     "text": [
      "10.2 ms ± 823 µs per loop (mean ± std. dev. of 2 runs, 10 loops each)\n"
     ]
    }
   ],
   "source": [
    "# cython version:\n",
    "import compute_similarity as sim\n",
    "%timeit -n10 -r2 sim.__compute_trajectory_similarity(traj1, traj2)"
   ]
  },
  {
   "cell_type": "code",
   "execution_count": 8,
   "id": "42c16c7a",
   "metadata": {},
   "outputs": [],
   "source": [
    "def padding(traj, nrows):\n",
    "    rows_ext = nrows - traj.shape[0]\n",
    "    temp = np.tile(traj[-1],(rows_ext,1))\n",
    "    return np.vstack((traj, temp))\n",
    "\n",
    "traj2_full = padding(traj2, traj1.shape[0])"
   ]
  },
  {
   "cell_type": "code",
   "execution_count": 204,
   "id": "ca72d143",
   "metadata": {},
   "outputs": [],
   "source": [
    "a = np.random.rand(100)"
   ]
  },
  {
   "cell_type": "code",
   "execution_count": 215,
   "id": "add5ce8d",
   "metadata": {},
   "outputs": [],
   "source": [
    "adict = {'a':0, \"b\":1, \"c\":2}"
   ]
  },
  {
   "cell_type": "code",
   "execution_count": 223,
   "id": "d4d03078",
   "metadata": {},
   "outputs": [
    {
     "data": {
      "text/plain": [
       "{'a': 0, 'b': 1, 'c': 2}"
      ]
     },
     "execution_count": 223,
     "metadata": {},
     "output_type": "execute_result"
    }
   ],
   "source": [
    "adict"
   ]
  },
  {
   "cell_type": "code",
   "execution_count": 224,
   "id": "9924119b",
   "metadata": {},
   "outputs": [],
   "source": [
    "bdict = adict"
   ]
  },
  {
   "cell_type": "code",
   "execution_count": 225,
   "id": "fe70e7bd",
   "metadata": {},
   "outputs": [],
   "source": [
    "bdict['d'] = 5"
   ]
  },
  {
   "cell_type": "code",
   "execution_count": 227,
   "id": "af143941",
   "metadata": {},
   "outputs": [
    {
     "data": {
      "text/plain": [
       "{'a': 0, 'b': 1, 'c': 2, 'd': 5}"
      ]
     },
     "execution_count": 227,
     "metadata": {},
     "output_type": "execute_result"
    }
   ],
   "source": [
    "bdict"
   ]
  },
  {
   "cell_type": "code",
   "execution_count": 140,
   "id": "cc92f0ff",
   "metadata": {},
   "outputs": [],
   "source": [
    "an_array = np.where(b > dim, dim, b)"
   ]
  },
  {
   "cell_type": "code",
   "execution_count": 109,
   "id": "0a6808ba",
   "metadata": {},
   "outputs": [
    {
     "data": {
      "text/plain": [
       "(((2, 6), (12, 18)), ((3, 8), (24, 48)))"
      ]
     },
     "execution_count": 109,
     "metadata": {},
     "output_type": "execute_result"
    }
   ],
   "source": [
    "def totuple(a):\n",
    "    try:\n",
    "        return tuple(totuple(i) for i in a)\n",
    "    except TypeError:\n",
    "        return a\n",
    "totuple(b)"
   ]
  },
  {
   "cell_type": "code",
   "execution_count": 41,
   "id": "230ba401",
   "metadata": {},
   "outputs": [],
   "source": [
    "rv = np.random.rand(2)"
   ]
  },
  {
   "cell_type": "code",
   "execution_count": 59,
   "id": "b7231aa1",
   "metadata": {},
   "outputs": [
    {
     "data": {
      "text/plain": [
       "11"
      ]
     },
     "execution_count": 59,
     "metadata": {},
     "output_type": "execute_result"
    }
   ],
   "source": [
    "a = np.array([1,2])\n",
    "b = np.array([3,4])\n",
    "np.dot(b,a)"
   ]
  },
  {
   "cell_type": "code",
   "execution_count": 52,
   "id": "90a80b3b",
   "metadata": {},
   "outputs": [],
   "source": [
    "a = np.random.rand(1000000)"
   ]
  },
  {
   "cell_type": "code",
   "execution_count": 53,
   "id": "e454c38e",
   "metadata": {},
   "outputs": [
    {
     "data": {
      "text/plain": [
       "0.5002760764643178"
      ]
     },
     "execution_count": 53,
     "metadata": {},
     "output_type": "execute_result"
    }
   ],
   "source": [
    "a.mean()"
   ]
  },
  {
   "cell_type": "code",
   "execution_count": 61,
   "id": "245a9a47",
   "metadata": {},
   "outputs": [
    {
     "data": {
      "text/plain": [
       "0.3989422804014327"
      ]
     },
     "execution_count": 61,
     "metadata": {},
     "output_type": "execute_result"
    }
   ],
   "source": [
    "1/np.sqrt(2*np.pi)"
   ]
  },
  {
   "cell_type": "code",
   "execution_count": 57,
   "id": "18ba2099",
   "metadata": {},
   "outputs": [
    {
     "name": "stdout",
     "output_type": "stream",
     "text": [
      "[-0.35096004  0.45845683]\n",
      "[-0.70921911  0.20574619]\n",
      "[0.40605877 0.25600819]\n",
      "[-0.19997787 -0.37309863]\n",
      "[-0.83545927  0.43015566]\n",
      "[0.99436511 0.57053576]\n",
      "[-0.86734464 -0.64419284]\n",
      "[-0.9933867  -0.77638844]\n",
      "[-0.14434783 -0.76445935]\n",
      "[ 0.3806769  -0.69863813]\n"
     ]
    }
   ],
   "source": [
    "for i in range(10):\n",
    "    print(np.random.uniform(-1,1,2))\n",
    "    "
   ]
  },
  {
   "cell_type": "code",
   "execution_count": 78,
   "id": "f1a55464",
   "metadata": {},
   "outputs": [],
   "source": [
    "s = np.random.normal(0, 1, size=10000)"
   ]
  },
  {
   "cell_type": "code",
   "execution_count": 79,
   "id": "4203bbae",
   "metadata": {},
   "outputs": [
    {
     "data": {
      "text/plain": [
       "[<matplotlib.lines.Line2D at 0x7fd12bb3fa90>]"
      ]
     },
     "execution_count": 79,
     "metadata": {},
     "output_type": "execute_result"
    },
    {
     "data": {
      "image/png": "[encoded data removed]",
      "text/plain": [
       "<Figure size 432x288 with 1 Axes>"
      ]
     },
     "metadata": {
      "needs_background": "light"
     },
     "output_type": "display_data"
    }
   ],
   "source": [
    "import matplotlib.pyplot as plt\n",
    "plt.plot(s)"
   ]
  },
  {
   "cell_type": "code",
   "execution_count": 75,
   "id": "6ebed7da",
   "metadata": {},
   "outputs": [],
   "source": [
    "import random\n",
    "import time\n",
    "import math\n",
    "import multiprocessing\n",
    "from multiprocessing import Pool"
   ]
  },
  {
   "cell_type": "code",
   "execution_count": 190,
   "id": "2b8ca31d",
   "metadata": {},
   "outputs": [],
   "source": [
    "def mul(a, b):\n",
    "    time.sleep(0.5 * random.random())\n",
    "    return math.cos(a)*math.sin(b)\n",
    "def plus(a, b):\n",
    "    time.sleep(0.5 * random.random())\n",
    "    return a + b\n",
    "def calculate(func, args):\n",
    "    result = func(*args)\n",
    "    return result\n",
    "\n",
    "def calMul(ilist):\n",
    "    return [mul(i,7) for i in ilist]"
   ]
  },
  {
   "cell_type": "code",
   "execution_count": 30,
   "id": "bdb316db",
   "metadata": {},
   "outputs": [
    {
     "data": {
      "image/png": "[encoded data removed]",
      "text/plain": [
       "<Figure size 432x288 with 1 Axes>"
      ]
     },
     "metadata": {},
     "output_type": "display_data"
    }
   ],
   "source": [
    "# networkx\n",
    "import networkx as nx\n",
    "G = nx.complete_graph(7)\n",
    "pos = nx.kamada_kawai_layout(G)\n",
    "nx.draw(G, pos=pos)  # Draw the original graph\n",
    "# Draw a subgraph, reusing the same node positions\n",
    "nx.draw(G.subgraph([0, 1, 2]), pos=pos, node_color=\"red\")"
   ]
  },
  {
   "cell_type": "code",
   "execution_count": 282,
   "id": "40c239dc",
   "metadata": {},
   "outputs": [],
   "source": [
    "import numpy as np\n",
    "import matplotlib\n",
    "import matplotlib.pyplot as plt\n",
    "from scipy.stats import norm\n",
    "from sklearn.neighbors import KernelDensity\n",
    "from sklearn.utils.fixes import parse_version\n",
    "\n",
    "rng = np.random.RandomState(42)\n",
    "X = rng.random_sample((100, 1))"
   ]
  },
  {
   "cell_type": "code",
   "execution_count": 317,
   "id": "89f1a7b3",
   "metadata": {},
   "outputs": [
    {
     "data": {
      "text/plain": [
       "[<matplotlib.patches.Polygon at 0x7f9e911b7150>]"
      ]
     },
     "execution_count": 317,
     "metadata": {},
     "output_type": "execute_result"
    },
    {
     "data": {
      "image/png": "[encoded data removed]",
      "text/plain": [
       "<Figure size 360x360 with 1 Axes>"
      ]
     },
     "metadata": {
      "needs_background": "light"
     },
     "output_type": "display_data"
    }
   ],
   "source": [
    "fig, ax = plt.subplots(figsize=(5,5))\n",
    "kde = KernelDensity(kernel=\"gaussian\", bandwidth=0.05).fit(X)\n",
    "log_dens = kde.score_samples(X_plot)\n",
    "ax.fill(X_plot[:, 0], np.exp(log_dens))"
   ]
  },
  {
   "cell_type": "code",
   "execution_count": 280,
   "id": "b8dedae5",
   "metadata": {},
   "outputs": [
    {
     "data": {
      "text/plain": [
       "array([-0.40118831, -0.71968159, -0.4899135 ])"
      ]
     },
     "execution_count": 280,
     "metadata": {},
     "output_type": "execute_result"
    }
   ],
   "source": [
    "\n",
    "kde = KernelDensity(kernel='gaussian', bandwidth=0.5).fit(X)\n",
    "log_density = kde.score_samples(X[:3])\n",
    "log_density"
   ]
  },
  {
   "cell_type": "code",
   "execution_count": 329,
   "id": "07fc07b6",
   "metadata": {},
   "outputs": [
    {
     "data": {
      "text/plain": [
       "[0, 1, 2, 3, 4]"
      ]
     },
     "execution_count": 329,
     "metadata": {},
     "output_type": "execute_result"
    }
   ],
   "source": [
    "list(range(0,5))"
   ]
  },
  {
   "cell_type": "code",
   "execution_count": 324,
   "id": "b3dc4d45",
   "metadata": {},
   "outputs": [
    {
     "name": "stdout",
     "output_type": "stream",
     "text": [
      "0 1\n",
      "0 3\n",
      "1 3\n"
     ]
    }
   ],
   "source": [
    "import itertools\n",
    "for i, j in itertools.combinations([0,1,3], 2):\n",
    "    print(i,j)"
   ]
  },
  {
   "cell_type": "code",
   "execution_count": 375,
   "id": "2b21fd67",
   "metadata": {},
   "outputs": [
    {
     "data": {
      "text/plain": [
       "array([0.69187711, 0.31551563, 0.68650093, 0.83462567, 0.01828828,\n",
       "       0.75014431, 0.98886109])"
      ]
     },
     "execution_count": 375,
     "metadata": {},
     "output_type": "execute_result"
    }
   ],
   "source": [
    "a = [0, 0, 2, 3, 3, 3, 5]\n",
    "b = [1, 4, 5, 3, 2, 4, 6]\n",
    "c"
   ]
  },
  {
   "cell_type": "code",
   "execution_count": 390,
   "id": "348f6033",
   "metadata": {},
   "outputs": [],
   "source": [
    "def find_uniq_cell_pairs(pairs, distances):\n",
    "    '''\n",
    "    pairs: tuple (np.where format) \n",
    "    distances: 1d np.array <- pairwise distance \n",
    "    '''\n",
    "    return None\n",
    "    order = np.argsort(distances)\n",
    "    ordered_pairs = np.array(pairs).T[order]\n",
    "\n",
    "    fbd_cell_a = list()\n",
    "    fbd_cell_b = list()\n",
    "    uniq_pair = list()\n",
    "    for pair in ordered_pairs:\n",
    "        if pair[0] in fbd_cell_a or pair[1] in fbd_cell_b:\n",
    "            continue\n",
    "        else:\n",
    "            uniq_pair.append(pair)\n",
    "            fbd_cell_a.append(pair[0])\n",
    "            fbd_cell_b.append(pair[1])\n",
    "    return np.array(uniq_pair)\n",
    "\n"
   ]
  },
  {
   "cell_type": "code",
   "execution_count": 391,
   "id": "5a28ed9c",
   "metadata": {},
   "outputs": [],
   "source": [
    "idx = find_uniq_cell_pairs((a,b),c)"
   ]
  },
  {
   "cell_type": "code",
   "execution_count": 54,
   "id": "f9f95605",
   "metadata": {},
   "outputs": [],
   "source": [
    "import networkx as nx\n",
    "G = nx.DiGraph()"
   ]
  },
  {
   "cell_type": "code",
   "execution_count": 55,
   "id": "cbef1e6e",
   "metadata": {},
   "outputs": [],
   "source": [
    "G.add_weighted_edges_from([(0,1,451),(2,0,48), (0,3,907), (0,4,593), (0,5,967)])"
   ]
  },
  {
   "cell_type": "code",
   "execution_count": 81,
   "id": "172f0186",
   "metadata": {},
   "outputs": [
    {
     "data": {
      "image/png": "[encoded data removed]",
      "text/plain": [
       "<Figure size 432x288 with 1 Axes>"
      ]
     },
     "metadata": {},
     "output_type": "display_data"
    }
   ],
   "source": [
    "\n",
    "#pos = nx.spring_layout(G, k = 10)\n",
    "pos = nx.kamada_kawai_layout(G)\n",
    "nx.draw(G, pos=pos, with_labels = True, \n",
    "        node_size=500, node_color = 'b',\n",
    "       style=':',\n",
    "       font_size = 18, font_color = 'w')"
   ]
  },
  {
   "cell_type": "code",
   "execution_count": 549,
   "id": "a409565a",
   "metadata": {},
   "outputs": [],
   "source": [
    "rng = np.random.default_rng()\n",
    "points = rng.random((1000, 2))\n",
    "values = func(points[:,0], points[:,1])"
   ]
  },
  {
   "cell_type": "code",
   "execution_count": 552,
   "id": "823e1065",
   "metadata": {},
   "outputs": [],
   "source": [
    "from scipy.interpolate import griddata\n",
    "grid_z0 = griddata(points, values, (grid_x, grid_y), method='nearest')"
   ]
  },
  {
   "cell_type": "code",
   "execution_count": 553,
   "id": "3d1aff93",
   "metadata": {},
   "outputs": [
    {
     "data": {
      "text/plain": [
       "array([[1.42628928e-07, 1.42628928e-07, 1.42628928e-07, ...,\n",
       "        1.27648320e-05, 1.27648320e-05, 1.27648320e-05],\n",
       "       [1.42628928e-07, 1.42628928e-07, 1.42628928e-07, ...,\n",
       "        1.27648320e-05, 1.27648320e-05, 1.27648320e-05],\n",
       "       [1.42628928e-07, 1.42628928e-07, 1.42628928e-07, ...,\n",
       "        1.27648320e-05, 1.27648320e-05, 1.27648320e-05],\n",
       "       ...,\n",
       "       [2.09754649e-12, 1.36898451e-07, 1.36898451e-07, ...,\n",
       "        3.21051992e-03, 3.21051992e-03, 3.21051992e-03],\n",
       "       [2.09754649e-12, 2.09754649e-12, 1.36898451e-07, ...,\n",
       "        3.21051992e-03, 3.21051992e-03, 3.21051992e-03],\n",
       "       [2.09754649e-12, 2.09754649e-12, 2.09754649e-12, ...,\n",
       "        3.21051992e-03, 3.21051992e-03, 3.21051992e-03]])"
      ]
     },
     "execution_count": 553,
     "metadata": {},
     "output_type": "execute_result"
    }
   ],
   "source": [
    "grid_z0"
   ]
  },
  {
   "cell_type": "code",
   "execution_count": 554,
   "id": "ada017dd",
   "metadata": {},
   "outputs": [
    {
     "data": {
      "text/plain": [
       "Text(0.5, 1.0, 'Nearest')"
      ]
     },
     "execution_count": 554,
     "metadata": {},
     "output_type": "execute_result"
    },
    {
     "data": {
      "image/png": "[encoded data removed]",
      "text/plain": [
       "<Figure size 432x288 with 2 Axes>"
      ]
     },
     "metadata": {
      "needs_background": "light"
     },
     "output_type": "display_data"
    }
   ],
   "source": [
    "import matplotlib.pyplot as plt\n",
    ">>> plt.subplot(221)\n",
    ">>> plt.imshow(func(grid_x, grid_y).T, extent=(0,1,0,1), origin='lower')\n",
    ">>> plt.plot(points[:,0], points[:,1], 'k.', ms=1)\n",
    ">>> plt.title('Original')\n",
    ">>> plt.subplot(222)\n",
    ">>> plt.imshow(grid_z0.T, extent=(0,1,0,1), origin='lower')\n",
    ">>> plt.title('Nearest')"
   ]
  },
  {
   "cell_type": "code",
   "execution_count": 555,
   "id": "e9291f38",
   "metadata": {},
   "outputs": [
    {
     "data": {
      "text/plain": [
       "array([[0, 1],\n",
       "       [2, 2]])"
      ]
     },
     "execution_count": 555,
     "metadata": {},
     "output_type": "execute_result"
    }
   ],
   "source": [
    "grid_idx = np.array([[0,1],[2,5]])\n",
    "steps = np.array([2,2])\n",
    "np.where(grid_idx > steps, steps, grid_idx)"
   ]
  },
  {
   "cell_type": "code",
   "execution_count": 2,
   "id": "8b23f47d",
   "metadata": {},
   "outputs": [],
   "source": [
    "a = dict()\n",
    "a[1] = 3"
   ]
  },
  {
   "cell_type": "code",
   "execution_count": 12,
   "id": "60234c5c",
   "metadata": {},
   "outputs": [],
   "source": [
    "import matplotlib.pyplot as plt\n",
    "idx = np.random.rand(100,2)"
   ]
  },
  {
   "cell_type": "code",
   "execution_count": 41,
   "id": "b3fa8f0e",
   "metadata": {},
   "outputs": [
    {
     "data": {
      "text/plain": [
       "(array([ 8., 11., 13.,  8.,  6., 11., 14., 10.,  9., 10.]),\n",
       " array([0.00577583, 0.10514915, 0.20452247, 0.3038958 , 0.40326912,\n",
       "        0.50264245, 0.60201577, 0.70138909, 0.80076242, 0.90013574,\n",
       "        0.99950907]),\n",
       " <BarContainer object of 10 artists>)"
      ]
     },
     "execution_count": 41,
     "metadata": {},
     "output_type": "execute_result"
    },
    {
     "data": {
      "image/png": "[encoded data removed]",
      "text/plain": [
       "<Figure size 432x288 with 1 Axes>"
      ]
     },
     "metadata": {
      "needs_background": "light"
     },
     "output_type": "display_data"
    }
   ],
   "source": [
    "plt.hist(deltaT_values)"
   ]
  },
  {
   "cell_type": "code",
   "execution_count": 35,
   "id": "4fd5c670",
   "metadata": {},
   "outputs": [],
   "source": [
    "tips = sn.load_dataset(\"tips\")"
   ]
  },
  {
   "cell_type": "code",
   "execution_count": 47,
   "id": "5555d479",
   "metadata": {},
   "outputs": [
    {
     "data": {
      "image/png": "[encoded data removed]",
      "text/plain": [
       "<Figure size 432x288 with 1 Axes>"
      ]
     },
     "metadata": {
      "needs_background": "light"
     },
     "output_type": "display_data"
    }
   ],
   "source": []
  },
  {
   "cell_type": "code",
   "execution_count": 18,
   "id": "4a736d10",
   "metadata": {},
   "outputs": [],
   "source": [
    "a = []\n",
    "a.append((5,3))"
   ]
  },
  {
   "cell_type": "code",
   "execution_count": 20,
   "id": "cc9ea91b",
   "metadata": {},
   "outputs": [],
   "source": [
    "a = np.array(a)"
   ]
  },
  {
   "cell_type": "code",
   "execution_count": 39,
   "id": "2fb039d2",
   "metadata": {},
   "outputs": [],
   "source": [
    "a = np.random.rand(5,2)"
   ]
  },
  {
   "cell_type": "code",
   "execution_count": 38,
   "id": "9a108884",
   "metadata": {},
   "outputs": [
    {
     "data": {
      "text/plain": [
       "0.2682663578422863"
      ]
     },
     "execution_count": 38,
     "metadata": {},
     "output_type": "execute_result"
    }
   ],
   "source": [
    "np.std(np.linalg.norm(a, axis=1))"
   ]
  },
  {
   "cell_type": "code",
   "execution_count": 40,
   "id": "4110fd53",
   "metadata": {},
   "outputs": [
    {
     "data": {
      "text/plain": [
       "array([[7.44767684e-01, 5.95289121e-01],\n",
       "       [2.60924092e-01, 4.67561301e-01],\n",
       "       [5.39215278e-01, 7.92596648e-02],\n",
       "       [2.96700945e-04, 9.04962127e-01],\n",
       "       [9.77713793e-01, 4.50253108e-02]])"
      ]
     },
     "execution_count": 40,
     "metadata": {},
     "output_type": "execute_result"
    }
   ],
   "source": [
    "curve = bezier.Curve(nodes, degree=4)\n",
    "curve_dots = curve.evaluate_multi(s_vals)"
   ]
  },
  {
   "cell_type": "code",
   "execution_count": 41,
   "id": "0dce5e3b",
   "metadata": {},
   "outputs": [],
   "source": [
    "b = np.array([1,2,3,4,5])"
   ]
  },
  {
   "cell_type": "code",
   "execution_count": 43,
   "id": "24d27197",
   "metadata": {},
   "outputs": [
    {
     "data": {
      "text/plain": [
       "array([[7.44767684e-01, 5.95289121e-01],\n",
       "       [5.21848184e-01, 9.35122602e-01],\n",
       "       [1.61764583e+00, 2.37778994e-01],\n",
       "       [1.18680378e-03, 3.61984851e+00],\n",
       "       [4.88856896e+00, 2.25126554e-01]])"
      ]
     },
     "execution_count": 43,
     "metadata": {},
     "output_type": "execute_result"
    }
   ],
   "source": [
    "a*b[:,None]"
   ]
  },
  {
   "cell_type": "code",
   "execution_count": 44,
   "id": "64cc7a30",
   "metadata": {},
   "outputs": [
    {
     "data": {
      "text/plain": [
       "array([[7.44767684e-01, 5.95289121e-01],\n",
       "       [2.60924092e-01, 4.67561301e-01],\n",
       "       [5.39215278e-01, 7.92596648e-02],\n",
       "       [2.96700945e-04, 9.04962127e-01],\n",
       "       [9.77713793e-01, 4.50253108e-02]])"
      ]
     },
     "execution_count": 44,
     "metadata": {},
     "output_type": "execute_result"
    }
   ],
   "source": [
    "a"
   ]
  },
  {
   "cell_type": "code",
   "execution_count": 30,
   "id": "bad6a45a",
   "metadata": {},
   "outputs": [],
   "source": [
    "import seaborn as sns\n",
    "import matplotlib.pylab as plt\n",
    "from matplotlib.colors import ListedColormap\n",
    "cmap = sns.color_palette(\"Spectral\",as_cmap=True)"
   ]
  },
  {
   "cell_type": "code",
   "execution_count": 60,
   "id": "4171d7a1",
   "metadata": {},
   "outputs": [
    {
     "name": "stdout",
     "output_type": "stream",
     "text": [
      "ds/dx=0.0 ds/dy=1.0\n"
     ]
    }
   ],
   "source": [
    "from scipy.interpolate import CubicSpline\n",
    "theta = 2 * np.pi * np.linspace(0, 1, 100)\n",
    "y = np.c_[np.cos(theta), np.sin(theta)]\n",
    "cs = CubicSpline(theta, y, bc_type='periodic')\n",
    "print(\"ds/dx={:.1f} ds/dy={:.1f}\".format(cs(0, 1)[0], cs(0, 1)[1]))\n"
   ]
  },
  {
   "cell_type": "code",
   "execution_count": 88,
   "id": "78e1cb73",
   "metadata": {},
   "outputs": [
    {
     "data": {
      "text/plain": [
       "array([], dtype=float64)"
      ]
     },
     "execution_count": 88,
     "metadata": {},
     "output_type": "execute_result"
    }
   ],
   "source": [
    "ct[np.logical_and(ct>0.4, ct<0.45)]"
   ]
  },
  {
   "cell_type": "code",
   "execution_count": 92,
   "id": "b5b79125",
   "metadata": {},
   "outputs": [],
   "source": [
    "cell=[{1:3,2:5},{4:6,8:10}]"
   ]
  },
  {
   "cell_type": "code",
   "execution_count": 93,
   "id": "ce094ad6",
   "metadata": {},
   "outputs": [],
   "source": [
    "def manipulate(cells):\n",
    "    for mydict in cells:\n",
    "        mydict[10]=10\n",
    "\n",
    "manipulate(cell)"
   ]
  },
  {
   "cell_type": "code",
   "execution_count": 571,
   "id": "f2f95f7d",
   "metadata": {},
   "outputs": [
    {
     "name": "stdout",
     "output_type": "stream",
     "text": [
      "2.6.3\n",
      "3.5.0\n"
     ]
    }
   ],
   "source": [
    "print(nx.__version__)\n",
    "import matplotlib\n",
    "print(matplotlib.__version__)"
   ]
  },
  {
   "cell_type": "code",
   "execution_count": 99,
   "id": "15d2f287",
   "metadata": {},
   "outputs": [
    {
     "data": {
      "image/png": "[encoded data removed]",
      "text/plain": [
       "<Figure size 432x288 with 1 Axes>"
      ]
     },
     "metadata": {},
     "output_type": "display_data"
    }
   ],
   "source": [
    "import networkx as nx\n",
    "G = nx.DiGraph()\n",
    "\n",
    "nx.add_path(G, [1,2,3,4])\n",
    "nx.add_path(G, [3,'a','b'])\n",
    "\n",
    "nx.draw(G, with_labels=True)"
   ]
  },
  {
   "cell_type": "code",
   "execution_count": 11,
   "id": "55639bb9",
   "metadata": {},
   "outputs": [
    {
     "data": {
      "image/png": "[encoded data removed]",
      "text/plain": [
       "<Figure size 432x288 with 2 Axes>"
      ]
     },
     "metadata": {
      "needs_background": "light"
     },
     "output_type": "display_data"
    },
    {
     "data": {
      "image/png": "[encoded data removed]",
      "text/plain": [
       "<Figure size 432x288 with 2 Axes>"
      ]
     },
     "metadata": {
      "needs_background": "light"
     },
     "output_type": "display_data"
    }
   ],
   "source": [
    "import numpy as np\n",
    "from scipy import interpolate\n",
    "import matplotlib.pyplot as plt\n",
    "\n",
    "# Define function over sparse 20x20 grid\n",
    "\n",
    "x,y = np.mgrid[-1:1:20j,-1:1:20j]\n",
    "z = (x+y)*np.exp(-6.0*(x*x+y*y))\n",
    "\n",
    "plt.figure()\n",
    "plt.pcolor(x,y,z)\n",
    "plt.colorbar()\n",
    "plt.title(\"Sparsely sampled function.\")\n",
    "plt.show()\n",
    "\n",
    "# Interpolate function over new 70x70 grid\n",
    "\n",
    "xnew,ynew = np.mgrid[-1:1:70j,-1:1:70j]\n",
    "tck = interpolate.bisplrep(x,y,z,s=0)\n",
    "znew = interpolate.bisplev(xnew[:,0],ynew[0,:],tck)\n",
    "\n",
    "plt.figure()\n",
    "plt.pcolor(xnew,ynew,znew)\n",
    "plt.colorbar()\n",
    "plt.title(\"Interpolated function.\")\n",
    "plt.show()"
   ]
  },
  {
   "cell_type": "code",
   "execution_count": 14,
   "id": "0d968c6f",
   "metadata": {},
   "outputs": [],
   "source": [
    "import seaborn as sns\n",
    "pal = sns.color_palette(\"colorblind\", n_colors=6)"
   ]
  },
  {
   "cell_type": "code",
   "execution_count": 16,
   "id": "b10c0c3b",
   "metadata": {},
   "outputs": [],
   "source": [
    "a = pal.as_hex()"
   ]
  },
  {
   "cell_type": "code",
   "execution_count": 18,
   "id": "c0aa5865",
   "metadata": {},
   "outputs": [
    {
     "name": "stdout",
     "output_type": "stream",
     "text": [
      "['#0173b2', '#de8f05', '#029e73', '#d55e00', '#cc78bc', '#ca9161']\n"
     ]
    }
   ],
   "source": [
    "print(a)"
   ]
  },
  {
   "cell_type": "code",
   "execution_count": 19,
   "id": "e6281954",
   "metadata": {},
   "outputs": [],
   "source": [
    "import pandas as pd"
   ]
  },
  {
   "cell_type": "code",
   "execution_count": 59,
   "id": "5e55cc06",
   "metadata": {},
   "outputs": [],
   "source": [
    "nodes = pd.DataFrame(np.random.rand(1000,2), columns=('x','y'))\n",
    "nodes['node_name']=range(len(nodes))"
   ]
  },
  {
   "cell_type": "code",
   "execution_count": 68,
   "id": "065bc102",
   "metadata": {},
   "outputs": [],
   "source": [
    "edges = pd.DataFrame([(0, 1, 1)], columns=['source','target','weight'])"
   ]
  },
  {
   "cell_type": "code",
   "execution_count": 76,
   "id": "f3fe2da4",
   "metadata": {},
   "outputs": [],
   "source": [
    "import pandas as pd"
   ]
  },
  {
   "cell_type": "code",
   "execution_count": 65,
   "id": "4ce5e1b3",
   "metadata": {},
   "outputs": [],
   "source": [
    "Index= ['aaa','bbb','ccc','ddd','eee']\n",
    "Cols = ['A', 'B', 'C','D']\n",
    "df = pd.DataFrame(abs(np.random.randn(5, 4)), index= Index, columns=Cols)"
   ]
  },
  {
   "cell_type": "code",
   "execution_count": 68,
   "id": "5288b684",
   "metadata": {},
   "outputs": [
    {
     "data": {
      "text/plain": [
       "<seaborn.axisgrid.PairGrid at 0x7fba7899e280>"
      ]
     },
     "execution_count": 68,
     "metadata": {},
     "output_type": "execute_result"
    },
    {
     "data": {
      "image/png": "[encoded data removed]",
      "text/plain": [
       "<Figure size 720x720 with 20 Axes>"
      ]
     },
     "metadata": {
      "needs_background": "light"
     },
     "output_type": "display_data"
    }
   ],
   "source": [
    "sns.pairplot(df)"
   ]
  },
  {
   "cell_type": "code",
   "execution_count": 75,
   "id": "5e45eee9",
   "metadata": {},
   "outputs": [
    {
     "data": {
      "text/plain": [
       "<AxesSubplot:>"
      ]
     },
     "execution_count": 75,
     "metadata": {},
     "output_type": "execute_result"
    },
    {
     "data": {
      "image/png": "[encoded data removed]",
      "text/plain": [
       "<Figure size 720x576 with 2 Axes>"
      ]
     },
     "metadata": {
      "needs_background": "light"
     },
     "output_type": "display_data"
    }
   ],
   "source": [
    "f, ax = plt.subplots(figsize=(10, 8))\n",
    "corr = df.corr()\n",
    "sns.heatmap(corr, mask=np.zeros_like(corr, dtype=bool), cmap=sns.diverging_palette(220, 10, as_cmap=True),\n",
    "            square=True, ax=ax)"
   ]
  },
  {
   "cell_type": "code",
   "execution_count": 79,
   "id": "ce71300e",
   "metadata": {},
   "outputs": [
    {
     "name": "stdout",
     "output_type": "stream",
     "text": [
      "Collecting bezier\n",
      "\u001b[33m  WARNING: Retrying (Retry(total=4, connect=None, read=None, redirect=None, status=None)) after connection broken by 'ReadTimeoutError(\"HTTPSConnectionPool(host='files.pythonhosted.org', port=443): Read timed out. (read timeout=15)\")': /packages/3b/48/651cd0a23c80d3b8594dd2bc0825f84fb0cd7bf7d046a24580632a1a1489/bezier-2021.2.12-cp39-cp39-macosx_10_9_x86_64.whl\u001b[0m\n",
      "  Downloading bezier-2021.2.12-cp39-cp39-macosx_10_9_x86_64.whl (1.7 MB)\n",
      "\u001b[K     |████████████████████████████████| 1.7 MB 1.1 MB/s eta 0:00:01\n",
      "\u001b[?25hRequirement already satisfied: numpy>=1.20.1 in /Users/pengzhizhang/miniconda3/lib/python3.9/site-packages (from bezier) (1.21.5)\n",
      "Installing collected packages: bezier\n",
      "Successfully installed bezier-2021.2.12\n"
     ]
    }
   ],
   "source": [
    "!python    -m pip install --upgrade bezier"
   ]
  },
  {
   "cell_type": "code",
   "execution_count": 136,
   "id": "8d466638",
   "metadata": {},
   "outputs": [],
   "source": [
    "import bezier\n",
    "nodes1 = np.asfortranarray([[0.0, 0.5, 1.0],[0.0, 1.0, 0.0],])\n",
    "curve1 = bezier.Curve(nodes1, degree=2)"
   ]
  },
  {
   "cell_type": "code",
   "execution_count": 125,
   "id": "403a5f48",
   "metadata": {},
   "outputs": [],
   "source": [
    "s_vals = np.linspace(0,1,100)"
   ]
  },
  {
   "cell_type": "code",
   "execution_count": 126,
   "id": "e111804e",
   "metadata": {},
   "outputs": [],
   "source": [
    "dots = curve1.evaluate_multi(s_vals)"
   ]
  },
  {
   "cell_type": "code",
   "execution_count": 127,
   "id": "4093ca27",
   "metadata": {},
   "outputs": [
    {
     "data": {
      "text/plain": [
       "[<matplotlib.lines.Line2D at 0x7fb5c0532ca0>]"
      ]
     },
     "execution_count": 127,
     "metadata": {},
     "output_type": "execute_result"
    },
    {
     "data": {
      "image/png": "[encoded data removed]",
      "text/plain": [
       "<Figure size 432x288 with 1 Axes>"
      ]
     },
     "metadata": {
      "needs_background": "light"
     },
     "output_type": "display_data"
    }
   ],
   "source": [
    "plt.plot(dots[0,:], dots[1,:])"
   ]
  },
  {
   "cell_type": "code",
   "execution_count": 130,
   "id": "81727dad",
   "metadata": {},
   "outputs": [],
   "source": [
    "# import from absolute directory\n",
    "import os \n",
    "import sys\n",
    "srcdir = os.path.join(os.getcwd(), '../')\n",
    "sys.path.append(srcdir)"
   ]
  },
  {
   "cell_type": "code",
   "execution_count": 131,
   "id": "bccfe7c7",
   "metadata": {},
   "outputs": [],
   "source": [
    "from pseudotime.pseudo_time import *"
   ]
  },
  {
   "cell_type": "code",
   "execution_count": 139,
   "id": "0b7ae390",
   "metadata": {},
   "outputs": [],
   "source": [
    "n_clusters=3\n",
    "cmap = ListedColormap(sns.color_palette(\"colorblind\", n_colors = n_clusters))"
   ]
  },
  {
   "cell_type": "code",
   "execution_count": 140,
   "id": "bef74395",
   "metadata": {},
   "outputs": [
    {
     "data": {
      "image/png": "[encoded data removed]",
      "text/html": [
       "<div style=\"vertical-align: middle;\"><strong>from_list</strong> </div><div class=\"cmap\"><img alt=\"from_list colormap\" title=\"from_list\" style=\"border: 1px solid #555;\" src=\"data:image/png;base64,iVBORw0KGgoAAAANSUhEUgAAAgAAAABACAYAAABsv8+/AAAAGHRFWHRUaXRsZQBmcm9tX2xpc3QgY29sb3JtYXBDL89FAAAAHnRFWHREZXNjcmlwdGlvbgBmcm9tX2xpc3QgY29sb3JtYXABtCnOAAAAMHRFWHRBdXRob3IATWF0cGxvdGxpYiB2My41LjEsIGh0dHBzOi8vbWF0cGxvdGxpYi5vcmf3t87PAAAAMnRFWHRTb2Z0d2FyZQBNYXRwbG90bGliIHYzLjUuMSwgaHR0cHM6Ly9tYXRwbG90bGliLm9yZ9kRUegAAAFASURBVHic7dYxEcJAAADBfAxgIGUc4YMGZ/iJFiIhVPxkblfBlTfG+/Nd4AaO7Tk7AS7tj9fsBPjJOjsAAPg/AwAAQQYAAIIMAAAEGQAACDIAABBkAAAgyAAAQJABAIAgAwAAQQYAAIIMAAAEGQAACDIAABBkAAAgyAAAQJABAIAgAwAAQQYAAIIMAAAEGQAACDIAABBkAAAgyAAAQJABAIAgAwAAQQYAAIIMAAAEGQAACDIAABBkAAAgyAAAQJABAIAgAwAAQQYAAIIMAAAEGQAACDIAABBkAAAgyAAAQJABAIAgAwAAQQYAAIIMAAAEGQAACDIAABBkAAAgyAAAQJABAIAgAwAAQQYAAIIMAAAEGQAACDIAABBkAAAgyAAAQJABAIAgAwAAQQYAAIIMAAAEGQAACDIAABBkAAAg6AS6qQSSEOyevgAAAABJRU5ErkJggg==\"></div><div style=\"vertical-align: middle; max-width: 514px; display: flex; justify-content: space-between;\"><div style=\"float: left;\"><div title=\"#0173b2ff\" style=\"display: inline-block; width: 1em; height: 1em; margin: 0; vertical-align: middle; border: 1px solid #555; background-color: #0173b2ff;\"></div> under</div><div style=\"margin: 0 auto; display: inline-block;\">bad <div title=\"#00000000\" style=\"display: inline-block; width: 1em; height: 1em; margin: 0; vertical-align: middle; border: 1px solid #555; background-color: #00000000;\"></div></div><div style=\"float: right;\">over <div title=\"#029e73ff\" style=\"display: inline-block; width: 1em; height: 1em; margin: 0; vertical-align: middle; border: 1px solid #555; background-color: #029e73ff;\"></div></div>"
      ],
      "text/plain": [
       "<matplotlib.colors.ListedColormap at 0x7fb749a6c4f0>"
      ]
     },
     "execution_count": 140,
     "metadata": {},
     "output_type": "execute_result"
    }
   ],
   "source": [
    "cmap"
   ]
  },
  {
   "cell_type": "code",
   "execution_count": 148,
   "id": "b8ddd667",
   "metadata": {},
   "outputs": [
    {
     "data": {
      "text/html": [
       "<svg  width=\"5500\" height=\"55\"><rect x=\"0\" y=\"0\" width=\"55\" height=\"55\" style=\"fill:#eff1f3;stroke-width:2;stroke:rgb(255,255,255)\"/><rect x=\"55\" y=\"0\" width=\"55\" height=\"55\" style=\"fill:#eef0f2;stroke-width:2;stroke:rgb(255,255,255)\"/><rect x=\"110\" y=\"0\" width=\"55\" height=\"55\" style=\"fill:#ebeef1;stroke-width:2;stroke:rgb(255,255,255)\"/><rect x=\"165\" y=\"0\" width=\"55\" height=\"55\" style=\"fill:#e9edf1;stroke-width:2;stroke:rgb(255,255,255)\"/><rect x=\"220\" y=\"0\" width=\"55\" height=\"55\" style=\"fill:#e6ecf0;stroke-width:2;stroke:rgb(255,255,255)\"/><rect x=\"275\" y=\"0\" width=\"55\" height=\"55\" style=\"fill:#e4ebf0;stroke-width:2;stroke:rgb(255,255,255)\"/><rect x=\"330\" y=\"0\" width=\"55\" height=\"55\" style=\"fill:#e1e9ef;stroke-width:2;stroke:rgb(255,255,255)\"/><rect x=\"385\" y=\"0\" width=\"55\" height=\"55\" style=\"fill:#dfe8ee;stroke-width:2;stroke:rgb(255,255,255)\"/><rect x=\"440\" y=\"0\" width=\"55\" height=\"55\" style=\"fill:#dde7ee;stroke-width:2;stroke:rgb(255,255,255)\"/><rect x=\"495\" y=\"0\" width=\"55\" height=\"55\" style=\"fill:#dae5ed;stroke-width:2;stroke:rgb(255,255,255)\"/><rect x=\"550\" y=\"0\" width=\"55\" height=\"55\" style=\"fill:#d8e4ec;stroke-width:2;stroke:rgb(255,255,255)\"/><rect x=\"605\" y=\"0\" width=\"55\" height=\"55\" style=\"fill:#d5e3ec;stroke-width:2;stroke:rgb(255,255,255)\"/><rect x=\"660\" y=\"0\" width=\"55\" height=\"55\" style=\"fill:#d2e1eb;stroke-width:2;stroke:rgb(255,255,255)\"/><rect x=\"715\" y=\"0\" width=\"55\" height=\"55\" style=\"fill:#d1e0ea;stroke-width:2;stroke:rgb(255,255,255)\"/><rect x=\"770\" y=\"0\" width=\"55\" height=\"55\" style=\"fill:#cedfea;stroke-width:2;stroke:rgb(255,255,255)\"/><rect x=\"825\" y=\"0\" width=\"55\" height=\"55\" style=\"fill:#ccdee9;stroke-width:2;stroke:rgb(255,255,255)\"/><rect x=\"880\" y=\"0\" width=\"55\" height=\"55\" style=\"fill:#c9dde8;stroke-width:2;stroke:rgb(255,255,255)\"/><rect x=\"935\" y=\"0\" width=\"55\" height=\"55\" style=\"fill:#c7dce8;stroke-width:2;stroke:rgb(255,255,255)\"/><rect x=\"990\" y=\"0\" width=\"55\" height=\"55\" style=\"fill:#c4dae7;stroke-width:2;stroke:rgb(255,255,255)\"/><rect x=\"1045\" y=\"0\" width=\"55\" height=\"55\" style=\"fill:#c2d9e6;stroke-width:2;stroke:rgb(255,255,255)\"/><rect x=\"1100\" y=\"0\" width=\"55\" height=\"55\" style=\"fill:#c0d8e6;stroke-width:2;stroke:rgb(255,255,255)\"/><rect x=\"1155\" y=\"0\" width=\"55\" height=\"55\" style=\"fill:#bdd6e5;stroke-width:2;stroke:rgb(255,255,255)\"/><rect x=\"1210\" y=\"0\" width=\"55\" height=\"55\" style=\"fill:#bbd5e5;stroke-width:2;stroke:rgb(255,255,255)\"/><rect x=\"1265\" y=\"0\" width=\"55\" height=\"55\" style=\"fill:#b8d4e4;stroke-width:2;stroke:rgb(255,255,255)\"/><rect x=\"1320\" y=\"0\" width=\"55\" height=\"55\" style=\"fill:#b5d2e3;stroke-width:2;stroke:rgb(255,255,255)\"/><rect x=\"1375\" y=\"0\" width=\"55\" height=\"55\" style=\"fill:#b4d1e3;stroke-width:2;stroke:rgb(255,255,255)\"/><rect x=\"1430\" y=\"0\" width=\"55\" height=\"55\" style=\"fill:#b1d0e2;stroke-width:2;stroke:rgb(255,255,255)\"/><rect x=\"1485\" y=\"0\" width=\"55\" height=\"55\" style=\"fill:#afcfe1;stroke-width:2;stroke:rgb(255,255,255)\"/><rect x=\"1540\" y=\"0\" width=\"55\" height=\"55\" style=\"fill:#accde0;stroke-width:2;stroke:rgb(255,255,255)\"/><rect x=\"1595\" y=\"0\" width=\"55\" height=\"55\" style=\"fill:#aacce0;stroke-width:2;stroke:rgb(255,255,255)\"/><rect x=\"1650\" y=\"0\" width=\"55\" height=\"55\" style=\"fill:#a7cbdf;stroke-width:2;stroke:rgb(255,255,255)\"/><rect x=\"1705\" y=\"0\" width=\"55\" height=\"55\" style=\"fill:#a5c9de;stroke-width:2;stroke:rgb(255,255,255)\"/><rect x=\"1760\" y=\"0\" width=\"55\" height=\"55\" style=\"fill:#a3c8de;stroke-width:2;stroke:rgb(255,255,255)\"/><rect x=\"1815\" y=\"0\" width=\"55\" height=\"55\" style=\"fill:#a0c7dd;stroke-width:2;stroke:rgb(255,255,255)\"/><rect x=\"1870\" y=\"0\" width=\"55\" height=\"55\" style=\"fill:#9ec6dd;stroke-width:2;stroke:rgb(255,255,255)\"/><rect x=\"1925\" y=\"0\" width=\"55\" height=\"55\" style=\"fill:#9bc4dc;stroke-width:2;stroke:rgb(255,255,255)\"/><rect x=\"1980\" y=\"0\" width=\"55\" height=\"55\" style=\"fill:#98c3db;stroke-width:2;stroke:rgb(255,255,255)\"/><rect x=\"2035\" y=\"0\" width=\"55\" height=\"55\" style=\"fill:#97c2db;stroke-width:2;stroke:rgb(255,255,255)\"/><rect x=\"2090\" y=\"0\" width=\"55\" height=\"55\" style=\"fill:#94c0da;stroke-width:2;stroke:rgb(255,255,255)\"/><rect x=\"2145\" y=\"0\" width=\"55\" height=\"55\" style=\"fill:#92bfd9;stroke-width:2;stroke:rgb(255,255,255)\"/><rect x=\"2200\" y=\"0\" width=\"55\" height=\"55\" style=\"fill:#8fbed9;stroke-width:2;stroke:rgb(255,255,255)\"/><rect x=\"2255\" y=\"0\" width=\"55\" height=\"55\" style=\"fill:#8cbcd8;stroke-width:2;stroke:rgb(255,255,255)\"/><rect x=\"2310\" y=\"0\" width=\"55\" height=\"55\" style=\"fill:#8abbd7;stroke-width:2;stroke:rgb(255,255,255)\"/><rect x=\"2365\" y=\"0\" width=\"55\" height=\"55\" style=\"fill:#88bad7;stroke-width:2;stroke:rgb(255,255,255)\"/><rect x=\"2420\" y=\"0\" width=\"55\" height=\"55\" style=\"fill:#86b9d6;stroke-width:2;stroke:rgb(255,255,255)\"/><rect x=\"2475\" y=\"0\" width=\"55\" height=\"55\" style=\"fill:#83b8d5;stroke-width:2;stroke:rgb(255,255,255)\"/><rect x=\"2530\" y=\"0\" width=\"55\" height=\"55\" style=\"fill:#81b7d5;stroke-width:2;stroke:rgb(255,255,255)\"/><rect x=\"2585\" y=\"0\" width=\"55\" height=\"55\" style=\"fill:#7eb5d4;stroke-width:2;stroke:rgb(255,255,255)\"/><rect x=\"2640\" y=\"0\" width=\"55\" height=\"55\" style=\"fill:#7bb4d3;stroke-width:2;stroke:rgb(255,255,255)\"/><rect x=\"2695\" y=\"0\" width=\"55\" height=\"55\" style=\"fill:#7ab3d3;stroke-width:2;stroke:rgb(255,255,255)\"/><rect x=\"2750\" y=\"0\" width=\"55\" height=\"55\" style=\"fill:#77b1d2;stroke-width:2;stroke:rgb(255,255,255)\"/><rect x=\"2805\" y=\"0\" width=\"55\" height=\"55\" style=\"fill:#75b0d1;stroke-width:2;stroke:rgb(255,255,255)\"/><rect x=\"2860\" y=\"0\" width=\"55\" height=\"55\" style=\"fill:#72afd1;stroke-width:2;stroke:rgb(255,255,255)\"/><rect x=\"2915\" y=\"0\" width=\"55\" height=\"55\" style=\"fill:#6fadd0;stroke-width:2;stroke:rgb(255,255,255)\"/><rect x=\"2970\" y=\"0\" width=\"55\" height=\"55\" style=\"fill:#6daccf;stroke-width:2;stroke:rgb(255,255,255)\"/><rect x=\"3025\" y=\"0\" width=\"55\" height=\"55\" style=\"fill:#6babcf;stroke-width:2;stroke:rgb(255,255,255)\"/><rect x=\"3080\" y=\"0\" width=\"55\" height=\"55\" style=\"fill:#69aace;stroke-width:2;stroke:rgb(255,255,255)\"/><rect x=\"3135\" y=\"0\" width=\"55\" height=\"55\" style=\"fill:#66a8cd;stroke-width:2;stroke:rgb(255,255,255)\"/><rect x=\"3190\" y=\"0\" width=\"55\" height=\"55\" style=\"fill:#64a7cd;stroke-width:2;stroke:rgb(255,255,255)\"/><rect x=\"3245\" y=\"0\" width=\"55\" height=\"55\" style=\"fill:#61a6cc;stroke-width:2;stroke:rgb(255,255,255)\"/><rect x=\"3300\" y=\"0\" width=\"55\" height=\"55\" style=\"fill:#5ea4cb;stroke-width:2;stroke:rgb(255,255,255)\"/><rect x=\"3355\" y=\"0\" width=\"55\" height=\"55\" style=\"fill:#5da3cb;stroke-width:2;stroke:rgb(255,255,255)\"/><rect x=\"3410\" y=\"0\" width=\"55\" height=\"55\" style=\"fill:#5aa2ca;stroke-width:2;stroke:rgb(255,255,255)\"/><rect x=\"3465\" y=\"0\" width=\"55\" height=\"55\" style=\"fill:#58a1ca;stroke-width:2;stroke:rgb(255,255,255)\"/><rect x=\"3520\" y=\"0\" width=\"55\" height=\"55\" style=\"fill:#559fc9;stroke-width:2;stroke:rgb(255,255,255)\"/><rect x=\"3575\" y=\"0\" width=\"55\" height=\"55\" style=\"fill:#529ec8;stroke-width:2;stroke:rgb(255,255,255)\"/><rect x=\"3630\" y=\"0\" width=\"55\" height=\"55\" style=\"fill:#509dc8;stroke-width:2;stroke:rgb(255,255,255)\"/><rect x=\"3685\" y=\"0\" width=\"55\" height=\"55\" style=\"fill:#4e9bc7;stroke-width:2;stroke:rgb(255,255,255)\"/><rect x=\"3740\" y=\"0\" width=\"55\" height=\"55\" style=\"fill:#4c9ac6;stroke-width:2;stroke:rgb(255,255,255)\"/><rect x=\"3795\" y=\"0\" width=\"55\" height=\"55\" style=\"fill:#4999c6;stroke-width:2;stroke:rgb(255,255,255)\"/><rect x=\"3850\" y=\"0\" width=\"55\" height=\"55\" style=\"fill:#4697c5;stroke-width:2;stroke:rgb(255,255,255)\"/><rect x=\"3905\" y=\"0\" width=\"55\" height=\"55\" style=\"fill:#4496c4;stroke-width:2;stroke:rgb(255,255,255)\"/><rect x=\"3960\" y=\"0\" width=\"55\" height=\"55\" style=\"fill:#4295c4;stroke-width:2;stroke:rgb(255,255,255)\"/><rect x=\"4015\" y=\"0\" width=\"55\" height=\"55\" style=\"fill:#4094c3;stroke-width:2;stroke:rgb(255,255,255)\"/><rect x=\"4070\" y=\"0\" width=\"55\" height=\"55\" style=\"fill:#3d93c2;stroke-width:2;stroke:rgb(255,255,255)\"/><rect x=\"4125\" y=\"0\" width=\"55\" height=\"55\" style=\"fill:#3b92c2;stroke-width:2;stroke:rgb(255,255,255)\"/><rect x=\"4180\" y=\"0\" width=\"55\" height=\"55\" style=\"fill:#3890c1;stroke-width:2;stroke:rgb(255,255,255)\"/><rect x=\"4235\" y=\"0\" width=\"55\" height=\"55\" style=\"fill:#358fc0;stroke-width:2;stroke:rgb(255,255,255)\"/><rect x=\"4290\" y=\"0\" width=\"55\" height=\"55\" style=\"fill:#338ec0;stroke-width:2;stroke:rgb(255,255,255)\"/><rect x=\"4345\" y=\"0\" width=\"55\" height=\"55\" style=\"fill:#318cbf;stroke-width:2;stroke:rgb(255,255,255)\"/><rect x=\"4400\" y=\"0\" width=\"55\" height=\"55\" style=\"fill:#2f8bbe;stroke-width:2;stroke:rgb(255,255,255)\"/><rect x=\"4455\" y=\"0\" width=\"55\" height=\"55\" style=\"fill:#2c8abe;stroke-width:2;stroke:rgb(255,255,255)\"/><rect x=\"4510\" y=\"0\" width=\"55\" height=\"55\" style=\"fill:#2988bd;stroke-width:2;stroke:rgb(255,255,255)\"/><rect x=\"4565\" y=\"0\" width=\"55\" height=\"55\" style=\"fill:#2787bc;stroke-width:2;stroke:rgb(255,255,255)\"/><rect x=\"4620\" y=\"0\" width=\"55\" height=\"55\" style=\"fill:#2586bc;stroke-width:2;stroke:rgb(255,255,255)\"/><rect x=\"4675\" y=\"0\" width=\"55\" height=\"55\" style=\"fill:#2385bb;stroke-width:2;stroke:rgb(255,255,255)\"/><rect x=\"4730\" y=\"0\" width=\"55\" height=\"55\" style=\"fill:#2083ba;stroke-width:2;stroke:rgb(255,255,255)\"/><rect x=\"4785\" y=\"0\" width=\"55\" height=\"55\" style=\"fill:#1e82ba;stroke-width:2;stroke:rgb(255,255,255)\"/><rect x=\"4840\" y=\"0\" width=\"55\" height=\"55\" style=\"fill:#1b81b9;stroke-width:2;stroke:rgb(255,255,255)\"/><rect x=\"4895\" y=\"0\" width=\"55\" height=\"55\" style=\"fill:#187fb8;stroke-width:2;stroke:rgb(255,255,255)\"/><rect x=\"4950\" y=\"0\" width=\"55\" height=\"55\" style=\"fill:#177eb8;stroke-width:2;stroke:rgb(255,255,255)\"/><rect x=\"5005\" y=\"0\" width=\"55\" height=\"55\" style=\"fill:#147db7;stroke-width:2;stroke:rgb(255,255,255)\"/><rect x=\"5060\" y=\"0\" width=\"55\" height=\"55\" style=\"fill:#127cb7;stroke-width:2;stroke:rgb(255,255,255)\"/><rect x=\"5115\" y=\"0\" width=\"55\" height=\"55\" style=\"fill:#0f7ab6;stroke-width:2;stroke:rgb(255,255,255)\"/><rect x=\"5170\" y=\"0\" width=\"55\" height=\"55\" style=\"fill:#0c79b5;stroke-width:2;stroke:rgb(255,255,255)\"/><rect x=\"5225\" y=\"0\" width=\"55\" height=\"55\" style=\"fill:#0a78b5;stroke-width:2;stroke:rgb(255,255,255)\"/><rect x=\"5280\" y=\"0\" width=\"55\" height=\"55\" style=\"fill:#0876b4;stroke-width:2;stroke:rgb(255,255,255)\"/><rect x=\"5335\" y=\"0\" width=\"55\" height=\"55\" style=\"fill:#0675b3;stroke-width:2;stroke:rgb(255,255,255)\"/><rect x=\"5390\" y=\"0\" width=\"55\" height=\"55\" style=\"fill:#0374b3;stroke-width:2;stroke:rgb(255,255,255)\"/><rect x=\"5445\" y=\"0\" width=\"55\" height=\"55\" style=\"fill:#0173b2;stroke-width:2;stroke:rgb(255,255,255)\"/></svg>"
      ],
      "text/plain": [
       "[(0.9388457363122124, 0.9439956340324122, 0.9519875096706142),\n",
       " (0.9315129977421358, 0.9401288478216235, 0.9499957583452469),\n",
       " (0.920513889887021, 0.9343286685054406, 0.9470081313571957),\n",
       " (0.9131811513169444, 0.930461882294652, 0.9450163800318284),\n",
       " (0.9021820434618295, 0.9246617029784691, 0.9420287530437773),\n",
       " (0.894849304891753, 0.9207949167676804, 0.94003700171841),\n",
       " (0.8838501970366381, 0.9149947374514975, 0.9370493747303589),\n",
       " (0.8728510891815233, 0.9091945581353146, 0.9340617477423079),\n",
       " (0.8655183506114468, 0.905327771924526, 0.9320699964169404),\n",
       " (0.854519242756332, 0.899527592608343, 0.9290823694288894),\n",
       " (0.8471865041862554, 0.8956608063975544, 0.9270906181035221),\n",
       " (0.8361873963311405, 0.8898606270813715, 0.924102991115471),\n",
       " (0.8251882884760257, 0.8840604477651886, 0.9211153641274199),\n",
       " (0.8178555499059491, 0.8801936615543999, 0.9191236128020526),\n",
       " (0.8068564420508343, 0.8743934822382169, 0.9161359858140015),\n",
       " (0.7995237034807577, 0.8705266960274283, 0.9141442344886341),\n",
       " (0.7885245956256429, 0.8647265167112455, 0.9111566075005831),\n",
       " (0.7811918570555663, 0.8608597305004567, 0.9091648561752157),\n",
       " (0.7701927492004514, 0.8550595511842738, 0.9061772291871647),\n",
       " (0.7591936413453366, 0.8492593718680909, 0.9031896021991136),\n",
       " (0.7518609027752601, 0.8453925856573022, 0.9011978508737463),\n",
       " (0.7408617949201453, 0.8395924063411193, 0.8982102238856952),\n",
       " (0.7335290563500687, 0.8357256201303307, 0.8962184725603278),\n",
       " (0.7225299484949539, 0.8299254408141478, 0.8932308455722767),\n",
       " (0.7115308406398391, 0.8241252614979648, 0.8902432185842257),\n",
       " (0.7041981020697624, 0.8202584752871762, 0.8882514672588584),\n",
       " (0.6931989942146476, 0.8144582959709933, 0.8852638402708073),\n",
       " (0.685866255644571, 0.8105915097602047, 0.88327208894544),\n",
       " (0.6748671477894562, 0.8047913304440217, 0.8802844619573889),\n",
       " (0.6675344092193797, 0.8009245442332331, 0.8782927106320215),\n",
       " (0.6565353013642647, 0.7951243649170502, 0.8753050836439704),\n",
       " (0.6455361935091499, 0.7893241856008673, 0.8723174566559194),\n",
       " (0.6382034549390734, 0.7854573993900786, 0.870325705330552),\n",
       " (0.6272043470839586, 0.7796572200738957, 0.867338078342501),\n",
       " (0.619871608513882, 0.7757904338631071, 0.8653463270171335),\n",
       " (0.6088725006587672, 0.7699902545469242, 0.8623587000290825),\n",
       " (0.5978733928036524, 0.7641900752307412, 0.8593710730410314),\n",
       " (0.5905406542335758, 0.7603232890199526, 0.8573793217156641),\n",
       " (0.579541546378461, 0.7545231097037697, 0.854391694727613),\n",
       " (0.5722088078083843, 0.7506563234929811, 0.8523999434022457),\n",
       " (0.5612096999532695, 0.744856144176798, 0.8494123164141946),\n",
       " (0.5502105920981547, 0.7390559648606152, 0.8464246894261436),\n",
       " (0.542877853528078, 0.7351891786498266, 0.8444329381007762),\n",
       " (0.5318787456729632, 0.7293889993336435, 0.8414453111127251),\n",
       " (0.5245460071028867, 0.7255222131228549, 0.8394535597873578),\n",
       " (0.5135468992477719, 0.7197220338066721, 0.8364659327993067),\n",
       " (0.5062141606776953, 0.7158552475958834, 0.8344741814739394),\n",
       " (0.4952150528225805, 0.7100550682797004, 0.8314865544858883),\n",
       " (0.4842159449674657, 0.7042548889635175, 0.8284989274978373),\n",
       " (0.47688320639738907, 0.7003881027527289, 0.8265071761724698),\n",
       " (0.46588409854227425, 0.694587923436546, 0.8235195491844188),\n",
       " (0.4585513599721977, 0.6907211372257573, 0.8215277978590514),\n",
       " (0.4475522521170828, 0.6849209579095744, 0.8185401708710004),\n",
       " (0.436553144261968, 0.6791207785933915, 0.8155525438829493),\n",
       " (0.42922040569189146, 0.6752539923826029, 0.813560792557582),\n",
       " (0.41822129783677653, 0.6694538130664199, 0.8105731655695309),\n",
       " (0.4108885592667001, 0.6655870268556313, 0.8085814142441635),\n",
       " (0.3998894514115853, 0.6597868475394484, 0.8055937872561125),\n",
       " (0.3925567128415086, 0.6559200613286598, 0.8036020359307451),\n",
       " (0.3815576049863938, 0.6501198820124768, 0.8006144089426941),\n",
       " (0.370558497131279, 0.6443197026962939, 0.797626781954643),\n",
       " (0.3632257585612023, 0.6404529164855053, 0.7956350306292757),\n",
       " (0.3522266507060876, 0.6346527371693224, 0.7926474036412245),\n",
       " (0.34489391213601106, 0.6307859509585337, 0.7906556523158572),\n",
       " (0.33389480428089613, 0.6249857716423508, 0.7876680253278061),\n",
       " (0.3228956964257813, 0.6191855923261678, 0.7846803983397551),\n",
       " (0.31556295785570476, 0.6153188061153793, 0.7826886470143877),\n",
       " (0.30456385000058994, 0.6095186267991963, 0.7797010200263367),\n",
       " (0.2972311114305134, 0.6056518405884077, 0.7777092687009692),\n",
       " (0.2862320035753986, 0.5998516612722247, 0.7747216417129182),\n",
       " (0.27523289572028364, 0.5940514819560418, 0.7717340147248671),\n",
       " (0.2679001571502071, 0.5901846957452532, 0.7697422633994998),\n",
       " (0.2569010492950923, 0.5843845164290702, 0.7667546364114488),\n",
       " (0.24956831072501573, 0.5805177302182816, 0.7647628850860814),\n",
       " (0.2385692028699009, 0.5747175509020988, 0.7617752580980304),\n",
       " (0.23123646429982436, 0.5708507646913101, 0.7597835067726629),\n",
       " (0.22023735644470954, 0.5650505853751271, 0.7567958797846119),\n",
       " (0.2092382485895946, 0.5592504060589443, 0.7538082527965608),\n",
       " (0.20190551001951806, 0.5553836198481557, 0.7518165014711935),\n",
       " (0.19090640216440324, 0.5495834405319726, 0.7488288744831424),\n",
       " (0.1835736635943267, 0.545716654321184, 0.7468371231577751),\n",
       " (0.17257455573921188, 0.5399164750050011, 0.743849496169724),\n",
       " (0.16157544788409706, 0.5341162956888181, 0.740861869181673),\n",
       " (0.1542427093140204, 0.5302495094780295, 0.7388701178563055),\n",
       " (0.14324360145890558, 0.5244493301618466, 0.7358824908682545),\n",
       " (0.13591086288882914, 0.520582543951058, 0.7338907395428871),\n",
       " (0.12491175503371421, 0.514782364634875, 0.7309031125548361),\n",
       " (0.11757901646363766, 0.5109155784240864, 0.7289113612294686),\n",
       " (0.10657990860852284, 0.5051153991079035, 0.7259237342414177),\n",
       " (0.09558080075340791, 0.49931521979172055, 0.7229361072533667),\n",
       " (0.08824806218333137, 0.49544843358093194, 0.7209443559279992),\n",
       " (0.07724895432821666, 0.489648254264749, 0.7179567289399482),\n",
       " (0.06991621575814, 0.48578146805396033, 0.7159649776145808),\n",
       " (0.05891710790302518, 0.47998128873777746, 0.7129773506265298),\n",
       " (0.04791800004791036, 0.4741811094215945, 0.7099897236384787),\n",
       " (0.0405852614778337, 0.47031432321080585, 0.7079979723131113),\n",
       " (0.02958615362271899, 0.4645141438946229, 0.7050103453250602),\n",
       " (0.022253415052642445, 0.46064735768383436, 0.7030185939996929),\n",
       " (0.011254307197527513, 0.4548471783676514, 0.7000309670116418),\n",
       " (0.00392156862745098, 0.45098039215686275, 0.6980392156862745)]"
      ]
     },
     "execution_count": 148,
     "metadata": {},
     "output_type": "execute_result"
    }
   ],
   "source": [
    "sns.light_palette(cmap.colors[0], n_colors=100)"
   ]
  },
  {
   "cell_type": "code",
   "execution_count": 149,
   "id": "88bbc61a",
   "metadata": {},
   "outputs": [
    {
     "data": {
      "text/plain": [
       "array([2, 3, 5])"
      ]
     },
     "execution_count": 149,
     "metadata": {},
     "output_type": "execute_result"
    }
   ],
   "source": [
    "np.unique([5,3,3,2])"
   ]
  },
  {
   "cell_type": "code",
   "execution_count": null,
   "id": "faabb4b4",
   "metadata": {},
   "outputs": [],
   "source": []
  }
 ],
 "metadata": {
  "kernelspec": {
   "display_name": "Python 3 (ipykernel)",
   "language": "python",
   "name": "python3"
  },
  "language_info": {
   "codemirror_mode": {
    "name": "ipython",
    "version": 3
   },
   "file_extension": ".py",
   "mimetype": "text/x-python",
   "name": "python",
   "nbconvert_exporter": "python",
   "pygments_lexer": "ipython3",
   "version": "3.9.7"
  }
 },
 "nbformat": 4,
 "nbformat_minor": 5
}
