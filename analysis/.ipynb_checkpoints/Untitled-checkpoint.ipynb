{
 "cells": [
  {
   "cell_type": "code",
   "execution_count": 1,
   "metadata": {},
   "outputs": [],
   "source": [
    "import celldancer.velocity_estimation as calc_velocity\n",
    "import pandas as pd \n",
    "from plotting import gene as cdpl_gene\n",
    "from plotting.colormap import *"
   ]
  },
  {
   "cell_type": "markdown",
   "metadata": {},
   "source": [
    "# velicity estimation"
   ]
  },
  {
   "cell_type": "code",
   "execution_count": null,
   "metadata": {},
   "outputs": [],
   "source": [
    "raw_path='/Users/shengyuli/Library/CloudStorage/OneDrive-HoustonMethodist/work/Velocity/data/raw_data/mouse_endo_blood20to25_2000_genes_moment100.csv'\n",
    "load_raw_data=pd.read_csv(raw_path)\n",
    "gene_choice=[\"Blvrb\",\"Phc2\",\"Skap1\",\"Nfkb1\",\"Myo1b\",\"Sulf2\",\"Yipf5\",\"Coro2b\",\"Mllt3\",\"Smarca2\",\"Hba-x\",\"Smim1\",\"Snca\"]\n",
    "result_path = '/Users/shengyuli/Library/CloudStorage/OneDrive-HoustonMethodist/work/Velocity/data/Gastrulation/velocity_result/result_detailcsv/polish/'\n",
    "load_cellDancer=calc_velocity.train(load_raw_data,gene_choice=gene_choice,result_path=result_path)"
   ]
  },
  {
   "cell_type": "markdown",
   "metadata": {},
   "source": [
    "# gene velocity"
   ]
  },
  {
   "cell_type": "code",
   "execution_count": 3,
   "metadata": {},
   "outputs": [],
   "source": [
    "gene_choice=[\"Blvrb\",\"Phc2\",\"Skap1\",\"Nfkb1\",\"Myo1b\",\"Sulf2\",\"Yipf5\",\"Coro2b\",\"Mllt3\",\"Smarca2\",\"Hba-x\",\"Smim1\",\"Snca\"]\n",
    "\n",
    "raw_data_path = \"/Users/shengyuli/Library/CloudStorage/OneDrive-HoustonMethodist/work/Velocity/data/raw_data/mouse_endo_blood20to25_2000_genes_moment100.csv\"\n",
    "load_raw_data = pd.read_csv(raw_data_path)\n",
    "load_cellDancer=pd.read_csv('/Users/shengyuli/Library/CloudStorage/OneDrive-HoustonMethodist/work/Velocity/data/Gastrulation/velocity_result/result_detailcsv/2000genes_with_bin_and_smooth/combined_detail/combined_detail.csv')\n",
    "\n",
    "cdpl_gene.velocity_gene(gene_choice,load_cellDancer,colors=colormap_erythroid,mode='cluster',cluster_annot=True,point_size=30,alpha_inside=1)"
   ]
  },
  {
   "cell_type": "code",
   "execution_count": null,
   "metadata": {},
   "outputs": [],
   "source": []
  },
  {
   "cell_type": "code",
   "execution_count": 59,
   "metadata": {},
   "outputs": [],
   "source": []
  },
  {
   "cell_type": "code",
   "execution_count": null,
   "metadata": {},
   "outputs": [],
   "source": []
  },
  {
   "cell_type": "code",
   "execution_count": null,
   "metadata": {},
   "outputs": [],
   "source": []
  },
  {
   "cell_type": "code",
   "execution_count": null,
   "metadata": {},
   "outputs": [],
   "source": []
  }
 ],
 "metadata": {
  "interpreter": {
   "hash": "a99a828e224165ef6ff74afd7967177ce2f279f30f5f9ef1db3758063b72efb9"
  },
  "kernelspec": {
   "display_name": "Python 3 (ipykernel)",
   "language": "python",
   "name": "python3"
  },
  "language_info": {
   "codemirror_mode": {
    "name": "ipython",
    "version": 3
   },
   "file_extension": ".py",
   "mimetype": "text/x-python",
   "name": "python",
   "nbconvert_exporter": "python",
   "pygments_lexer": "ipython3",
   "version": "3.7.6"
  }
 },
 "nbformat": 4,
 "nbformat_minor": 4
}
