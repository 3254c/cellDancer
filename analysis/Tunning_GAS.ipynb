{
 "cells": [
  {
   "cell_type": "code",
   "execution_count": 1,
   "id": "79ae3c5d-3c6c-4a51-b2aa-3873c2fc9ba3",
   "metadata": {},
   "outputs": [],
   "source": [
    "import sys\n",
    "srcdir = '/Users/wanglab/Documents/ShengyuLi/Velocity/bin/celldancer_polish/src'\n",
    "sys.path.append(srcdir)\n",
    "import pandas as pd\n",
    "import sys\n",
    "from celldancer.cdplt import colormap\n",
    "from celldancer import velocity_estimation\n",
    "import os"
   ]
  },
  {
   "cell_type": "code",
   "execution_count": 2,
   "id": "61ffe9a4-c847-473b-bce0-b28d2c151c68",
   "metadata": {},
   "outputs": [
    {
     "data": {
      "text/html": [
       "<div>\n",
       "<style scoped>\n",
       "    .dataframe tbody tr th:only-of-type {\n",
       "        vertical-align: middle;\n",
       "    }\n",
       "\n",
       "    .dataframe tbody tr th {\n",
       "        vertical-align: top;\n",
       "    }\n",
       "\n",
       "    .dataframe thead th {\n",
       "        text-align: right;\n",
       "    }\n",
       "</style>\n",
       "<table border=\"1\" class=\"dataframe\">\n",
       "  <thead>\n",
       "    <tr style=\"text-align: right;\">\n",
       "      <th></th>\n",
       "      <th>gene_name</th>\n",
       "      <th>u0</th>\n",
       "      <th>s0</th>\n",
       "      <th>cellID</th>\n",
       "      <th>clusters</th>\n",
       "      <th>embedding1</th>\n",
       "      <th>embedding2</th>\n",
       "    </tr>\n",
       "  </thead>\n",
       "  <tbody>\n",
       "    <tr>\n",
       "      <th>0</th>\n",
       "      <td>Sox17</td>\n",
       "      <td>0.000000</td>\n",
       "      <td>0.043971</td>\n",
       "      <td>cell_363</td>\n",
       "      <td>Blood progenitors 2</td>\n",
       "      <td>3.460521</td>\n",
       "      <td>15.574629</td>\n",
       "    </tr>\n",
       "    <tr>\n",
       "      <th>1</th>\n",
       "      <td>Sox17</td>\n",
       "      <td>0.000000</td>\n",
       "      <td>0.000000</td>\n",
       "      <td>cell_382</td>\n",
       "      <td>Blood progenitors 2</td>\n",
       "      <td>2.490433</td>\n",
       "      <td>14.971734</td>\n",
       "    </tr>\n",
       "    <tr>\n",
       "      <th>2</th>\n",
       "      <td>Sox17</td>\n",
       "      <td>0.000000</td>\n",
       "      <td>0.018161</td>\n",
       "      <td>cell_385</td>\n",
       "      <td>Blood progenitors 2</td>\n",
       "      <td>2.351203</td>\n",
       "      <td>15.267069</td>\n",
       "    </tr>\n",
       "    <tr>\n",
       "      <th>3</th>\n",
       "      <td>Sox17</td>\n",
       "      <td>0.000000</td>\n",
       "      <td>0.000000</td>\n",
       "      <td>cell_393</td>\n",
       "      <td>Blood progenitors 2</td>\n",
       "      <td>5.899098</td>\n",
       "      <td>14.388825</td>\n",
       "    </tr>\n",
       "    <tr>\n",
       "      <th>4</th>\n",
       "      <td>Sox17</td>\n",
       "      <td>0.000000</td>\n",
       "      <td>0.000000</td>\n",
       "      <td>cell_398</td>\n",
       "      <td>Blood progenitors 2</td>\n",
       "      <td>4.823139</td>\n",
       "      <td>15.374831</td>\n",
       "    </tr>\n",
       "    <tr>\n",
       "      <th>...</th>\n",
       "      <td>...</td>\n",
       "      <td>...</td>\n",
       "      <td>...</td>\n",
       "      <td>...</td>\n",
       "      <td>...</td>\n",
       "      <td>...</td>\n",
       "      <td>...</td>\n",
       "    </tr>\n",
       "    <tr>\n",
       "      <th>24657995</th>\n",
       "      <td>Gm47283</td>\n",
       "      <td>0.214961</td>\n",
       "      <td>1.145533</td>\n",
       "      <td>cell_139318</td>\n",
       "      <td>Erythroid3</td>\n",
       "      <td>8.032358</td>\n",
       "      <td>7.603037</td>\n",
       "    </tr>\n",
       "    <tr>\n",
       "      <th>24657996</th>\n",
       "      <td>Gm47283</td>\n",
       "      <td>0.300111</td>\n",
       "      <td>1.072944</td>\n",
       "      <td>cell_139321</td>\n",
       "      <td>Erythroid3</td>\n",
       "      <td>10.352904</td>\n",
       "      <td>6.446736</td>\n",
       "    </tr>\n",
       "    <tr>\n",
       "      <th>24657997</th>\n",
       "      <td>Gm47283</td>\n",
       "      <td>0.292607</td>\n",
       "      <td>1.199875</td>\n",
       "      <td>cell_139326</td>\n",
       "      <td>Erythroid3</td>\n",
       "      <td>9.464873</td>\n",
       "      <td>7.261099</td>\n",
       "    </tr>\n",
       "    <tr>\n",
       "      <th>24657998</th>\n",
       "      <td>Gm47283</td>\n",
       "      <td>0.266031</td>\n",
       "      <td>1.114659</td>\n",
       "      <td>cell_139327</td>\n",
       "      <td>Erythroid3</td>\n",
       "      <td>9.990495</td>\n",
       "      <td>7.243880</td>\n",
       "    </tr>\n",
       "    <tr>\n",
       "      <th>24657999</th>\n",
       "      <td>Gm47283</td>\n",
       "      <td>0.164675</td>\n",
       "      <td>1.111358</td>\n",
       "      <td>cell_139330</td>\n",
       "      <td>Erythroid3</td>\n",
       "      <td>8.260699</td>\n",
       "      <td>7.935455</td>\n",
       "    </tr>\n",
       "  </tbody>\n",
       "</table>\n",
       "<p>24658000 rows × 7 columns</p>\n",
       "</div>"
      ],
      "text/plain": [
       "         gene_name        u0        s0       cellID             clusters  \\\n",
       "0            Sox17  0.000000  0.043971     cell_363  Blood progenitors 2   \n",
       "1            Sox17  0.000000  0.000000     cell_382  Blood progenitors 2   \n",
       "2            Sox17  0.000000  0.018161     cell_385  Blood progenitors 2   \n",
       "3            Sox17  0.000000  0.000000     cell_393  Blood progenitors 2   \n",
       "4            Sox17  0.000000  0.000000     cell_398  Blood progenitors 2   \n",
       "...            ...       ...       ...          ...                  ...   \n",
       "24657995   Gm47283  0.214961  1.145533  cell_139318           Erythroid3   \n",
       "24657996   Gm47283  0.300111  1.072944  cell_139321           Erythroid3   \n",
       "24657997   Gm47283  0.292607  1.199875  cell_139326           Erythroid3   \n",
       "24657998   Gm47283  0.266031  1.114659  cell_139327           Erythroid3   \n",
       "24657999   Gm47283  0.164675  1.111358  cell_139330           Erythroid3   \n",
       "\n",
       "          embedding1  embedding2  \n",
       "0           3.460521   15.574629  \n",
       "1           2.490433   14.971734  \n",
       "2           2.351203   15.267069  \n",
       "3           5.899098   14.388825  \n",
       "4           4.823139   15.374831  \n",
       "...              ...         ...  \n",
       "24657995    8.032358    7.603037  \n",
       "24657996   10.352904    6.446736  \n",
       "24657997    9.464873    7.261099  \n",
       "24657998    9.990495    7.243880  \n",
       "24657999    8.260699    7.935455  \n",
       "\n",
       "[24658000 rows x 7 columns]"
      ]
     },
     "execution_count": 2,
     "metadata": {},
     "output_type": "execute_result"
    }
   ],
   "source": [
    "raw_path='/Users/wanglab/Documents/ShengyuLi/Velocity/data/raw_data/mouse_endo_blood20to25_2000_genes_moment100.csv'\n",
    "load_raw_data=pd.read_csv(raw_path)\n",
    "load_raw_data"
   ]
  },
  {
   "cell_type": "markdown",
   "id": "811fe9b0-dca3-49b6-9c71-3397e7b6b71e",
   "metadata": {},
   "source": [
    "# parallel"
   ]
  },
  {
   "cell_type": "code",
   "execution_count": null,
   "id": "e56b71d7-ac7a-476b-bb56-0c66b28374b7",
   "metadata": {
    "tags": []
   },
   "outputs": [
    {
     "name": "stdout",
     "output_type": "stream",
     "text": [
      "The autoreload extension is already loaded. To reload it, use:\n",
      "  %reload_ext autoreload\n",
      "Using /Users/wanglab/Documents/ShengyuLi/Velocity/data/Gastrulation/velocity_result/result_detailcsv/tunning_train/epoch200check_n10Lr0.001Downneighbors_200_200Ratio0.125N30OAdamnD30autoDTrueautoNTruecostTsmoothsmoW0.1p3binTrue/cell_dancer_velocity_2022-05-03 17-35-48 as the output path.\n",
      "n_neighbors\n",
      "30\n",
      "n_neighbors\n",
      "30\n"
     ]
    },
    {
     "name": "stderr",
     "output_type": "stream",
     "text": [
      "Velocity Estimation:   0%|                               | 0/50 [00:00<?, ?it/s]"
     ]
    },
    {
     "name": "stdout",
     "output_type": "stream",
     "text": [
      "n_neighbors\n",
      "30\n"
     ]
    },
    {
     "name": "stderr",
     "output_type": "stream",
     "text": [
      "Velocity Estimation:   2%|▍                      | 1/50 [00:24<19:50, 24.30s/it]"
     ]
    },
    {
     "name": "stdout",
     "output_type": "stream",
     "text": [
      "n_neighbors\n",
      "30\n"
     ]
    },
    {
     "name": "stderr",
     "output_type": "stream",
     "text": [
      "Velocity Estimation:   4%|▉                      | 2/50 [00:45<18:05, 22.62s/it]"
     ]
    },
    {
     "name": "stdout",
     "output_type": "stream",
     "text": [
      "n_neighbors\n",
      "30\n"
     ]
    },
    {
     "name": "stderr",
     "output_type": "stream",
     "text": [
      "Velocity Estimation:   6%|█▍                     | 3/50 [01:06<17:03, 21.78s/it]"
     ]
    },
    {
     "name": "stdout",
     "output_type": "stream",
     "text": [
      "n_neighbors\n",
      "30\n"
     ]
    },
    {
     "name": "stderr",
     "output_type": "stream",
     "text": [
      "Velocity Estimation:   8%|█▊                     | 4/50 [01:27<16:25, 21.42s/it]"
     ]
    },
    {
     "name": "stdout",
     "output_type": "stream",
     "text": [
      "n_neighbors\n",
      "30\n"
     ]
    },
    {
     "name": "stderr",
     "output_type": "stream",
     "text": [
      "Velocity Estimation:  10%|██▎                    | 5/50 [01:48<15:55, 21.23s/it]"
     ]
    },
    {
     "name": "stdout",
     "output_type": "stream",
     "text": [
      "n_neighbors\n",
      "30\n"
     ]
    },
    {
     "name": "stderr",
     "output_type": "stream",
     "text": [
      "Velocity Estimation:  12%|██▊                    | 6/50 [02:09<15:31, 21.17s/it]"
     ]
    },
    {
     "name": "stdout",
     "output_type": "stream",
     "text": [
      "n_neighbors\n",
      "30\n"
     ]
    },
    {
     "name": "stderr",
     "output_type": "stream",
     "text": [
      "Velocity Estimation:  14%|███▏                   | 7/50 [02:31<15:24, 21.51s/it]"
     ]
    },
    {
     "name": "stdout",
     "output_type": "stream",
     "text": [
      "n_neighbors\n",
      "30\n"
     ]
    },
    {
     "name": "stderr",
     "output_type": "stream",
     "text": [
      "Velocity Estimation:  16%|███▋                   | 8/50 [02:52<14:56, 21.34s/it]"
     ]
    },
    {
     "name": "stdout",
     "output_type": "stream",
     "text": [
      "n_neighbors\n",
      "30\n"
     ]
    },
    {
     "name": "stderr",
     "output_type": "stream",
     "text": [
      "Velocity Estimation:  18%|████▏                  | 9/50 [03:13<14:27, 21.16s/it]"
     ]
    },
    {
     "name": "stdout",
     "output_type": "stream",
     "text": [
      "n_neighbors\n",
      "30\n"
     ]
    },
    {
     "name": "stderr",
     "output_type": "stream",
     "text": [
      "Velocity Estimation:  20%|████▍                 | 10/50 [03:33<13:56, 20.91s/it]"
     ]
    },
    {
     "name": "stdout",
     "output_type": "stream",
     "text": [
      "n_neighbors\n",
      "30\n"
     ]
    },
    {
     "name": "stderr",
     "output_type": "stream",
     "text": [
      "Velocity Estimation:  22%|████▊                 | 11/50 [03:54<13:40, 21.05s/it]"
     ]
    },
    {
     "name": "stdout",
     "output_type": "stream",
     "text": [
      "n_neighbors\n",
      "30\n"
     ]
    },
    {
     "name": "stderr",
     "output_type": "stream",
     "text": [
      "Velocity Estimation:  24%|█████▎                | 12/50 [04:15<13:08, 20.75s/it]"
     ]
    },
    {
     "name": "stdout",
     "output_type": "stream",
     "text": [
      "n_neighbors\n",
      "30\n"
     ]
    }
   ],
   "source": [
    "%load_ext autoreload\n",
    "%autoreload 2\n",
    "\n",
    "max_epoches=200\n",
    "check_n_epoch=10\n",
    "learning_rate=0.001\n",
    "downsample_method='neighbors'\n",
    "step_i=200\n",
    "step_j=200\n",
    "sampling_ratio=0.125\n",
    "n_neighbors=30\n",
    "optimizer='Adam'\n",
    "n_neighbors_downsample=30\n",
    "auto_downsample=True\n",
    "auto_norm_u_s=True\n",
    "cost_type='smooth'\n",
    "smooth_weight=0.1\n",
    "patience=3\n",
    "binning=True\n",
    "gene_choice=load_raw_data.gene_name.drop_duplicates()\n",
    "\n",
    "folder_name=(\"epoch\"+str(max_epoches)+\"check_n\"+str(check_n_epoch)+\"Lr\"+str(learning_rate)+\"Down\"+str(downsample_method)+\"_\"+str(step_i)+\"_\"+str(step_j)+\"Ratio\"+str(sampling_ratio)+\"N\"+str(n_neighbors)+\"O\"+str(optimizer)+\"nD\"+str(n_neighbors_downsample)+\"autoD\"+str(auto_downsample)+\"autoN\"+str(auto_norm_u_s)+\"costT\"+str(cost_type)+\"smoW\"+str(smooth_weight)+\"p\"+str(patience)+\"bin\"+str(binning))\n",
    "\n",
    "result_path = '/Users/wanglab/Documents/ShengyuLi/Velocity/data/Gastrulation/velocity_result/result_detailcsv/tunning_train/'+folder_name+'/'\n",
    "#os.mkdir(result_path)\n",
    "brief, load_cellDancer=velocity_estimation.train(load_raw_data,\\\n",
    "                                                 gene_choice=gene_choice,\\\n",
    "                                                 max_epoches=max_epoches,\\\n",
    "                                                 check_n_epoch=check_n_epoch,\\\n",
    "                                                 learning_rate=learning_rate, \\\n",
    "                                                 downsample_method=downsample_method,\\\n",
    "                                                 step_i=step_i,\\\n",
    "                                                 step_j=step_j,\\\n",
    "                                                 sampling_ratio=sampling_ratio,\\\n",
    "                                                 n_neighbors=n_neighbors,\\\n",
    "                                                 optimizer=optimizer,\\\n",
    "                                                 n_neighbors_downsample=n_neighbors_downsample,\\\n",
    "                                                 auto_downsample=auto_downsample,\\\n",
    "                                                 auto_norm_u_s=auto_norm_u_s,\\\n",
    "                                                 cost_type=cost_type,\\\n",
    "                                                 smooth_weight=smooth_weight,\\\n",
    "                                                 patience=patience,\\\n",
    "                                                 binning=binning,\\\n",
    "                                                 result_path=result_path,n_jobs=40)\n",
    "\n",
    "\n"
   ]
  },
  {
   "cell_type": "code",
   "execution_count": 8,
   "id": "c37979bc-6138-4b33-a376-421373f9aca5",
   "metadata": {},
   "outputs": [],
   "source": [
    "import logging\n",
    "# logging.getLogger('lightning').setLevel(0)\n",
    "# logging.getLogger(\"lightning\").setLevel(logging.ERROR)\n",
    "logging.getLogger(\"pytorch_lightning\").setLevel(logging.WARNING)\n"
   ]
  },
  {
   "cell_type": "code",
   "execution_count": 16,
   "id": "09f9d9f8-308f-4aec-9832-2d2ccafe009e",
   "metadata": {},
   "outputs": [],
   "source": [
    "logging.disable(logging.CRITICAL)"
   ]
  },
  {
   "cell_type": "code",
   "execution_count": 17,
   "id": "91f37743-9ba6-4e1b-84ce-3f167a1cfcbe",
   "metadata": {},
   "outputs": [],
   "source": [
    "logging.disable(logging.NOTSET)"
   ]
  },
  {
   "cell_type": "code",
   "execution_count": 9,
   "id": "60961234-7a1c-40b3-a9ce-679037f23201",
   "metadata": {},
   "outputs": [
    {
     "data": {
      "text/plain": [
       "28"
      ]
     },
     "execution_count": 9,
     "metadata": {},
     "output_type": "execute_result"
    }
   ],
   "source": [
    "import sys\n",
    "i=100\n",
    "sys.getsizeof(i)"
   ]
  },
  {
   "cell_type": "code",
   "execution_count": null,
   "id": "c0add3f9-cce7-4253-b9ec-f316e79a3eb4",
   "metadata": {},
   "outputs": [],
   "source": []
  }
 ],
 "metadata": {
  "kernelspec": {
   "display_name": "Python 3 (ipykernel)",
   "language": "python",
   "name": "python3"
  },
  "language_info": {
   "codemirror_mode": {
    "name": "ipython",
    "version": 3
   },
   "file_extension": ".py",
   "mimetype": "text/x-python",
   "name": "python",
   "nbconvert_exporter": "python",
   "pygments_lexer": "ipython3",
   "version": "3.7.6"
  }
 },
 "nbformat": 4,
 "nbformat_minor": 5
}
