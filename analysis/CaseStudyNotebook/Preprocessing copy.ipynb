{
 "cells": [
  {
   "cell_type": "markdown",
   "id": "d6cce81d-7f27-4db7-b5ab-7925b786c599",
   "metadata": {},
   "source": [
    "# Preprocessing"
   ]
  },
  {
   "cell_type": "markdown",
   "id": "8d4c88d1",
   "metadata": {},
   "source": [
    "The input data for the prediction of velocity is in ```csv``` format. And could be loaded using ```pandas.read_csv('your_path/cell_type_u_s.csv')```. Taking the ```pandas.DataFrame``` below as an example, the gene information is represented by columns of ```gene_name```, ```unsplice```, and ```splice```. The information in embedding space is represented by columns ```cellID```, ```clusters```, ```embedding1```, and ```embedding2```. ```unsplice``` and ```splice``` columns represent the unspliced and spliced reads (after the knn imputation), seperately. In the sample   ```DataFrame```, there are 5 cells corresponding to 2 genes. ```cellID``` is the unique id of each cell. ```clusters``` represents the cell type of each cell. ```embedding1``` and ```embedding2``` are the 2-dimensional representation of all cells such as UMAP, PCA, or t-SNE."
   ]
  },
  {
   "cell_type": "code",
   "execution_count": 14,
   "id": "0c1b7bab",
   "metadata": {},
   "outputs": [
    {
     "data": {
      "text/html": [
       "<div>\n",
       "<style scoped>\n",
       "    .dataframe tbody tr th:only-of-type {\n",
       "        vertical-align: middle;\n",
       "    }\n",
       "\n",
       "    .dataframe tbody tr th {\n",
       "        vertical-align: top;\n",
       "    }\n",
       "\n",
       "    .dataframe thead th {\n",
       "        text-align: right;\n",
       "    }\n",
       "</style>\n",
       "<table border=\"1\" class=\"dataframe\">\n",
       "  <thead>\n",
       "    <tr style=\"text-align: right;\">\n",
       "      <th></th>\n",
       "      <th>gene_name</th>\n",
       "      <th>unsplice</th>\n",
       "      <th>splice</th>\n",
       "      <th>cellID</th>\n",
       "      <th>clusters</th>\n",
       "      <th>embedding1</th>\n",
       "      <th>embedding2</th>\n",
       "    </tr>\n",
       "  </thead>\n",
       "  <tbody>\n",
       "    <tr>\n",
       "      <th>0</th>\n",
       "      <td>Hba-x</td>\n",
       "      <td>0.000000</td>\n",
       "      <td>0.123217</td>\n",
       "      <td>cell_363</td>\n",
       "      <td>Blood progenitors 2</td>\n",
       "      <td>3.460521</td>\n",
       "      <td>15.574629</td>\n",
       "    </tr>\n",
       "    <tr>\n",
       "      <th>1</th>\n",
       "      <td>Hba-x</td>\n",
       "      <td>0.000000</td>\n",
       "      <td>0.008806</td>\n",
       "      <td>cell_385</td>\n",
       "      <td>Blood progenitors 2</td>\n",
       "      <td>2.351203</td>\n",
       "      <td>15.267069</td>\n",
       "    </tr>\n",
       "    <tr>\n",
       "      <th>2</th>\n",
       "      <td>Hba-x</td>\n",
       "      <td>0.023665</td>\n",
       "      <td>21.719713</td>\n",
       "      <td>cell_592</td>\n",
       "      <td>Erythroid1</td>\n",
       "      <td>6.170377</td>\n",
       "      <td>12.916482</td>\n",
       "    </tr>\n",
       "    <tr>\n",
       "      <th>3</th>\n",
       "      <td>Hba-x</td>\n",
       "      <td>0.447068</td>\n",
       "      <td>301.915400</td>\n",
       "      <td>cell_16475</td>\n",
       "      <td>Erythroid2</td>\n",
       "      <td>8.311832</td>\n",
       "      <td>9.724998</td>\n",
       "    </tr>\n",
       "    <tr>\n",
       "      <th>4</th>\n",
       "      <td>Hba-x</td>\n",
       "      <td>0.665660</td>\n",
       "      <td>637.665650</td>\n",
       "      <td>cell_139318</td>\n",
       "      <td>Erythroid3</td>\n",
       "      <td>8.032358</td>\n",
       "      <td>7.603037</td>\n",
       "    </tr>\n",
       "    <tr>\n",
       "      <th>5</th>\n",
       "      <td>Sulf2</td>\n",
       "      <td>0.000000</td>\n",
       "      <td>0.033960</td>\n",
       "      <td>cell_363</td>\n",
       "      <td>Blood progenitors 2</td>\n",
       "      <td>3.460521</td>\n",
       "      <td>15.574629</td>\n",
       "    </tr>\n",
       "    <tr>\n",
       "      <th>6</th>\n",
       "      <td>Sulf2</td>\n",
       "      <td>0.000000</td>\n",
       "      <td>0.050277</td>\n",
       "      <td>cell_385</td>\n",
       "      <td>Blood progenitors 2</td>\n",
       "      <td>2.351203</td>\n",
       "      <td>15.267069</td>\n",
       "    </tr>\n",
       "    <tr>\n",
       "      <th>7</th>\n",
       "      <td>Sulf2</td>\n",
       "      <td>0.000000</td>\n",
       "      <td>0.033758</td>\n",
       "      <td>cell_592</td>\n",
       "      <td>Erythroid1</td>\n",
       "      <td>6.170377</td>\n",
       "      <td>12.916482</td>\n",
       "    </tr>\n",
       "    <tr>\n",
       "      <th>8</th>\n",
       "      <td>Sulf2</td>\n",
       "      <td>0.000000</td>\n",
       "      <td>0.011413</td>\n",
       "      <td>cell_16475</td>\n",
       "      <td>Erythroid2</td>\n",
       "      <td>8.311832</td>\n",
       "      <td>9.724998</td>\n",
       "    </tr>\n",
       "    <tr>\n",
       "      <th>9</th>\n",
       "      <td>Sulf2</td>\n",
       "      <td>0.000000</td>\n",
       "      <td>0.007784</td>\n",
       "      <td>cell_139318</td>\n",
       "      <td>Erythroid3</td>\n",
       "      <td>8.032358</td>\n",
       "      <td>7.603037</td>\n",
       "    </tr>\n",
       "  </tbody>\n",
       "</table>\n",
       "</div>"
      ],
      "text/plain": [
       "  gene_name  unsplice      splice       cellID             clusters  \\\n",
       "0     Hba-x  0.000000    0.123217     cell_363  Blood progenitors 2   \n",
       "1     Hba-x  0.000000    0.008806     cell_385  Blood progenitors 2   \n",
       "2     Hba-x  0.023665   21.719713     cell_592           Erythroid1   \n",
       "3     Hba-x  0.447068  301.915400   cell_16475           Erythroid2   \n",
       "4     Hba-x  0.665660  637.665650  cell_139318           Erythroid3   \n",
       "5     Sulf2  0.000000    0.033960     cell_363  Blood progenitors 2   \n",
       "6     Sulf2  0.000000    0.050277     cell_385  Blood progenitors 2   \n",
       "7     Sulf2  0.000000    0.033758     cell_592           Erythroid1   \n",
       "8     Sulf2  0.000000    0.011413   cell_16475           Erythroid2   \n",
       "9     Sulf2  0.000000    0.007784  cell_139318           Erythroid3   \n",
       "\n",
       "   embedding1  embedding2  \n",
       "0    3.460521   15.574629  \n",
       "1    2.351203   15.267069  \n",
       "2    6.170377   12.916482  \n",
       "3    8.311832    9.724998  \n",
       "4    8.032358    7.603037  \n",
       "5    3.460521   15.574629  \n",
       "6    2.351203   15.267069  \n",
       "7    6.170377   12.916482  \n",
       "8    8.311832    9.724998  \n",
       "9    8.032358    7.603037  "
      ]
     },
     "execution_count": 14,
     "metadata": {},
     "output_type": "execute_result"
    }
   ],
   "source": [
    "import pandas as pd\n",
    "cell_type_u_s=pd.read_csv('your_path/cell_type_u_s_sample_df.csv')\n",
    "cell_type_u_s"
   ]
  },
  {
   "cell_type": "markdown",
   "id": "1ffd63b3-7e95-44f9-b734-c5679aa08d04",
   "metadata": {},
   "source": [
    "## Format transfer"
   ]
  },
  {
   "cell_type": "markdown",
   "id": "7ce55334-b161-4677-9943-110f3fe1a473",
   "metadata": {},
   "source": [
    "The input data are two count matrices of pre-mature (unspliced) and mature (spliced) abundances, could be obtained from standard sequencing protocols, using the `velocyto` or `loompy/kallisto` counting pipeline. \n",
    "\n",
    "We also provide a function (```celldancer.utilities.adata_to_csv()```) to transfer from [Anndata](https://anndata-tutorials.readthedocs.io/en/latest/getting-started.html) to csv format. For example, after the [preprocessing of Anndata](https://scvelo.readthedocs.io/VelocityBasics/). ```celldancer.utilities.adata_to_raw_with_embed(adata,us_para=['Mu','Ms'],cell_type_para='celltype',embed_para='X_umap',save_path='cell_type_u_s.csv',gene_list=['Hba-x','Smim1'])``` could be run to get the csv file\n",
    "\n",
    "In the example, ```splice``` and ```unsplice``` columns (the two count matrices of spliced and unspliced abundances) are obtained from the ```['Ms', 'Mu']``` attributes of ```adata.layers```. ```cellID``` column is obtained from adata.obs.index. ```clusters``` column is obtained from ['celltype'] of adata.obs. The ```embedding1``` and ```embedding2``` columns are obtained from ['X_umap'] attribute of adata.obsm."
   ]
  },
  {
   "cell_type": "code",
   "execution_count": 55,
   "id": "be465cb5",
   "metadata": {},
   "outputs": [
    {
     "name": "stdout",
     "output_type": "stream",
     "text": [
      "processing:0/2\n",
      "processing:1/2\n"
     ]
    },
    {
     "data": {
      "text/html": [
       "<div>\n",
       "<style scoped>\n",
       "    .dataframe tbody tr th:only-of-type {\n",
       "        vertical-align: middle;\n",
       "    }\n",
       "\n",
       "    .dataframe tbody tr th {\n",
       "        vertical-align: top;\n",
       "    }\n",
       "\n",
       "    .dataframe thead th {\n",
       "        text-align: right;\n",
       "    }\n",
       "</style>\n",
       "<table border=\"1\" class=\"dataframe\">\n",
       "  <thead>\n",
       "    <tr style=\"text-align: right;\">\n",
       "      <th></th>\n",
       "      <th>gene_list</th>\n",
       "      <th>unsplice</th>\n",
       "      <th>splice</th>\n",
       "      <th>cellID</th>\n",
       "      <th>clusters</th>\n",
       "      <th>embedding1</th>\n",
       "      <th>embedding2</th>\n",
       "    </tr>\n",
       "  </thead>\n",
       "  <tbody>\n",
       "    <tr>\n",
       "      <th>0</th>\n",
       "      <td>Hba-x</td>\n",
       "      <td>0.000000</td>\n",
       "      <td>0.139826</td>\n",
       "      <td>AAAGATCTCTCGAA</td>\n",
       "      <td>Blood progenitors 2</td>\n",
       "      <td>3.460521</td>\n",
       "      <td>15.574629</td>\n",
       "    </tr>\n",
       "    <tr>\n",
       "      <th>1</th>\n",
       "      <td>Hba-x</td>\n",
       "      <td>0.000000</td>\n",
       "      <td>0.048073</td>\n",
       "      <td>AATCTCACTGCTTT</td>\n",
       "      <td>Blood progenitors 2</td>\n",
       "      <td>2.490433</td>\n",
       "      <td>14.971734</td>\n",
       "    </tr>\n",
       "    <tr>\n",
       "      <th>2</th>\n",
       "      <td>Hba-x</td>\n",
       "      <td>0.000000</td>\n",
       "      <td>0.000000</td>\n",
       "      <td>AATGGCTGAAGATG</td>\n",
       "      <td>Blood progenitors 2</td>\n",
       "      <td>2.351203</td>\n",
       "      <td>15.267069</td>\n",
       "    </tr>\n",
       "    <tr>\n",
       "      <th>3</th>\n",
       "      <td>Hba-x</td>\n",
       "      <td>0.025080</td>\n",
       "      <td>3.652050</td>\n",
       "      <td>ACACATCTGTCAAC</td>\n",
       "      <td>Blood progenitors 2</td>\n",
       "      <td>5.899098</td>\n",
       "      <td>14.388825</td>\n",
       "    </tr>\n",
       "    <tr>\n",
       "      <th>4</th>\n",
       "      <td>Hba-x</td>\n",
       "      <td>0.000000</td>\n",
       "      <td>1.355590</td>\n",
       "      <td>ACGACAACTGGAGG</td>\n",
       "      <td>Blood progenitors 2</td>\n",
       "      <td>4.823139</td>\n",
       "      <td>15.374831</td>\n",
       "    </tr>\n",
       "    <tr>\n",
       "      <th>...</th>\n",
       "      <td>...</td>\n",
       "      <td>...</td>\n",
       "      <td>...</td>\n",
       "      <td>...</td>\n",
       "      <td>...</td>\n",
       "      <td>...</td>\n",
       "      <td>...</td>\n",
       "    </tr>\n",
       "    <tr>\n",
       "      <th>19625</th>\n",
       "      <td>Smim1</td>\n",
       "      <td>0.987823</td>\n",
       "      <td>7.671494</td>\n",
       "      <td>TTTCACGACTGGTA</td>\n",
       "      <td>Erythroid3</td>\n",
       "      <td>8.032358</td>\n",
       "      <td>7.603037</td>\n",
       "    </tr>\n",
       "    <tr>\n",
       "      <th>19626</th>\n",
       "      <td>Smim1</td>\n",
       "      <td>0.989246</td>\n",
       "      <td>7.317718</td>\n",
       "      <td>TTTCAGTGCGAGTT</td>\n",
       "      <td>Erythroid3</td>\n",
       "      <td>10.352904</td>\n",
       "      <td>6.446736</td>\n",
       "    </tr>\n",
       "    <tr>\n",
       "      <th>19627</th>\n",
       "      <td>Smim1</td>\n",
       "      <td>1.216333</td>\n",
       "      <td>6.978382</td>\n",
       "      <td>TTTCGAACGGTGAG</td>\n",
       "      <td>Erythroid3</td>\n",
       "      <td>9.464873</td>\n",
       "      <td>7.261099</td>\n",
       "    </tr>\n",
       "    <tr>\n",
       "      <th>19628</th>\n",
       "      <td>Smim1</td>\n",
       "      <td>1.141874</td>\n",
       "      <td>7.705575</td>\n",
       "      <td>TTTCGAACTAACCG</td>\n",
       "      <td>Erythroid3</td>\n",
       "      <td>9.990495</td>\n",
       "      <td>7.243880</td>\n",
       "    </tr>\n",
       "    <tr>\n",
       "      <th>19629</th>\n",
       "      <td>Smim1</td>\n",
       "      <td>0.972956</td>\n",
       "      <td>6.982001</td>\n",
       "      <td>TTTCTACTTCTCTA</td>\n",
       "      <td>Erythroid3</td>\n",
       "      <td>8.260699</td>\n",
       "      <td>7.935455</td>\n",
       "    </tr>\n",
       "  </tbody>\n",
       "</table>\n",
       "<p>19630 rows × 7 columns</p>\n",
       "</div>"
      ],
      "text/plain": [
       "      gene_list  unsplice    splice          cellID             clusters  \\\n",
       "0         Hba-x  0.000000  0.139826  AAAGATCTCTCGAA  Blood progenitors 2   \n",
       "1         Hba-x  0.000000  0.048073  AATCTCACTGCTTT  Blood progenitors 2   \n",
       "2         Hba-x  0.000000  0.000000  AATGGCTGAAGATG  Blood progenitors 2   \n",
       "3         Hba-x  0.025080  3.652050  ACACATCTGTCAAC  Blood progenitors 2   \n",
       "4         Hba-x  0.000000  1.355590  ACGACAACTGGAGG  Blood progenitors 2   \n",
       "...         ...       ...       ...             ...                  ...   \n",
       "19625     Smim1  0.987823  7.671494  TTTCACGACTGGTA           Erythroid3   \n",
       "19626     Smim1  0.989246  7.317718  TTTCAGTGCGAGTT           Erythroid3   \n",
       "19627     Smim1  1.216333  6.978382  TTTCGAACGGTGAG           Erythroid3   \n",
       "19628     Smim1  1.141874  7.705575  TTTCGAACTAACCG           Erythroid3   \n",
       "19629     Smim1  0.972956  6.982001  TTTCTACTTCTCTA           Erythroid3   \n",
       "\n",
       "       embedding1  embedding2  \n",
       "0        3.460521   15.574629  \n",
       "1        2.490433   14.971734  \n",
       "2        2.351203   15.267069  \n",
       "3        5.899098   14.388825  \n",
       "4        4.823139   15.374831  \n",
       "...           ...         ...  \n",
       "19625    8.032358    7.603037  \n",
       "19626   10.352904    6.446736  \n",
       "19627    9.464873    7.261099  \n",
       "19628    9.990495    7.243880  \n",
       "19629    8.260699    7.935455  \n",
       "\n",
       "[19630 rows x 7 columns]"
      ]
     },
     "execution_count": 55,
     "metadata": {},
     "output_type": "execute_result"
    }
   ],
   "source": [
    "import pandas as pd\n",
    "\n",
    "\n",
    "\n",
    "adata_to_raw_with_embed(adata,us_para=['Mu','Ms'],cell_type_para='celltype',embed_para='X_umap',save_path='cell_type_u_s.csv',gene_list=['Hba-x','Smim1'])"
   ]
  },
  {
   "cell_type": "code",
   "execution_count": 1,
   "id": "fe259518",
   "metadata": {},
   "outputs": [],
   "source": [
    "import scvelo as scv"
   ]
  },
  {
   "cell_type": "code",
   "execution_count": 2,
   "id": "e074baeb",
   "metadata": {},
   "outputs": [],
   "source": [
    "adata=scv.datasets.gastrulation_erythroid()"
   ]
  },
  {
   "cell_type": "code",
   "execution_count": 3,
   "id": "1ff73be0",
   "metadata": {},
   "outputs": [
    {
     "data": {
      "text/plain": [
       "AnnData object with n_obs × n_vars = 9815 × 53801\n",
       "    obs: 'sample', 'stage', 'sequencing.batch', 'theiler', 'celltype'\n",
       "    var: 'Accession', 'Chromosome', 'End', 'Start', 'Strand', 'MURK_gene', 'Δm', 'scaled Δm'\n",
       "    uns: 'celltype_colors'\n",
       "    obsm: 'X_pca', 'X_umap'\n",
       "    layers: 'spliced', 'unspliced'"
      ]
     },
     "execution_count": 3,
     "metadata": {},
     "output_type": "execute_result"
    }
   ],
   "source": [
    "adata"
   ]
  },
  {
   "cell_type": "code",
   "execution_count": 4,
   "id": "7345f94a",
   "metadata": {},
   "outputs": [
    {
     "name": "stdout",
     "output_type": "stream",
     "text": [
      "Filtered out 47456 genes that are detected 20 counts (shared).\n",
      "Normalized count data: X, spliced, unspliced.\n",
      "Extracted 2000 highly variable genes.\n"
     ]
    }
   ],
   "source": [
    "scv.pp.filter_genes(adata, min_shared_counts=20)\n",
    "scv.pp.normalize_per_cell(adata)\n",
    "scv.pp.filter_genes_dispersion(adata, n_top_genes=2000)\n",
    "scv.pp.log1p(adata)"
   ]
  },
  {
   "cell_type": "code",
   "execution_count": 5,
   "id": "4c67f918",
   "metadata": {},
   "outputs": [
    {
     "name": "stdout",
     "output_type": "stream",
     "text": [
      "Filtered out 51 genes that are detected 20 counts (shared).\n",
      "WARNING: Did not normalize X as it looks processed already. To enforce normalization, set `enforce=True`.\n",
      "WARNING: Did not normalize spliced as it looks processed already. To enforce normalization, set `enforce=True`.\n",
      "WARNING: Did not normalize unspliced as it looks processed already. To enforce normalization, set `enforce=True`.\n",
      "Skip filtering by dispersion since number of variables are less than `n_top_genes`.\n",
      "WARNING: Did not modify X as it looks preprocessed already.\n",
      "computing neighbors\n"
     ]
    },
    {
     "name": "stderr",
     "output_type": "stream",
     "text": [
      "OMP: Info #271: omp_set_nested routine deprecated, please use omp_set_max_active_levels instead.\n"
     ]
    },
    {
     "name": "stdout",
     "output_type": "stream",
     "text": [
      "    finished (0:00:21) --> added \n",
      "    'distances' and 'connectivities', weighted adjacency matrices (adata.obsp)\n",
      "computing moments based on connectivities\n",
      "    finished (0:00:01) --> added \n",
      "    'Ms' and 'Mu', moments of un/spliced abundances (adata.layers)\n"
     ]
    }
   ],
   "source": [
    "scv.pp.filter_and_normalize(adata, min_shared_counts=20, n_top_genes=2000)\n",
    "scv.pp.moments(adata, n_pcs=30, n_neighbors=30)\n"
   ]
  },
  {
   "cell_type": "code",
   "execution_count": 6,
   "id": "bf8eaed9",
   "metadata": {},
   "outputs": [
    {
     "data": {
      "text/plain": [
       "AnnData object with n_obs × n_vars = 9815 × 1949\n",
       "    obs: 'sample', 'stage', 'sequencing.batch', 'theiler', 'celltype', 'initial_size_spliced', 'initial_size_unspliced', 'initial_size', 'n_counts'\n",
       "    var: 'Accession', 'Chromosome', 'End', 'Start', 'Strand', 'MURK_gene', 'Δm', 'scaled Δm', 'gene_count_corr', 'means', 'dispersions', 'dispersions_norm', 'highly_variable'\n",
       "    uns: 'celltype_colors', 'neighbors'\n",
       "    obsm: 'X_pca', 'X_umap'\n",
       "    layers: 'spliced', 'unspliced', 'Ms', 'Mu'\n",
       "    obsp: 'distances', 'connectivities'"
      ]
     },
     "execution_count": 6,
     "metadata": {},
     "output_type": "execute_result"
    }
   ],
   "source": [
    "adata"
   ]
  },
  {
   "cell_type": "code",
   "execution_count": 8,
   "id": "b86e10b8",
   "metadata": {},
   "outputs": [
    {
     "name": "stdout",
     "output_type": "stream",
     "text": [
      "processing:0/2\n",
      "processing:1/2\n"
     ]
    }
   ],
   "source": [
    "import celldancer as cd\n",
    "test=cd.utilities.adata_to_raw_with_embed(adata,us_para=['Mu','Ms'],cell_type_para='celltype',embed_para='X_umap',save_path='cell_type_u_s.csv',gene_list=['Hba-x','Smim1'])\n"
   ]
  },
  {
   "cell_type": "code",
   "execution_count": 9,
   "id": "82a4484c",
   "metadata": {},
   "outputs": [
    {
     "data": {
      "text/html": [
       "<div>\n",
       "<style scoped>\n",
       "    .dataframe tbody tr th:only-of-type {\n",
       "        vertical-align: middle;\n",
       "    }\n",
       "\n",
       "    .dataframe tbody tr th {\n",
       "        vertical-align: top;\n",
       "    }\n",
       "\n",
       "    .dataframe thead th {\n",
       "        text-align: right;\n",
       "    }\n",
       "</style>\n",
       "<table border=\"1\" class=\"dataframe\">\n",
       "  <thead>\n",
       "    <tr style=\"text-align: right;\">\n",
       "      <th></th>\n",
       "      <th>gene_list</th>\n",
       "      <th>unsplice</th>\n",
       "      <th>splice</th>\n",
       "      <th>cellID</th>\n",
       "      <th>clusters</th>\n",
       "      <th>embedding1</th>\n",
       "      <th>embedding2</th>\n",
       "    </tr>\n",
       "  </thead>\n",
       "  <tbody>\n",
       "    <tr>\n",
       "      <th>0</th>\n",
       "      <td>Hba-x</td>\n",
       "      <td>0.000000</td>\n",
       "      <td>0.139826</td>\n",
       "      <td>AAAGATCTCTCGAA</td>\n",
       "      <td>Blood progenitors 2</td>\n",
       "      <td>3.460521</td>\n",
       "      <td>15.574629</td>\n",
       "    </tr>\n",
       "    <tr>\n",
       "      <th>1</th>\n",
       "      <td>Hba-x</td>\n",
       "      <td>0.000000</td>\n",
       "      <td>0.048073</td>\n",
       "      <td>AATCTCACTGCTTT</td>\n",
       "      <td>Blood progenitors 2</td>\n",
       "      <td>2.490433</td>\n",
       "      <td>14.971734</td>\n",
       "    </tr>\n",
       "    <tr>\n",
       "      <th>2</th>\n",
       "      <td>Hba-x</td>\n",
       "      <td>0.000000</td>\n",
       "      <td>0.000000</td>\n",
       "      <td>AATGGCTGAAGATG</td>\n",
       "      <td>Blood progenitors 2</td>\n",
       "      <td>2.351203</td>\n",
       "      <td>15.267069</td>\n",
       "    </tr>\n",
       "    <tr>\n",
       "      <th>3</th>\n",
       "      <td>Hba-x</td>\n",
       "      <td>0.025080</td>\n",
       "      <td>3.652050</td>\n",
       "      <td>ACACATCTGTCAAC</td>\n",
       "      <td>Blood progenitors 2</td>\n",
       "      <td>5.899098</td>\n",
       "      <td>14.388825</td>\n",
       "    </tr>\n",
       "    <tr>\n",
       "      <th>4</th>\n",
       "      <td>Hba-x</td>\n",
       "      <td>0.000000</td>\n",
       "      <td>1.355590</td>\n",
       "      <td>ACGACAACTGGAGG</td>\n",
       "      <td>Blood progenitors 2</td>\n",
       "      <td>4.823139</td>\n",
       "      <td>15.374831</td>\n",
       "    </tr>\n",
       "    <tr>\n",
       "      <th>...</th>\n",
       "      <td>...</td>\n",
       "      <td>...</td>\n",
       "      <td>...</td>\n",
       "      <td>...</td>\n",
       "      <td>...</td>\n",
       "      <td>...</td>\n",
       "      <td>...</td>\n",
       "    </tr>\n",
       "    <tr>\n",
       "      <th>19625</th>\n",
       "      <td>Smim1</td>\n",
       "      <td>0.987823</td>\n",
       "      <td>7.671494</td>\n",
       "      <td>TTTCACGACTGGTA</td>\n",
       "      <td>Erythroid3</td>\n",
       "      <td>8.032358</td>\n",
       "      <td>7.603037</td>\n",
       "    </tr>\n",
       "    <tr>\n",
       "      <th>19626</th>\n",
       "      <td>Smim1</td>\n",
       "      <td>0.989246</td>\n",
       "      <td>7.317718</td>\n",
       "      <td>TTTCAGTGCGAGTT</td>\n",
       "      <td>Erythroid3</td>\n",
       "      <td>10.352904</td>\n",
       "      <td>6.446736</td>\n",
       "    </tr>\n",
       "    <tr>\n",
       "      <th>19627</th>\n",
       "      <td>Smim1</td>\n",
       "      <td>1.216333</td>\n",
       "      <td>6.978382</td>\n",
       "      <td>TTTCGAACGGTGAG</td>\n",
       "      <td>Erythroid3</td>\n",
       "      <td>9.464873</td>\n",
       "      <td>7.261099</td>\n",
       "    </tr>\n",
       "    <tr>\n",
       "      <th>19628</th>\n",
       "      <td>Smim1</td>\n",
       "      <td>1.141874</td>\n",
       "      <td>7.705575</td>\n",
       "      <td>TTTCGAACTAACCG</td>\n",
       "      <td>Erythroid3</td>\n",
       "      <td>9.990495</td>\n",
       "      <td>7.243880</td>\n",
       "    </tr>\n",
       "    <tr>\n",
       "      <th>19629</th>\n",
       "      <td>Smim1</td>\n",
       "      <td>0.972956</td>\n",
       "      <td>6.982001</td>\n",
       "      <td>TTTCTACTTCTCTA</td>\n",
       "      <td>Erythroid3</td>\n",
       "      <td>8.260699</td>\n",
       "      <td>7.935455</td>\n",
       "    </tr>\n",
       "  </tbody>\n",
       "</table>\n",
       "<p>19630 rows × 7 columns</p>\n",
       "</div>"
      ],
      "text/plain": [
       "      gene_list  unsplice    splice          cellID             clusters  \\\n",
       "0         Hba-x  0.000000  0.139826  AAAGATCTCTCGAA  Blood progenitors 2   \n",
       "1         Hba-x  0.000000  0.048073  AATCTCACTGCTTT  Blood progenitors 2   \n",
       "2         Hba-x  0.000000  0.000000  AATGGCTGAAGATG  Blood progenitors 2   \n",
       "3         Hba-x  0.025080  3.652050  ACACATCTGTCAAC  Blood progenitors 2   \n",
       "4         Hba-x  0.000000  1.355590  ACGACAACTGGAGG  Blood progenitors 2   \n",
       "...         ...       ...       ...             ...                  ...   \n",
       "19625     Smim1  0.987823  7.671494  TTTCACGACTGGTA           Erythroid3   \n",
       "19626     Smim1  0.989246  7.317718  TTTCAGTGCGAGTT           Erythroid3   \n",
       "19627     Smim1  1.216333  6.978382  TTTCGAACGGTGAG           Erythroid3   \n",
       "19628     Smim1  1.141874  7.705575  TTTCGAACTAACCG           Erythroid3   \n",
       "19629     Smim1  0.972956  6.982001  TTTCTACTTCTCTA           Erythroid3   \n",
       "\n",
       "       embedding1  embedding2  \n",
       "0        3.460521   15.574629  \n",
       "1        2.490433   14.971734  \n",
       "2        2.351203   15.267069  \n",
       "3        5.899098   14.388825  \n",
       "4        4.823139   15.374831  \n",
       "...           ...         ...  \n",
       "19625    8.032358    7.603037  \n",
       "19626   10.352904    6.446736  \n",
       "19627    9.464873    7.261099  \n",
       "19628    9.990495    7.243880  \n",
       "19629    8.260699    7.935455  \n",
       "\n",
       "[19630 rows x 7 columns]"
      ]
     },
     "execution_count": 9,
     "metadata": {},
     "output_type": "execute_result"
    }
   ],
   "source": [
    "test"
   ]
  },
  {
   "cell_type": "code",
   "execution_count": 41,
   "id": "40352189",
   "metadata": {},
   "outputs": [
    {
     "data": {
      "text/plain": [
       "(9815, 1949)"
      ]
     },
     "execution_count": 41,
     "metadata": {},
     "output_type": "execute_result"
    }
   ],
   "source": [
    "adata.layers['Ms'].shape"
   ]
  },
  {
   "cell_type": "code",
   "execution_count": 23,
   "id": "b7319554",
   "metadata": {},
   "outputs": [
    {
     "data": {
      "text/plain": [
       "array([0.08998882, 0.07766935, 0.06742084, ..., 0.04068623, 0.        ,\n",
       "       0.        ], dtype=float32)"
      ]
     },
     "execution_count": 23,
     "metadata": {},
     "output_type": "execute_result"
    }
   ],
   "source": [
    "import numpy as np\n",
    "para=['Mu', 'Ms']\n",
    "adata.layers[para[0]][:,0].copy().astype(np.float32)"
   ]
  },
  {
   "cell_type": "code",
   "execution_count": null,
   "id": "cdeb5a25",
   "metadata": {},
   "outputs": [],
   "source": []
  }
 ],
 "metadata": {
  "interpreter": {
   "hash": "a99a828e224165ef6ff74afd7967177ce2f279f30f5f9ef1db3758063b72efb9"
  },
  "kernelspec": {
   "display_name": "Python 3.7.6 ('celldancer_env')",
   "language": "python",
   "name": "python3"
  },
  "language_info": {
   "codemirror_mode": {
    "name": "ipython",
    "version": 3
   },
   "file_extension": ".py",
   "mimetype": "text/x-python",
   "name": "python",
   "nbconvert_exporter": "python",
   "pygments_lexer": "ipython3",
   "version": "3.7.6"
  }
 },
 "nbformat": 4,
 "nbformat_minor": 5
}
