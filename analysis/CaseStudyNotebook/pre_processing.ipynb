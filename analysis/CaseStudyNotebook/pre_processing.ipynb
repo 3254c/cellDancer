{
 "cells": [
  {
   "cell_type": "markdown",
   "id": "4f661f78-025c-4067-9ced-183a09d6f6af",
   "metadata": {},
   "source": [
    "# Data Preprocessing"
   ]
  },
  {
   "cell_type": "markdown",
   "id": "580f83a6-e6a7-4f81-be63-5b771758d2d1",
   "metadata": {},
   "source": [
    "First of all, the input data for scVelo are two count matrices of pre-mature (unspliced) and mature (spliced) abundances, which can be obtained from standard sequencing protocols, using the velocyto or loompy/kallisto counting pipeline.\n",
    "\n"
   ]
  },
  {
   "cell_type": "markdown",
   "id": "a37ba5ec-5982-4b42-bee2-a5516e4074e9",
   "metadata": {},
   "source": [
    "\n",
    "Other format (*.loom) to the accepted .csv format by using utilities.adata_to_csv('file.loom',xxxxx(other parameters)).\n",
    "\n",
    "\n",
    "In cell_type_u_s, each row represents each individual cell of a gene. The rows will be the length of cells * the amount of genes."
   ]
  },
  {
   "cell_type": "code",
   "execution_count": null,
   "id": "21df0f64-008b-4d3b-952d-b6a746a77c1c",
   "metadata": {},
   "outputs": [],
   "source": []
  }
 ],
 "metadata": {
  "kernelspec": {
   "display_name": "Python 3 (ipykernel)",
   "language": "python",
   "name": "python3"
  },
  "language_info": {
   "codemirror_mode": {
    "name": "ipython",
    "version": 3
   },
   "file_extension": ".py",
   "mimetype": "text/x-python",
   "name": "python",
   "nbconvert_exporter": "python",
   "pygments_lexer": "ipython3",
   "version": "3.7.6"
  }
 },
 "nbformat": 4,
 "nbformat_minor": 5
}
