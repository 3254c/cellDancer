{
 "cells": [
  {
   "cell_type": "code",
   "execution_count": 2,
   "id": "62f3bd50-65bb-4989-bdaa-0b085b41683d",
   "metadata": {},
   "outputs": [],
   "source": [
    "from analysis_SIM_compare_fun_notebook import *\n",
    "import sys\n",
    "srcdir = '/Users/wanglab/Documents/ShengyuLi/Velocity/bin/celldancer_polish/src'\n",
    "sys.path.append(srcdir)\n",
    "import celldancer.cdplt as cdplt\n",
    "\n",
    "###############################################\n",
    "########## cosin similarity analysis ##########\n",
    "###############################################\n",
    "# path: server\n",
    "analysis_result_path='/Users/wanglab/Documents/ShengyuLi/Velocity/data/simulation/data0606_for_publication/multi_path/analysis_result/'\n",
    "detail_input_path='/Users/wanglab/Documents/ShengyuLi/Velocity/data/simulation/data0606_for_publication/multi_path/velocity_result/celldancer/'\n",
    "raw_input_path='/Users/wanglab/Documents/ShengyuLi/Velocity/data/simulation/data0606_for_publication/multi_path/raw/'\n",
    "scv_result_input_path='/Users/wanglab/Documents/ShengyuLi/Velocity/data/simulation/data0606_for_publication/multi_path/velocity_result/scv/'\n",
    "foldername_para=''\n",
    "# # path - hpc\n",
    "# analysis_result_path='/condo/wanglab/tmhsxl98/Velocity/simulation_velocity_analysis/simulation_data/analysis_result/'\n",
    "# detail_input_path='/condo/wanglab/tmhsxl98/Velocity/simulation_velocity_analysis/simulation_data/velocity_result/celldancer/'\n",
    "# raw_input_path='/condo/wanglab/tmhsxl98/Velocity/simulation_velocity_analysis/simulation_data/raw/backpath/'\n",
    "# scv_result_input_path='/condo/wanglab/tmhsxl98/Velocity/simulation_velocity_analysis/simulation_data/velocity_result/scv/'\n",
    "\n",
    "# # path - shengyu\n",
    "# detail_input_path='/Users/shengyuli/Library/CloudStorage/OneDrive-HoustonMethodist/work/Velocity/data/simulation/data/multi_path/multi_path_20220222/velocity_result/celldancer/'\n",
    "# raw_input_path='/Users/shengyuli/Library/CloudStorage/OneDrive-HoustonMethodist/work/Velocity/data/simulation/data/multi_path/multi_path_20220222/raw/'\n",
    "# scv_result_input_path='/Users/shengyuli/Library/CloudStorage/OneDrive-HoustonMethodist/work/Velocity/data/simulation/data/multi_path/multi_path_20220222/velocity_result/scv/'\n",
    "# analysis_result_path='/Users/shengyuli/Library/CloudStorage/OneDrive-HoustonMethodist/work/Velocity/data/simulation/data/multi_path/multi_path_20220222/analysis_result'\n",
    "\n",
    "\n",
    "\n",
    "########## celldancer\n",
    "print('running celldancer analysis')\n",
    "\n",
    "# for ratio in [0.2,0.4,0.6,0.8]:\n",
    "for ratio in [0.2]:\n",
    "    print(ratio)\n",
    "    cellDancer = get_similarity_cellDancer(ratio,detail_input_path,raw_input_path,type='multi',foldername_para=foldername_para,path='Path2Upper')\n",
    "    cellDancer.to_csv(analysis_result_path+'celldancer_similarity_eachCell'+str(ratio)+'.csv')\n",
    "    sns.boxplot(x=\"ratio\", y=\"similarity\", hue='method', data=cellDancer)"
   ]
  }
 ],
 "metadata": {
  "kernelspec": {
   "display_name": "Python 3 (ipykernel)",
   "language": "python",
   "name": "python3"
  },
  "language_info": {
   "codemirror_mode": {
    "name": "ipython",
    "version": 3
   },
   "file_extension": ".py",
   "mimetype": "text/x-python",
   "name": "python",
   "nbconvert_exporter": "python",
   "pygments_lexer": "ipython3",
   "version": "3.7.6"
  }
 },
 "nbformat": 4,
 "nbformat_minor": 5
}
