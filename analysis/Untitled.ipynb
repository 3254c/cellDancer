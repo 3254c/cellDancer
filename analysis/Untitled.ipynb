{
 "cells": [
  {
   "cell_type": "code",
   "execution_count": 2,
   "id": "547089db-d711-4d5c-8a90-29ff3f6bd77c",
   "metadata": {},
   "outputs": [],
   "source": [
    "srcdir = '/Users/shengyuli/Library/CloudStorage/OneDrive-HoustonMethodist/work/Velocity/bin/cellDancer_polish/src'\n",
    "import sys\n",
    "sys.path.append(srcdir)\n",
    "import numpy as np\n",
    "import pandas as pd\n",
    "import matplotlib.pyplot as plt\n",
    "from statsmodels.nonparametric.kernel_regression import KernelReg\n",
    "from utilities import get_gene_s0_by_time"
   ]
  },
  {
   "cell_type": "code",
   "execution_count": null,
   "id": "e5fce6b2-cb01-4146-8980-3a4bb3209153",
   "metadata": {},
   "outputs": [],
   "source": []
  }
 ],
 "metadata": {
  "kernelspec": {
   "display_name": "Python 3 (ipykernel)",
   "language": "python",
   "name": "python3"
  },
  "language_info": {
   "codemirror_mode": {
    "name": "ipython",
    "version": 3
   },
   "file_extension": ".py",
   "mimetype": "text/x-python",
   "name": "python",
   "nbconvert_exporter": "python",
   "pygments_lexer": "ipython3",
   "version": "3.7.6"
  }
 },
 "nbformat": 4,
 "nbformat_minor": 5
}
