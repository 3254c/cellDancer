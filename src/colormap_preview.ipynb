{
 "cells": [
  {
   "cell_type": "code",
   "execution_count": 2,
   "id": "9a0dbb7a-0d71-499c-9101-95c7cc178035",
   "metadata": {},
   "outputs": [],
   "source": [
    "# color bar\n",
    "from colormap import *"
   ]
  },
  {
   "cell_type": "code",
   "execution_count": 7,
   "id": "26b2e4c3-816a-41ba-be49-136d767062ac",
   "metadata": {},
   "outputs": [],
   "source": [
    "from matplotlib.colors import ListedColormap, LinearSegmentedColormap\n",
    "zissou2_map = LinearSegmentedColormap.from_list(\"mycmap\", zissou2)\n",
    "beach_map = LinearSegmentedColormap.from_list(\"mycmap\", beach)\n",
    "purpleOrange_map = LinearSegmentedColormap.from_list(\"mycmap\", purpleOrange)\n",
    "fireworks3_map = LinearSegmentedColormap.from_list(\"mycmap\", fireworks3)\n",
    "#10-colors\n",
    "from matplotlib.colors import ListedColormap, LinearSegmentedColormap\n",
    "horizon_map = LinearSegmentedColormap.from_list(\"mycmap\", horizon)\n",
    "#9-colors\n",
    "horizonExtra_map =LinearSegmentedColormap.from_list(\"mycmap\", horizonExtra)\n",
    "blueYellow_map = LinearSegmentedColormap.from_list(\"mycmap\", blueYellow)\n",
    "sambaNight_map = LinearSegmentedColormap.from_list(\"mycmap\", sambaNight)\n",
    "solarExtra_map = LinearSegmentedColormap.from_list(\"mycmap\", solarExtra)\n",
    "whitePurple_map = LinearSegmentedColormap.from_list(\"mycmap\", whitePurple)\n",
    "whiteBlue_map = LinearSegmentedColormap.from_list(\"mycmap\", whiteBlue)\n",
    "comet_map = LinearSegmentedColormap.from_list(\"mycmap\", comet)\n",
    "#7-colors\n",
    "greenBlue_map = LinearSegmentedColormap.from_list(\"mycmap\", greenBlue)\n",
    "#6-colors\n",
    "beach_map = LinearSegmentedColormap.from_list(\"mycmap\", beach)"
   ]
  },
  {
   "cell_type": "code",
   "execution_count": 9,
   "id": "608b9d19-ab2c-4fce-a968-200260411974",
   "metadata": {},
   "outputs": [
    {
     "data": {
      "image/png": "[encoded data removed]",
      "text/html": [
       "<div style=\"vertical-align: middle;\"><strong>mycmap</strong> </div><div class=\"cmap\"><img alt=\"mycmap colormap\" title=\"mycmap\" style=\"border: 1px solid #555;\" src=\"data:image/png;base64,iVBORw0KGgoAAAANSUhEUgAAAgAAAABACAYAAABsv8+/AAAAFXRFWHRUaXRsZQBteWNtYXAgY29sb3JtYXBbv6KmAAAAG3RFWHREZXNjcmlwdGlvbgBteWNtYXAgY29sb3JtYXASKLpCAAAAMHRFWHRBdXRob3IATWF0cGxvdGxpYiB2My41LjAsIGh0dHBzOi8vbWF0cGxvdGxpYi5vcmdSPF7BAAAAMnRFWHRTb2Z0d2FyZQBNYXRwbG90bGliIHYzLjUuMCwgaHR0cHM6Ly9tYXRwbG90bGliLm9yZ3yaweYAAAH/SURBVHic7dbNboJAGIbRb/S+e1u9OZUuRBKBkTHV1XvOhgDj/NCkeVr9/E5VVa2mqqpqre7Xqpf3p4P3rU1Pz0+D8/bXGdvf8DrzfIfnGF7n9f7eXad/jtbZT+ucs42NW8176q63GrfMs7+vx/PNuM4+t99pf/1lf29/lze/3+a7PPZ5ma/X+fn9el7dL+/n63n9fHXf/f3X5r/sz9/7/af2Pzr/6Pnn+5qm52vt3y+36/ebccvAl/MOj9ust7+PzbhajR8dtz5H97vU87jD77K/7968859pubbre88Pf3f73/zDz29f2v/BeT5+rnn+x/9bACCIAACAQAIAAAIJAAAIJAAAIJAAAIBAAgAAAgkAAAgkAAAgkAAAgEACAAACCQAACCQAACCQAACAQAIAAAIJAAAIJAAAIJAAAIBAAgAAAgkAAAgkAAAgkAAAgEACAAACCQAACCQAACCQAACAQAIAAAIJAAAIJAAAIJAAAIBAAgAAAgkAAAgkAAAgkAAAgEACAAACCQAACCQAACCQAACAQAIAAAIJAAAIJAAAIJAAAIBAAgAAAgkAAAgkAAAgkAAAgEACAAACCQAACCQAACCQAACAQAIAAAIJAAAIJAAAIJAAAIBAAgAAAgkAAAgkAAAgkAAAgEACAAACCQAACCQAACCQAACAQAIAAAL9ARhivYsRy2FHAAAAAElFTkSuQmCC\"></div><div style=\"vertical-align: middle; max-width: 514px; display: flex; justify-content: space-between;\"><div style=\"float: left;\"><div title=\"#007eb7ff\" style=\"display: inline-block; width: 1em; height: 1em; margin: 0; vertical-align: middle; border: 1px solid #555; background-color: #007eb7ff;\"></div> under</div><div style=\"margin: 0 auto; display: inline-block;\">bad <div title=\"#00000000\" style=\"display: inline-block; width: 1em; height: 1em; margin: 0; vertical-align: middle; border: 1px solid #555; background-color: #00000000;\"></div></div><div style=\"float: right;\">over <div title=\"#f21a00ff\" style=\"display: inline-block; width: 1em; height: 1em; margin: 0; vertical-align: middle; border: 1px solid #555; background-color: #f21a00ff;\"></div></div>"
      ],
      "text/plain": [
       "<matplotlib.colors.LinearSegmentedColormap at 0x7f9ff8e66b10>"
      ]
     },
     "execution_count": 9,
     "metadata": {},
     "output_type": "execute_result"
    }
   ],
   "source": [
    "zissou2_map\n"
   ]
  },
  {
   "cell_type": "code",
   "execution_count": 4,
   "id": "da7a4cc1-c4a2-43e0-ad75-0bc8b63b793d",
   "metadata": {},
   "outputs": [
    {
     "data": {
      "text/plain": [
       "['#000075',\n",
       " '#2E00FF',\n",
       " '#9408F7',\n",
       " '#C729D6',\n",
       " '#FA4AB5',\n",
       " '#FF6A95',\n",
       " '#FF8B74',\n",
       " '#FFAC53',\n",
       " '#FFCD32',\n",
       " '#FFFF60']"
      ]
     },
     "execution_count": 4,
     "metadata": {},
     "output_type": "execute_result"
    }
   ],
   "source": [
    "horizon"
   ]
  },
  {
   "cell_type": "code",
   "execution_count": 10,
   "id": "1b8572b8-0428-4d74-9c5f-ec292dc6ed0e",
   "metadata": {},
   "outputs": [
    {
     "data": {
      "image/png": "[encoded data removed]",
      "text/html": [
       "<div style=\"vertical-align: middle;\"><strong>mycmap</strong> </div><div class=\"cmap\"><img alt=\"mycmap colormap\" title=\"mycmap\" style=\"border: 1px solid #555;\" src=\"data:image/png;base64,iVBORw0KGgoAAAANSUhEUgAAAgAAAABACAYAAABsv8+/AAAAFXRFWHRUaXRsZQBteWNtYXAgY29sb3JtYXBbv6KmAAAAG3RFWHREZXNjcmlwdGlvbgBteWNtYXAgY29sb3JtYXASKLpCAAAAMHRFWHRBdXRob3IATWF0cGxvdGxpYiB2My41LjAsIGh0dHBzOi8vbWF0cGxvdGxpYi5vcmdSPF7BAAAAMnRFWHRTb2Z0d2FyZQBNYXRwbG90bGliIHYzLjUuMCwgaHR0cHM6Ly9tYXRwbG90bGliLm9yZ3yaweYAAAH0SURBVHic7dY7csIwGIVRGdh79pc2awlKYWDGPyh+5NHccxqNJdkWpvmmt/eP3lprvfc2j20e221cmW8799/nW51/XJexlfsG86P9db5t3l9+59P5Rudezred+5++z7Uc7Lrc2Mv1+nr5DuW6rm9/z/fP2b7++vn7n1PXj36v1+c49895vG04t9fXl7red+6/Xw/eN9xf3ncZrQ+uLxvP+7T/l867ef/jeh6n6fYHTe3QOK3tO/3w/q3nOP3x7/in3zM9nt+X76vvrfMr69PB+1r9rvfn/fA8dX1ava+vrJfzjdaPfr/TchoACCIAACCQAACAQAIAAAIJAAAIJAAAIJAAAIBAAgAAAgkAAAgkAAAgkAAAgEACAAACCQAACCQAACCQAACAQAIAAAIJAAAIJAAAIJAAAIBAAgAAAgkAAAgkAAAgkAAAgEACAAACCQAACCQAACCQAACAQAIAAAIJAAAIJAAAIJAAAIBAAgAAAgkAAAgkAAAgkAAAgEACAAACCQAACCQAACCQAACAQAIAAAIJAAAIJAAAIJAAAIBAAgAAAgkAAAgkAAAgkAAAgEACAAACCQAACCQAACCQAACAQAIAAAIJAAAIJAAAIJAAAIBAAgAAAgkAAAgkAAAgkAAAgEACAAACCQAACCQAACCQAACAQF+qPPqUEg+ImgAAAABJRU5ErkJggg==\"></div><div style=\"vertical-align: middle; max-width: 514px; display: flex; justify-content: space-between;\"><div style=\"float: left;\"><div title=\"#87d2dbff\" style=\"display: inline-block; width: 1em; height: 1em; margin: 0; vertical-align: middle; border: 1px solid #555; background-color: #87d2dbff;\"></div> under</div><div style=\"margin: 0 auto; display: inline-block;\">bad <div title=\"#00000000\" style=\"display: inline-block; width: 1em; height: 1em; margin: 0; vertical-align: middle; border: 1px solid #555; background-color: #00000000;\"></div></div><div style=\"float: right;\">over <div title=\"#fcee2bff\" style=\"display: inline-block; width: 1em; height: 1em; margin: 0; vertical-align: middle; border: 1px solid #555; background-color: #fcee2bff;\"></div></div>"
      ],
      "text/plain": [
       "<matplotlib.colors.LinearSegmentedColormap at 0x7fa0183fbc90>"
      ]
     },
     "execution_count": 10,
     "metadata": {},
     "output_type": "execute_result"
    }
   ],
   "source": [
    "beach_map"
   ]
  },
  {
   "cell_type": "code",
   "execution_count": 11,
   "id": "bb82cb7e-7c72-42aa-8f28-4942b74a8574",
   "metadata": {},
   "outputs": [
    {
     "data": {
      "image/png": "[encoded data removed]",
      "text/html": [
       "<div style=\"vertical-align: middle;\"><strong>mycmap</strong> </div><div class=\"cmap\"><img alt=\"mycmap colormap\" title=\"mycmap\" style=\"border: 1px solid #555;\" src=\"data:image/png;base64,iVBORw0KGgoAAAANSUhEUgAAAgAAAABACAYAAABsv8+/AAAAFXRFWHRUaXRsZQBteWNtYXAgY29sb3JtYXBbv6KmAAAAG3RFWHREZXNjcmlwdGlvbgBteWNtYXAgY29sb3JtYXASKLpCAAAAMHRFWHRBdXRob3IATWF0cGxvdGxpYiB2My41LjAsIGh0dHBzOi8vbWF0cGxvdGxpYi5vcmdSPF7BAAAAMnRFWHRTb2Z0d2FyZQBNYXRwbG90bGliIHYzLjUuMCwgaHR0cHM6Ly9tYXRwbG90bGliLm9yZ3yaweYAAAHSSURBVHic7dbBTcMwAEBRp1OwEDuw/yLlABQ1IXFacQD99y4WiWO7DZX+8vbyeh1jjHH9GJYxjsfrz9fHZt5j622e353/87rb/R9b7/z+x/dv6zz5fU7PMVn3e//JOjvrzfef7HvynL/1/nef+6PvafPcyfd0+ve5Wnd6zq/x8jku9+PYXF8O56+vj8tyat5s3c05Tq/74Dlufy+r52ef9+z5l53nj9ed7//oOe6fv/3DXNbj5P7m+pPzd++vr5+cf1n9sKbneHL+v/1+7qcDACECAACCBAAABAkAAAgSAAAQJAAAIEgAAECQAACAIAEAAEECAACCBAAABAkAAAgSAAAQJAAAIEgAAECQAACAIAEAAEECAACCBAAABAkAAAgSAAAQJAAAIEgAAECQAACAIAEAAEECAACCBAAABAkAAAgSAAAQJAAAIEgAAECQAACAIAEAAEECAACCBAAABAkAAAgSAAAQJAAAIEgAAECQAACAIAEAAEECAACCBAAABAkAAAgSAAAQJAAAIEgAAECQAACAIAEAAEECAACCBAAABAkAAAgSAAAQJAAAIEgAAECQAACAIAEAAEECAACCBAAABAkAAAgSAAAQJAAAIEgAAEDQO4+FW1BCfquWAAAAAElFTkSuQmCC\"></div><div style=\"vertical-align: middle; max-width: 514px; display: flex; justify-content: space-between;\"><div style=\"float: left;\"><div title=\"#581845ff\" style=\"display: inline-block; width: 1em; height: 1em; margin: 0; vertical-align: middle; border: 1px solid #555; background-color: #581845ff;\"></div> under</div><div style=\"margin: 0 auto; display: inline-block;\">bad <div title=\"#00000000\" style=\"display: inline-block; width: 1em; height: 1em; margin: 0; vertical-align: middle; border: 1px solid #555; background-color: #00000000;\"></div></div><div style=\"float: right;\">over <div title=\"#ffc30fff\" style=\"display: inline-block; width: 1em; height: 1em; margin: 0; vertical-align: middle; border: 1px solid #555; background-color: #ffc30fff;\"></div></div>"
      ],
      "text/plain": [
       "<matplotlib.colors.LinearSegmentedColormap at 0x7fa0183e3f50>"
      ]
     },
     "execution_count": 11,
     "metadata": {},
     "output_type": "execute_result"
    }
   ],
   "source": [
    "purpleOrange_map"
   ]
  },
  {
   "cell_type": "code",
   "execution_count": 12,
   "id": "a0710e00-c596-43eb-a8a8-bf06b93c4a11",
   "metadata": {},
   "outputs": [
    {
     "data": {
      "image/png": "[encoded data removed]",
      "text/html": [
       "<div style=\"vertical-align: middle;\"><strong>mycmap</strong> </div><div class=\"cmap\"><img alt=\"mycmap colormap\" title=\"mycmap\" style=\"border: 1px solid #555;\" src=\"data:image/png;base64,iVBORw0KGgoAAAANSUhEUgAAAgAAAABACAYAAABsv8+/AAAAFXRFWHRUaXRsZQBteWNtYXAgY29sb3JtYXBbv6KmAAAAG3RFWHREZXNjcmlwdGlvbgBteWNtYXAgY29sb3JtYXASKLpCAAAAMHRFWHRBdXRob3IATWF0cGxvdGxpYiB2My41LjAsIGh0dHBzOi8vbWF0cGxvdGxpYi5vcmdSPF7BAAAAMnRFWHRTb2Z0d2FyZQBNYXRwbG90bGliIHYzLjUuMCwgaHR0cHM6Ly9tYXRwbG90bGliLm9yZ3yaweYAAAHhSURBVHic7dZBcpswAEBRmbP0sD1uTxC6SMgMMKpwdp3/3oaxEJaQvfivX7//7GOM8do/xud1f+863pz/dd1++NzP1/N+//f7HZ8/zt+zGL+dy/f9y/zrOpP71/Hlvi7rb4v71/Ht4b6/59/OZfLcsf+H+76978Nz3WbrL8/z3/s+zvvt87x9/+r/8LP/23h9XsY2Tp9f23V8P49fnruP7+f7y3X2xfrH+HneuMy7rfM1f73+Mb5Pxq/rnN9vvv5k/sPzm57303N+eH7z33Uyf3LO69/v+HzZ9+JcjtsAQIgAAIAgAQAAQQIAAIIEAAAECQAACBIAABAkAAAgSAAAQJAAAIAgAQAAQQIAAIIEAAAECQAACBIAABAkAAAgSAAAQJAAAIAgAQAAQQIAAIIEAAAECQAACBIAABAkAAAgSAAAQJAAAIAgAQAAQQIAAIIEAAAECQAACBIAABAkAAAgSAAAQJAAAIAgAQAAQQIAAIIEAAAECQAACBIAABAkAAAgSAAAQJAAAIAgAQAAQQIAAIIEAAAECQAACBIAABAkAAAgSAAAQJAAAIAgAQAAQQIAAIIEAAAECQAACBIAABAkAAAgSAAAQJAAAIAgAQAAQQIAAIIEAAAECQAACBIAABD0F4f8Gldx2hnyAAAAAElFTkSuQmCC\"></div><div style=\"vertical-align: middle; max-width: 514px; display: flex; justify-content: space-between;\"><div style=\"float: left;\"><div title=\"#2488f0ff\" style=\"display: inline-block; width: 1em; height: 1em; margin: 0; vertical-align: middle; border: 1px solid #555; background-color: #2488f0ff;\"></div> under</div><div style=\"margin: 0 auto; display: inline-block;\">bad <div title=\"#00000000\" style=\"display: inline-block; width: 1em; height: 1em; margin: 0; vertical-align: middle; border: 1px solid #555; background-color: #00000000;\"></div></div><div style=\"float: right;\">over <div title=\"#fcb31aff\" style=\"display: inline-block; width: 1em; height: 1em; margin: 0; vertical-align: middle; border: 1px solid #555; background-color: #fcb31aff;\"></div></div>"
      ],
      "text/plain": [
       "<matplotlib.colors.LinearSegmentedColormap at 0x7f9ff8c5a150>"
      ]
     },
     "execution_count": 12,
     "metadata": {},
     "output_type": "execute_result"
    }
   ],
   "source": [
    "fireworks3_map"
   ]
  },
  {
   "cell_type": "code",
   "execution_count": 13,
   "id": "51005a12-c466-46a8-97b2-d5546780af71",
   "metadata": {},
   "outputs": [
    {
     "data": {
      "image/png": "[encoded data removed]",
      "text/html": [
       "<div style=\"vertical-align: middle;\"><strong>mycmap</strong> </div><div class=\"cmap\"><img alt=\"mycmap colormap\" title=\"mycmap\" style=\"border: 1px solid #555;\" src=\"data:image/png;base64,iVBORw0KGgoAAAANSUhEUgAAAgAAAABACAYAAABsv8+/AAAAFXRFWHRUaXRsZQBteWNtYXAgY29sb3JtYXBbv6KmAAAAG3RFWHREZXNjcmlwdGlvbgBteWNtYXAgY29sb3JtYXASKLpCAAAAMHRFWHRBdXRob3IATWF0cGxvdGxpYiB2My41LjAsIGh0dHBzOi8vbWF0cGxvdGxpYi5vcmdSPF7BAAAAMnRFWHRTb2Z0d2FyZQBNYXRwbG90bGliIHYzLjUuMCwgaHR0cHM6Ly9tYXRwbG90bGliLm9yZ3yaweYAAAHMSURBVHic7dbBbkIhFEXRy1M/ub+vHRRMRPFp2qQmZ60JAS+is92qvi5VVa2OVVW11al+9qeb/ep8vvep9w/Vqqr6dNWhr8d2ud1P66F/vrp3d753b+/dxfneu+O9bbG27fz08+vc2O/Mt/l8MX83t5hfzl3nx9zf/K7/+x/np3PjvMba52s6v5tbrdN7u/Pz9y/ef/l3TPffnX/1/33O/Nh/2u8y/9589fOtr/2gbY/Px75N++Xc4vzld355v699BwAkEQAAEEgAAEAgAQAAgQQAAAQSAAAQSAAAQCABAACBBAAABBIAABBIAABAIAEAAIEEAAAEEgAAEEgAAEAgAQAAgQQAAAQSAAAQSAAAQCABAACBBAAABBIAABBIAABAIAEAAIEEAAAEEgAAEEgAAEAgAQAAgQQAAAQSAAAQSAAAQCABAACBBAAABBIAABBIAABAIAEAAIEEAAAEEgAAEEgAAEAgAQAAgQQAAAQSAAAQSAAAQCABAACBBAAABBIAABBIAABAIAEAAIEEAAAEEgAAEEgAAEAgAQAAgQQAAAQSAAAQSAAAQCABAACBBAAABBIAABBIAABAIAEAAIEEAAAEEgAAEEgAAECgbw5xtN06MMZtAAAAAElFTkSuQmCC\"></div><div style=\"vertical-align: middle; max-width: 514px; display: flex; justify-content: space-between;\"><div style=\"float: left;\"><div title=\"#000075ff\" style=\"display: inline-block; width: 1em; height: 1em; margin: 0; vertical-align: middle; border: 1px solid #555; background-color: #000075ff;\"></div> under</div><div style=\"margin: 0 auto; display: inline-block;\">bad <div title=\"#00000000\" style=\"display: inline-block; width: 1em; height: 1em; margin: 0; vertical-align: middle; border: 1px solid #555; background-color: #00000000;\"></div></div><div style=\"float: right;\">over <div title=\"#ffff60ff\" style=\"display: inline-block; width: 1em; height: 1em; margin: 0; vertical-align: middle; border: 1px solid #555; background-color: #ffff60ff;\"></div></div>"
      ],
      "text/plain": [
       "<matplotlib.colors.LinearSegmentedColormap at 0x7f9ff87f6b10>"
      ]
     },
     "execution_count": 13,
     "metadata": {},
     "output_type": "execute_result"
    }
   ],
   "source": [
    "horizon_map"
   ]
  },
  {
   "cell_type": "code",
   "execution_count": 14,
   "id": "474706dc-b2c7-42e2-9158-ea9459972e3f",
   "metadata": {},
   "outputs": [
    {
     "data": {
      "image/png": "[encoded data removed]",
      "text/html": [
       "<div style=\"vertical-align: middle;\"><strong>mycmap</strong> </div><div class=\"cmap\"><img alt=\"mycmap colormap\" title=\"mycmap\" style=\"border: 1px solid #555;\" src=\"data:image/png;base64,iVBORw0KGgoAAAANSUhEUgAAAgAAAABACAYAAABsv8+/AAAAFXRFWHRUaXRsZQBteWNtYXAgY29sb3JtYXBbv6KmAAAAG3RFWHREZXNjcmlwdGlvbgBteWNtYXAgY29sb3JtYXASKLpCAAAAMHRFWHRBdXRob3IATWF0cGxvdGxpYiB2My41LjAsIGh0dHBzOi8vbWF0cGxvdGxpYi5vcmdSPF7BAAAAMnRFWHRTb2Z0d2FyZQBNYXRwbG90bGliIHYzLjUuMCwgaHR0cHM6Ly9tYXRwbG90bGliLm9yZ3yaweYAAAHuSURBVHic7dZBbsIwFEVR27Cm7n9lTQfYVHGgJBFIld45Eyvxr51O0K3l+rWUUkopl9tSr32dn/v65rk63pcX5x2du3/Hs/lLv3/Mtel7xv78fv089n/n986du2977rH75u8c79dfMU7bvj8693K/fvj83f/H0p/H+j09L9Pcq/2dc8vj/b33/c79vf9sbpzf2u19q7e13p+P7de6nmttWb/fnLNM8wfvmfZrm+8f84/vGfOl75fxPK8f2n/b/SfPqZ++79+f23+A6ljb+rm1x/vtyfxm/+zf7fyOs9/Z58fvIwAQRAAAQCABAACBBAAABBIAABBIAABAIAEAAIEEAAAEEgAAEEgAAEAgAQAAgQQAAAQSAAAQSAAAQCABAACBBAAABBIAABBIAABAIAEAAIEEAAAEEgAAEEgAAEAgAQAAgQQAAAQSAAAQSAAAQCABAACBBAAABBIAABBIAABAIAEAAIEEAAAEEgAAEEgAAEAgAQAAgQQAAAQSAAAQSAAAQCABAACBBAAABBIAABBIAABAIAEAAIEEAAAEEgAAEEgAAEAgAQAAgQQAAAQSAAAQSAAAQCABAACBBAAABBIAABBIAABAIAEAAIEEAAAEEgAAEEgAAEAgAQAAgQQAAAQSAAAQSAAAQCABAACBfgAl04PUAtVZcQAAAABJRU5ErkJggg==\"></div><div style=\"vertical-align: middle; max-width: 514px; display: flex; justify-content: space-between;\"><div style=\"float: left;\"><div title=\"#000436ff\" style=\"display: inline-block; width: 1em; height: 1em; margin: 0; vertical-align: middle; border: 1px solid #555; background-color: #000436ff;\"></div> under</div><div style=\"margin: 0 auto; display: inline-block;\">bad <div title=\"#00000000\" style=\"display: inline-block; width: 1em; height: 1em; margin: 0; vertical-align: middle; border: 1px solid #555; background-color: #00000000;\"></div></div><div style=\"float: right;\">over <div title=\"#fffc5aff\" style=\"display: inline-block; width: 1em; height: 1em; margin: 0; vertical-align: middle; border: 1px solid #555; background-color: #fffc5aff;\"></div></div>"
      ],
      "text/plain": [
       "<matplotlib.colors.LinearSegmentedColormap at 0x7f9ff8e55b10>"
      ]
     },
     "execution_count": 14,
     "metadata": {},
     "output_type": "execute_result"
    }
   ],
   "source": [
    "horizonExtra_map"
   ]
  },
  {
   "cell_type": "code",
   "execution_count": 38,
   "id": "188950c9-8807-461b-89d9-f2eb3a7ef573",
   "metadata": {},
   "outputs": [
    {
     "data": {
      "image/png": "[encoded data removed]",
      "text/html": [
       "<div style=\"vertical-align: middle;\"><strong>mycmap</strong> </div><div class=\"cmap\"><img alt=\"mycmap colormap\" title=\"mycmap\" style=\"border: 1px solid #555;\" src=\"data:image/png;base64,iVBORw0KGgoAAAANSUhEUgAAAgAAAABACAYAAABsv8+/AAAAFXRFWHRUaXRsZQBteWNtYXAgY29sb3JtYXBbv6KmAAAAG3RFWHREZXNjcmlwdGlvbgBteWNtYXAgY29sb3JtYXASKLpCAAAAMHRFWHRBdXRob3IATWF0cGxvdGxpYiB2My41LjAsIGh0dHBzOi8vbWF0cGxvdGxpYi5vcmdSPF7BAAAAMnRFWHRTb2Z0d2FyZQBNYXRwbG90bGliIHYzLjUuMCwgaHR0cHM6Ly9tYXRwbG90bGliLm9yZ3yaweYAAAGgSURBVHic7dZBbsIwFEBBO71H799DFrogLCrVAtJWAr2ZjUXyE+xN9Ob2/nEeY4wx5mUZ2+XX/P57df3Z555tP/fP7euP0+vrt+4ffe7X750vtt/V/f0g2/wcY4zxtt23bnfOHZ0//j+nJ93Xg/Pzco65n2fM82Prqzz3avvd9vXq+iFYrePG/eXc4v2H37ea++9zLM7z1+e4fscGAJAjAAAgSAAAQJAAAIAgAQAAQQIAAIIEAAAECQAACBIAABAkAAAgSAAAQJAAAIAgAQAAQQIAAIIEAAAECQAACBIAABAkAAAgSAAAQJAAAIAgAQAAQQIAAIIEAAAECQAACBIAABAkAAAgSAAAQJAAAIAgAQAAQQIAAIIEAAAECQAACBIAABAkAAAgSAAAQJAAAIAgAQAAQQIAAIIEAAAECQAACBIAABAkAAAgSAAAQJAAAIAgAQAAQQIAAIIEAAAECQAACBIAABAkAAAgSAAAQJAAAIAgAQAAQQIAAIIEAAAECQAACBIAABAkAAAgSAAAQJAAAIAgAQAAQQIAAIIEAAAEfQHrD2nUuQQEIgAAAABJRU5ErkJggg==\"></div><div style=\"vertical-align: middle; max-width: 514px; display: flex; justify-content: space-between;\"><div style=\"float: left;\"><div title=\"#021ea9ff\" style=\"display: inline-block; width: 1em; height: 1em; margin: 0; vertical-align: middle; border: 1px solid #555; background-color: #021ea9ff;\"></div> under</div><div style=\"margin: 0 auto; display: inline-block;\">bad <div title=\"#00000000\" style=\"display: inline-block; width: 1em; height: 1em; margin: 0; vertical-align: middle; border: 1px solid #555; background-color: #00000000;\"></div></div><div style=\"float: right;\">over <div title=\"#fffc5aff\" style=\"display: inline-block; width: 1em; height: 1em; margin: 0; vertical-align: middle; border: 1px solid #555; background-color: #fffc5aff;\"></div></div>"
      ],
      "text/plain": [
       "<matplotlib.colors.LinearSegmentedColormap at 0x7f9ff0031450>"
      ]
     },
     "execution_count": 38,
     "metadata": {},
     "output_type": "execute_result"
    }
   ],
   "source": [
    "horizonExtra02_map =LinearSegmentedColormap.from_list(\"mycmap\", [\n",
    "    # '#000436',\n",
    " '#021EA9',\n",
    " '#1632FB',\n",
    " '#6E34FC',\n",
    " # '#C732D5',\n",
    " # '#FD619D',\n",
    " '#FF9965',\n",
    " '#FFD32B',\n",
    " '#FFFC5A'])\n",
    "\n",
    "horizonExtra02_map"
   ]
  },
  {
   "cell_type": "code",
   "execution_count": 15,
   "id": "ef682b9f-486f-490a-9e9e-b75210fea8dd",
   "metadata": {},
   "outputs": [
    {
     "data": {
      "image/png": "[encoded data removed]",
      "text/html": [
       "<div style=\"vertical-align: middle;\"><strong>mycmap</strong> </div><div class=\"cmap\"><img alt=\"mycmap colormap\" title=\"mycmap\" style=\"border: 1px solid #555;\" src=\"data:image/png;base64,iVBORw0KGgoAAAANSUhEUgAAAgAAAABACAYAAABsv8+/AAAAFXRFWHRUaXRsZQBteWNtYXAgY29sb3JtYXBbv6KmAAAAG3RFWHREZXNjcmlwdGlvbgBteWNtYXAgY29sb3JtYXASKLpCAAAAMHRFWHRBdXRob3IATWF0cGxvdGxpYiB2My41LjAsIGh0dHBzOi8vbWF0cGxvdGxpYi5vcmdSPF7BAAAAMnRFWHRTb2Z0d2FyZQBNYXRwbG90bGliIHYzLjUuMCwgaHR0cHM6Ly9tYXRwbG90bGliLm9yZ3yaweYAAAICSURBVHic7dZLTsMwAEVRx2U1zNkiy44ZkKSqWyehVDB450wsx59EgNCdPt4/WymltDKVUkop0zJu89rN+311cO7gfH//6Hx//4u/ry3n2zKfB/Pted3fd3euntu3zbf963sPzh18z9G5tv28+h9T+x5qNz+5/qp7rr/m1n3nYH7359LtG9wzTfNyvt0+r/PuvPTryz1THd37eP36Xfvv+/G9o+9c5nWZv5X54XhZ50f7fnnPdX193h6vn9138p7Lsr6Odfi83Zzf5u3kvtF7Wn9u//zdvna0b949X9Zx+p+x/dN7x2N5cv2559Mfvad/vv6/Xf/tAgBBBAAABBIAABBIAABAIAEAAIEEAAAEEgAAEEgAAEAgAQAAgQQAAAQSAAAQSAAAQCABAACBBAAABBIAABBIAABAIAEAAIEEAAAEEgAAEEgAAEAgAQAAgQQAAAQSAAAQSAAAQCABAACBBAAABBIAABBIAABAIAEAAIEEAAAEEgAAEEgAAEAgAQAAgQQAAAQSAAAQSAAAQCABAACBBAAABBIAABBIAABAIAEAAIEEAAAEEgAAEEgAAEAgAQAAgQQAAAQSAAAQSAAAQCABAACBBAAABBIAABBIAABAIAEAAIEEAAAEEgAAEEgAAEAgAQAAgQQAAAQSAAAQSAAAQCABAACBBAAABBIAABDoC9bKzH5vya4oAAAAAElFTkSuQmCC\"></div><div style=\"vertical-align: middle; max-width: 514px; display: flex; justify-content: space-between;\"><div style=\"float: left;\"><div title=\"#352a86ff\" style=\"display: inline-block; width: 1em; height: 1em; margin: 0; vertical-align: middle; border: 1px solid #555; background-color: #352a86ff;\"></div> under</div><div style=\"margin: 0 auto; display: inline-block;\">bad <div title=\"#00000000\" style=\"display: inline-block; width: 1em; height: 1em; margin: 0; vertical-align: middle; border: 1px solid #555; background-color: #00000000;\"></div></div><div style=\"float: right;\">over <div title=\"#f8fa0dff\" style=\"display: inline-block; width: 1em; height: 1em; margin: 0; vertical-align: middle; border: 1px solid #555; background-color: #f8fa0dff;\"></div></div>"
      ],
      "text/plain": [
       "<matplotlib.colors.LinearSegmentedColormap at 0x7f9ff8a5ac50>"
      ]
     },
     "execution_count": 15,
     "metadata": {},
     "output_type": "execute_result"
    }
   ],
   "source": [
    "blueYellow_map"
   ]
  },
  {
   "cell_type": "code",
   "execution_count": 16,
   "id": "292368b5-956d-4dff-93ad-674a9095b19c",
   "metadata": {},
   "outputs": [
    {
     "data": {
      "image/png": "[encoded data removed]",
      "text/html": [
       "<div style=\"vertical-align: middle;\"><strong>mycmap</strong> </div><div class=\"cmap\"><img alt=\"mycmap colormap\" title=\"mycmap\" style=\"border: 1px solid #555;\" src=\"data:image/png;base64,iVBORw0KGgoAAAANSUhEUgAAAgAAAABACAYAAABsv8+/AAAAFXRFWHRUaXRsZQBteWNtYXAgY29sb3JtYXBbv6KmAAAAG3RFWHREZXNjcmlwdGlvbgBteWNtYXAgY29sb3JtYXASKLpCAAAAMHRFWHRBdXRob3IATWF0cGxvdGxpYiB2My41LjAsIGh0dHBzOi8vbWF0cGxvdGxpYi5vcmdSPF7BAAAAMnRFWHRTb2Z0d2FyZQBNYXRwbG90bGliIHYzLjUuMCwgaHR0cHM6Ly9tYXRwbG90bGliLm9yZ3yaweYAAAINSURBVHic7dZBbtswEIbRoY32DL1nr9kbJba6iOTAo7BS22yC/72N4iFNE4YRfOPHz19LVdUy6s0Yk2dbv5zct9t/9Dnb/pP7tvP+9j7rc2n3WrZ5u/f7/HlfP2f3/m3/pc8n515m6/0+k/vu7vPn+273u9RrVVVd67a+fn5e1/XLmMz7/jGZP14/n7eb9/3jYL3PD/ff1q/jbf1WL1VVdX8823xM5m39tq7f2/pjPvr8+dz9+uS8Mfuc7T6vH8/beWPcq6rq2/o7eDyrPpx/7/tOvu/s/sPz//Nz+vnX/qzJ/Ox6+/f1z+ccrH/W+WNZ/+jP+8Hrz9731c//ovfdfkcAQBABAACBBAAABBIAABBIAABAIAEAAIEEAAAEEgAAEEgAAEAgAQAAgQQAAAQSAAAQSAAAQCABAACBBAAABBIAABBIAABAIAEAAIEEAAAEEgAAEEgAAEAgAQAAgQQAAAQSAAAQSAAAQCABAACBBAAABBIAABBIAABAIAEAAIEEAAAEEgAAEEgAAEAgAQAAgQQAAAQSAAAQSAAAQCABAACBBAAABBIAABBIAABAIAEAAIEEAAAEEgAAEEgAAEAgAQAAgQQAAAQSAAAQSAAAQCABAACBBAAABBIAABBIAABAIAEAAIEEAAAEEgAAEEgAAEAgAQAAgQQAAAQSAAAQSAAAQCABAACBBAAABPoNSXC6I0MIIVUAAAAASUVORK5CYII=\"></div><div style=\"vertical-align: middle; max-width: 514px; display: flex; justify-content: space-between;\"><div style=\"float: left;\"><div title=\"#1873ccff\" style=\"display: inline-block; width: 1em; height: 1em; margin: 0; vertical-align: middle; border: 1px solid #555; background-color: #1873ccff;\"></div> under</div><div style=\"margin: 0 auto; display: inline-block;\">bad <div title=\"#00000000\" style=\"display: inline-block; width: 1em; height: 1em; margin: 0; vertical-align: middle; border: 1px solid #555; background-color: #00000000;\"></div></div><div style=\"float: right;\">over <div title=\"#ffa500ff\" style=\"display: inline-block; width: 1em; height: 1em; margin: 0; vertical-align: middle; border: 1px solid #555; background-color: #ffa500ff;\"></div></div>"
      ],
      "text/plain": [
       "<matplotlib.colors.LinearSegmentedColormap at 0x7fa0183eb610>"
      ]
     },
     "execution_count": 16,
     "metadata": {},
     "output_type": "execute_result"
    }
   ],
   "source": [
    "sambaNight_map"
   ]
  },
  {
   "cell_type": "code",
   "execution_count": 17,
   "id": "484375ac-4bdc-49d1-ab43-1b485c6af5e9",
   "metadata": {},
   "outputs": [
    {
     "data": {
      "image/png": "[encoded data removed]",
      "text/html": [
       "<div style=\"vertical-align: middle;\"><strong>mycmap</strong> </div><div class=\"cmap\"><img alt=\"mycmap colormap\" title=\"mycmap\" style=\"border: 1px solid #555;\" src=\"data:image/png;base64,iVBORw0KGgoAAAANSUhEUgAAAgAAAABACAYAAABsv8+/AAAAFXRFWHRUaXRsZQBteWNtYXAgY29sb3JtYXBbv6KmAAAAG3RFWHREZXNjcmlwdGlvbgBteWNtYXAgY29sb3JtYXASKLpCAAAAMHRFWHRBdXRob3IATWF0cGxvdGxpYiB2My41LjAsIGh0dHBzOi8vbWF0cGxvdGxpYi5vcmdSPF7BAAAAMnRFWHRTb2Z0d2FyZQBNYXRwbG90bGliIHYzLjUuMCwgaHR0cHM6Ly9tYXRwbG90bGliLm9yZ3yaweYAAAIvSURBVHic7dZRUtswFIbRa7s76oq6uK4SgvqAZcZKjAK8dOY/58XIupaTwnS+5fefv62qqi1rVVXVfm3L9r5eh3XfX7fH88d+P2+r0/nrsJ6e+/lz0/314nvdva/2/drPW87rY3//YR3WfX/t8xfPr8P83XkXz1++bzxveP74PI/f1+//6tdqVVW1HffbaX8b1lfz0+fri/N9XcP7Z89P5vv5/Z9jrXa6fvw5PJ673//h3FLD/vfmlsn3+vj1v52u67C+v3/74nOP54/9Nt6/fXre7PPMnxs+T3tfV3vd1+freL/2+fncs+ddzd2enPvZe2tYttf9D+vlvD72X87renb/6rzvvu9ifvq+/bz+vd/afq2+buf1cP92NTd57n+d6/8PAABBBAAABBIAABBIAABAIAEAAIEEAAAEEgAAEEgAAEAgAQAAgQQAAAQSAAAQSAAAQCABAACBBAAABBIAABBIAABAIAEAAIEEAAAEEgAAEEgAAEAgAQAAgQQAAAQSAAAQSAAAQCABAACBBAAABBIAABBIAABAIAEAAIEEAAAEEgAAEEgAAEAgAQAAgQQAAAQSAAAQSAAAQCABAACBBAAABBIAABBIAABAIAEAAIEEAAAEEgAAEEgAAEAgAQAAgQQAAAQSAAAQSAAAQCABAACBBAAABBIAABBIAABAIAEAAIEEAAAEEgAAEEgAAEAgAQAAgQQAAAQSAAAQSAAAQCABAACBBAAABBIAABDoH+4jFWv1BsP8AAAAAElFTkSuQmCC\"></div><div style=\"vertical-align: middle; max-width: 514px; display: flex; justify-content: space-between;\"><div style=\"float: left;\"><div title=\"#3361a5ff\" style=\"display: inline-block; width: 1em; height: 1em; margin: 0; vertical-align: middle; border: 1px solid #555; background-color: #3361a5ff;\"></div> under</div><div style=\"margin: 0 auto; display: inline-block;\">bad <div title=\"#00000000\" style=\"display: inline-block; width: 1em; height: 1em; margin: 0; vertical-align: middle; border: 1px solid #555; background-color: #00000000;\"></div></div><div style=\"float: right;\">over <div title=\"#a31d1dff\" style=\"display: inline-block; width: 1em; height: 1em; margin: 0; vertical-align: middle; border: 1px solid #555; background-color: #a31d1dff;\"></div></div>"
      ],
      "text/plain": [
       "<matplotlib.colors.LinearSegmentedColormap at 0x7f9ff8b6f710>"
      ]
     },
     "execution_count": 17,
     "metadata": {},
     "output_type": "execute_result"
    }
   ],
   "source": [
    "solarExtra_map"
   ]
  },
  {
   "cell_type": "code",
   "execution_count": 23,
   "id": "095459a7-19cd-461d-a6a5-eae18eff6b03",
   "metadata": {},
   "outputs": [
    {
     "data": {
      "text/plain": [
       "['#3361A5',\n",
       " '#248AF3',\n",
       " '#14B3FF',\n",
       " '#88CEEF',\n",
       " '#C1D5DC',\n",
       " '#EAD397',\n",
       " '#FDB31A',\n",
       " '#E42A2A',\n",
       " '#A31D1D']"
      ]
     },
     "execution_count": 23,
     "metadata": {},
     "output_type": "execute_result"
    }
   ],
   "source": [
    "solarExtra"
   ]
  },
  {
   "cell_type": "code",
   "execution_count": null,
   "id": "d2793a86-2a8d-486d-bc77-6bbff408d2ef",
   "metadata": {},
   "outputs": [],
   "source": []
  },
  {
   "cell_type": "code",
   "execution_count": 18,
   "id": "29134aa0-3e27-4726-a197-678c7c60aa05",
   "metadata": {},
   "outputs": [
    {
     "data": {
      "image/png": "[encoded data removed]",
      "text/html": [
       "<div style=\"vertical-align: middle;\"><strong>mycmap</strong> </div><div class=\"cmap\"><img alt=\"mycmap colormap\" title=\"mycmap\" style=\"border: 1px solid #555;\" src=\"data:image/png;base64,iVBORw0KGgoAAAANSUhEUgAAAgAAAABACAYAAABsv8+/AAAAFXRFWHRUaXRsZQBteWNtYXAgY29sb3JtYXBbv6KmAAAAG3RFWHREZXNjcmlwdGlvbgBteWNtYXAgY29sb3JtYXASKLpCAAAAMHRFWHRBdXRob3IATWF0cGxvdGxpYiB2My41LjAsIGh0dHBzOi8vbWF0cGxvdGxpYi5vcmdSPF7BAAAAMnRFWHRTb2Z0d2FyZQBNYXRwbG90bGliIHYzLjUuMCwgaHR0cHM6Ly9tYXRwbG90bGliLm9yZ3yaweYAAAH2SURBVHic7dZBTsMwFEVRw/73ywQcBk0q/FPLoSCB9M6ZVE5c2ym0ui9v7x9ba61t29Zur+322nbH9XG4vH9cqfNX95/db2vjxOvnmaxXP4/TvNX9Z9cZn+fqOn22zm+de/b+0zm/u+7V5y/POT3Pc8/Z6rg/fv9p3rFuHxeezd/6bJ2r+4/X67y6/3ne5AtSzv/vrvfZuX92vX7e3/1c6t/lyxfyb/Y/za/nKfvX62V8v3+a1x/Pq+vU/7ur+03WWc5bnnsc9/2L2++/N7Px/nr/HRnHx/2tjE/zJ/sc57i67nKf1fv3fV8bABBHAABAIAEAAIEEAAAEEgAAEEgAAEAgAQAAgQQAAAQSAAAQSAAAQCABAACBBAAABBIAABBIAABAIAEAAIEEAAAEEgAAEEgAAEAgAQAAgQQAAAQSAAAQSAAAQCABAACBBAAABBIAABBIAABAIAEAAIEEAAAEEgAAEEgAAEAgAQAAgQQAAAQSAAAQSAAAQCABAACBBAAABBIAABBIAABAIAEAAIEEAAAEEgAAEEgAAEAgAQAAgQQAAAQSAAAQSAAAQCABAACBBAAABBIAABBIAABAIAEAAIEEAAAEEgAAEEgAAEAgAQAAgQQAAAQSAAAQSAAAQCABAACBBAAABBIAABBIAABAIAEAAIE+AdPoBTVb3sC5AAAAAElFTkSuQmCC\"></div><div style=\"vertical-align: middle; max-width: 514px; display: flex; justify-content: space-between;\"><div style=\"float: left;\"><div title=\"#f7fcfdff\" style=\"display: inline-block; width: 1em; height: 1em; margin: 0; vertical-align: middle; border: 1px solid #555; background-color: #f7fcfdff;\"></div> under</div><div style=\"margin: 0 auto; display: inline-block;\">bad <div title=\"#00000000\" style=\"display: inline-block; width: 1em; height: 1em; margin: 0; vertical-align: middle; border: 1px solid #555; background-color: #00000000;\"></div></div><div style=\"float: right;\">over <div title=\"#4d004bff\" style=\"display: inline-block; width: 1em; height: 1em; margin: 0; vertical-align: middle; border: 1px solid #555; background-color: #4d004bff;\"></div></div>"
      ],
      "text/plain": [
       "<matplotlib.colors.LinearSegmentedColormap at 0x7fa0183fbc10>"
      ]
     },
     "execution_count": 18,
     "metadata": {},
     "output_type": "execute_result"
    }
   ],
   "source": [
    "whitePurple_map"
   ]
  },
  {
   "cell_type": "code",
   "execution_count": 19,
   "id": "c1c9415b-f460-4917-b067-5588230ef8af",
   "metadata": {},
   "outputs": [
    {
     "data": {
      "image/png": "[encoded data removed]",
      "text/html": [
       "<div style=\"vertical-align: middle;\"><strong>mycmap</strong> </div><div class=\"cmap\"><img alt=\"mycmap colormap\" title=\"mycmap\" style=\"border: 1px solid #555;\" src=\"data:image/png;base64,iVBORw0KGgoAAAANSUhEUgAAAgAAAABACAYAAABsv8+/AAAAFXRFWHRUaXRsZQBteWNtYXAgY29sb3JtYXBbv6KmAAAAG3RFWHREZXNjcmlwdGlvbgBteWNtYXAgY29sb3JtYXASKLpCAAAAMHRFWHRBdXRob3IATWF0cGxvdGxpYiB2My41LjAsIGh0dHBzOi8vbWF0cGxvdGxpYi5vcmdSPF7BAAAAMnRFWHRTb2Z0d2FyZQBNYXRwbG90bGliIHYzLjUuMCwgaHR0cHM6Ly9tYXRwbG90bGliLm9yZ3yaweYAAAHpSURBVHic7dYxbtswAEBRtve/b4cCUodGNkyHDou66PDfWxRSCklpMP6388fPc4wxzvMcv6/jwTlNXMNzmriPr8tqvccH99d7fZ71eo/n2V3vnM6xnn/93e7/93iO1Xrjb/df7rO3/zV/rOYX627Pj2n9zfnrnMfivbfnb/us1v38/Z/Hr+dX5z0W59rd/1h9ry/2n7/r+lzTeL7/tO7uc3v35/ffP9fmc9P9p/dfnOPd49X+7x5/dZ7z/se4vtD0wMf8/EOyef82f/zh8/94vdvv0rXOx/WY15+/x3vnz/+07zX+PgCAHAEAAEECAACCBAAABAkAAAgSAAAQJAAAIEgAAECQAACAIAEAAEECAACCBAAABAkAAAgSAAAQJAAAIEgAAECQAACAIAEAAEECAACCBAAABAkAAAgSAAAQJAAAIEgAAECQAACAIAEAAEECAACCBAAABAkAAAgSAAAQJAAAIEgAAECQAACAIAEAAEECAACCBAAABAkAAAgSAAAQJAAAIEgAAECQAACAIAEAAEECAACCBAAABAkAAAgSAAAQJAAAIEgAAECQAACAIAEAAEECAACCBAAABAkAAAgSAAAQJAAAIEgAAECQAACAIAEAAEECAACCBAAABAkAAAgSAAAQJAAAIOgXVcz8ID3oyPIAAAAASUVORK5CYII=\"></div><div style=\"vertical-align: middle; max-width: 514px; display: flex; justify-content: space-between;\"><div style=\"float: left;\"><div title=\"#fff7fbff\" style=\"display: inline-block; width: 1em; height: 1em; margin: 0; vertical-align: middle; border: 1px solid #555; background-color: #fff7fbff;\"></div> under</div><div style=\"margin: 0 auto; display: inline-block;\">bad <div title=\"#00000000\" style=\"display: inline-block; width: 1em; height: 1em; margin: 0; vertical-align: middle; border: 1px solid #555; background-color: #00000000;\"></div></div><div style=\"float: right;\">over <div title=\"#023858ff\" style=\"display: inline-block; width: 1em; height: 1em; margin: 0; vertical-align: middle; border: 1px solid #555; background-color: #023858ff;\"></div></div>"
      ],
      "text/plain": [
       "<matplotlib.colors.LinearSegmentedColormap at 0x7fa0183fbd10>"
      ]
     },
     "execution_count": 19,
     "metadata": {},
     "output_type": "execute_result"
    }
   ],
   "source": [
    "whiteBlue_map"
   ]
  },
  {
   "cell_type": "code",
   "execution_count": 20,
   "id": "0b06fdc1-2139-4fac-a446-03c6adccacb4",
   "metadata": {},
   "outputs": [
    {
     "data": {
      "image/png": "[encoded data removed]",
      "text/html": [
       "<div style=\"vertical-align: middle;\"><strong>mycmap</strong> </div><div class=\"cmap\"><img alt=\"mycmap colormap\" title=\"mycmap\" style=\"border: 1px solid #555;\" src=\"data:image/png;base64,iVBORw0KGgoAAAANSUhEUgAAAgAAAABACAYAAABsv8+/AAAAFXRFWHRUaXRsZQBteWNtYXAgY29sb3JtYXBbv6KmAAAAG3RFWHREZXNjcmlwdGlvbgBteWNtYXAgY29sb3JtYXASKLpCAAAAMHRFWHRBdXRob3IATWF0cGxvdGxpYiB2My41LjAsIGh0dHBzOi8vbWF0cGxvdGxpYi5vcmdSPF7BAAAAMnRFWHRTb2Z0d2FyZQBNYXRwbG90bGliIHYzLjUuMCwgaHR0cHM6Ly9tYXRwbG90bGliLm9yZ3yaweYAAAGwSURBVHic7dbBTsJAFEDRh///nepP2HEBuoCgASss7jmbSTvptJ1Ccg+vb+9rZuZjzczMbBfj4cr5v86fnZ9/WvfW+dln3cv9vPG55s7r9t6n+WX+Qb+Xj9N3OWzbaTxOHNba9Xh2Xu/m9b/e7877zD89937r//z9nr7/Ox1v6/ie2+kftE7j1/nv47NxXbvul+vP1792/fn69z/fetJ9H7Uv60n3fdS+HN/vZQCAHAEAAEECAACCBAAABAkAAAgSAAAQJAAAIEgAAECQAACAIAEAAEECAACCBAAABAkAAAgSAAAQJAAAIEgAAECQAACAIAEAAEECAACCBAAABAkAAAgSAAAQJAAAIEgAAECQAACAIAEAAEECAACCBAAABAkAAAgSAAAQJAAAIEgAAECQAACAIAEAAEECAACCBAAABAkAAAgSAAAQJAAAIEgAAECQAACAIAEAAEECAACCBAAABAkAAAgSAAAQJAAAIEgAAECQAACAIAEAAEECAACCBAAABAkAAAgSAAAQJAAAIEgAAECQAACAIAEAAEECAACCBAAABAkAAAgSAAAQJAAAIOgTATQQnXwY0zEAAAAASUVORK5CYII=\"></div><div style=\"vertical-align: middle; max-width: 514px; display: flex; justify-content: space-between;\"><div style=\"float: left;\"><div title=\"#e6e7e8ff\" style=\"display: inline-block; width: 1em; height: 1em; margin: 0; vertical-align: middle; border: 1px solid #555; background-color: #e6e7e8ff;\"></div> under</div><div style=\"margin: 0 auto; display: inline-block;\">bad <div title=\"#00000000\" style=\"display: inline-block; width: 1em; height: 1em; margin: 0; vertical-align: middle; border: 1px solid #555; background-color: #00000000;\"></div></div><div style=\"float: right;\">over <div title=\"#000000ff\" style=\"display: inline-block; width: 1em; height: 1em; margin: 0; vertical-align: middle; border: 1px solid #555; background-color: #000000ff;\"></div></div>"
      ],
      "text/plain": [
       "<matplotlib.colors.LinearSegmentedColormap at 0x7fa0183eb950>"
      ]
     },
     "execution_count": 20,
     "metadata": {},
     "output_type": "execute_result"
    }
   ],
   "source": [
    "comet_map#"
   ]
  },
  {
   "cell_type": "code",
   "execution_count": 24,
   "id": "4cf3b4c2-f42f-4750-939a-15bb86eacd74",
   "metadata": {},
   "outputs": [
    {
     "data": {
      "text/plain": [
       "['#E6E7E8', '#3A97FF', '#8816A7', 'black']"
      ]
     },
     "execution_count": 24,
     "metadata": {},
     "output_type": "execute_result"
    }
   ],
   "source": [
    "comet"
   ]
  },
  {
   "cell_type": "code",
   "execution_count": 21,
   "id": "2376d57b-2d5b-45a3-9511-85223d45f875",
   "metadata": {},
   "outputs": [
    {
     "data": {
      "image/png": "[encoded data removed]",
      "text/html": [
       "<div style=\"vertical-align: middle;\"><strong>mycmap</strong> </div><div class=\"cmap\"><img alt=\"mycmap colormap\" title=\"mycmap\" style=\"border: 1px solid #555;\" src=\"data:image/png;base64,iVBORw0KGgoAAAANSUhEUgAAAgAAAABACAYAAABsv8+/AAAAFXRFWHRUaXRsZQBteWNtYXAgY29sb3JtYXBbv6KmAAAAG3RFWHREZXNjcmlwdGlvbgBteWNtYXAgY29sb3JtYXASKLpCAAAAMHRFWHRBdXRob3IATWF0cGxvdGxpYiB2My41LjAsIGh0dHBzOi8vbWF0cGxvdGxpYi5vcmdSPF7BAAAAMnRFWHRTb2Z0d2FyZQBNYXRwbG90bGliIHYzLjUuMCwgaHR0cHM6Ly9tYXRwbG90bGliLm9yZ3yaweYAAAHfSURBVHic7dYxTsMwAEDRlPvfkIU7MIMZoAUc0qSAhNB/b6ByEjvGWf7p4fF+LMuyjDGWV+PD3y/GY+f+eTx27k/rvd/dGR99fsz3j+3z9nWv7/Pz25fV+Y1pH1vX5/eMaR+XeRvnvv38fC7X979+/tj+5+vzOe7t8+zp7cLzOE2/x64/fXPeev7f7uN9nZ/t4zy+nPv0wS7fe/4u0web52+Nd5//5vqb+91Y//DzN65/dvO6B+etzmNn3mrfn5c5/v9N8/a/443r75zfhwk/+11+aZ3/vo+3998tAECOAACAIAEAAEECAACCBAAABAkAAAgSAAAQJAAAIEgAAECQAACAIAEAAEECAACCBAAABAkAAAgSAAAQJAAAIEgAAECQAACAIAEAAEECAACCBAAABAkAAAgSAAAQJAAAIEgAAECQAACAIAEAAEECAACCBAAABAkAAAgSAAAQJAAAIEgAAECQAACAIAEAAEECAACCBAAABAkAAAgSAAAQJAAAIEgAAECQAACAIAEAAEECAACCBAAABAkAAAgSAAAQJAAAIEgAAECQAACAIAEAAEECAACCBAAABAkAAAgSAAAQJAAAIEgAAECQAACAIAEAAEECAACCBAAABAkAAAgSAAAQ9AI+WNRX9bZ8fAAAAABJRU5ErkJggg==\"></div><div style=\"vertical-align: middle; max-width: 514px; display: flex; justify-content: space-between;\"><div style=\"float: left;\"><div title=\"#e0f3dbff\" style=\"display: inline-block; width: 1em; height: 1em; margin: 0; vertical-align: middle; border: 1px solid #555; background-color: #e0f3dbff;\"></div> under</div><div style=\"margin: 0 auto; display: inline-block;\">bad <div title=\"#00000000\" style=\"display: inline-block; width: 1em; height: 1em; margin: 0; vertical-align: middle; border: 1px solid #555; background-color: #00000000;\"></div></div><div style=\"float: right;\">over <div title=\"#084081ff\" style=\"display: inline-block; width: 1em; height: 1em; margin: 0; vertical-align: middle; border: 1px solid #555; background-color: #084081ff;\"></div></div>"
      ],
      "text/plain": [
       "<matplotlib.colors.LinearSegmentedColormap at 0x7fa0183fbd90>"
      ]
     },
     "execution_count": 21,
     "metadata": {},
     "output_type": "execute_result"
    }
   ],
   "source": [
    "greenBlue_map#"
   ]
  },
  {
   "cell_type": "code",
   "execution_count": 26,
   "id": "3362d3f5-d3da-4855-85f9-ade6cdb3c448",
   "metadata": {},
   "outputs": [
    {
     "data": {
      "text/plain": [
       "['#e0f3db', '#ccebc5', '#a8ddb5', '#4eb3d3', '#2b8cbe', '#0868ac', '#084081']"
      ]
     },
     "execution_count": 26,
     "metadata": {},
     "output_type": "execute_result"
    }
   ],
   "source": [
    "greenBlue"
   ]
  },
  {
   "cell_type": "code",
   "execution_count": 22,
   "id": "a0bc8f3a-3ca3-45f7-8910-2bcfe2165e53",
   "metadata": {},
   "outputs": [
    {
     "data": {
      "image/png": "[encoded data removed]",
      "text/html": [
       "<div style=\"vertical-align: middle;\"><strong>mycmap</strong> </div><div class=\"cmap\"><img alt=\"mycmap colormap\" title=\"mycmap\" style=\"border: 1px solid #555;\" src=\"data:image/png;base64,iVBORw0KGgoAAAANSUhEUgAAAgAAAABACAYAAABsv8+/AAAAFXRFWHRUaXRsZQBteWNtYXAgY29sb3JtYXBbv6KmAAAAG3RFWHREZXNjcmlwdGlvbgBteWNtYXAgY29sb3JtYXASKLpCAAAAMHRFWHRBdXRob3IATWF0cGxvdGxpYiB2My41LjAsIGh0dHBzOi8vbWF0cGxvdGxpYi5vcmdSPF7BAAAAMnRFWHRTb2Z0d2FyZQBNYXRwbG90bGliIHYzLjUuMCwgaHR0cHM6Ly9tYXRwbG90bGliLm9yZ3yaweYAAAH0SURBVHic7dY7csIwGIVRGdh79pc2awlKYWDGPyh+5NHccxqNJdkWpvmmt/eP3lprvfc2j20e221cmW8799/nW51/XJexlfsG86P9db5t3l9+59P5Rudezred+5++z7Uc7Lrc2Mv1+nr5DuW6rm9/z/fP2b7++vn7n1PXj36v1+c49895vG04t9fXl7red+6/Xw/eN9xf3ncZrQ+uLxvP+7T/l867ef/jeh6n6fYHTe3QOK3tO/3w/q3nOP3x7/in3zM9nt+X76vvrfMr69PB+1r9rvfn/fA8dX1ava+vrJfzjdaPfr/TchoACCIAACCQAACAQAIAAAIJAAAIJAAAIJAAAIBAAgAAAgkAAAgkAAAgkAAAgEACAAACCQAACCQAACCQAACAQAIAAAIJAAAIJAAAIJAAAIBAAgAAAgkAAAgkAAAgkAAAgEACAAACCQAACCQAACCQAACAQAIAAAIJAAAIJAAAIJAAAIBAAgAAAgkAAAgkAAAgkAAAgEACAAACCQAACCQAACCQAACAQAIAAAIJAAAIJAAAIJAAAIBAAgAAAgkAAAgkAAAgkAAAgEACAAACCQAACCQAACCQAACAQAIAAAIJAAAIJAAAIJAAAIBAAgAAAgkAAAgkAAAgkAAAgEACAAACCQAACCQAACCQAACAQF+qPPqUEg+ImgAAAABJRU5ErkJggg==\"></div><div style=\"vertical-align: middle; max-width: 514px; display: flex; justify-content: space-between;\"><div style=\"float: left;\"><div title=\"#87d2dbff\" style=\"display: inline-block; width: 1em; height: 1em; margin: 0; vertical-align: middle; border: 1px solid #555; background-color: #87d2dbff;\"></div> under</div><div style=\"margin: 0 auto; display: inline-block;\">bad <div title=\"#00000000\" style=\"display: inline-block; width: 1em; height: 1em; margin: 0; vertical-align: middle; border: 1px solid #555; background-color: #00000000;\"></div></div><div style=\"float: right;\">over <div title=\"#fcee2bff\" style=\"display: inline-block; width: 1em; height: 1em; margin: 0; vertical-align: middle; border: 1px solid #555; background-color: #fcee2bff;\"></div></div>"
      ],
      "text/plain": [
       "<matplotlib.colors.LinearSegmentedColormap at 0x7fa0183fbc90>"
      ]
     },
     "execution_count": 22,
     "metadata": {},
     "output_type": "execute_result"
    }
   ],
   "source": [
    "beach_map"
   ]
  },
  {
   "cell_type": "code",
   "execution_count": 44,
   "id": "a6c5f108-9466-4e24-8ead-8f8b6d46a613",
   "metadata": {},
   "outputs": [
    {
     "data": {
      "image/png": "[encoded data removed]",
      "text/html": [
       "<div style=\"vertical-align: middle;\"><strong>mycmap</strong> </div><div class=\"cmap\"><img alt=\"mycmap colormap\" title=\"mycmap\" style=\"border: 1px solid #555;\" src=\"data:image/png;base64,iVBORw0KGgoAAAANSUhEUgAAAgAAAABACAYAAABsv8+/AAAAFXRFWHRUaXRsZQBteWNtYXAgY29sb3JtYXBbv6KmAAAAG3RFWHREZXNjcmlwdGlvbgBteWNtYXAgY29sb3JtYXASKLpCAAAAMHRFWHRBdXRob3IATWF0cGxvdGxpYiB2My41LjAsIGh0dHBzOi8vbWF0cGxvdGxpYi5vcmdSPF7BAAAAMnRFWHRTb2Z0d2FyZQBNYXRwbG90bGliIHYzLjUuMCwgaHR0cHM6Ly9tYXRwbG90bGliLm9yZ3yaweYAAAHpSURBVHic7dZNUoNAFIXRB5WsyBW5OHdpbAeBKGCLWFqauudMSPPzoAeW3/Dw+NSqqloNVVVVwzgdr+u2WleN0/mP75/XR+fdnuvMbdV5z/r+2rm+M2/zXO18/85+vzvvbe5yW/Ox3dbzj/X55fW2vO3dnGF1f63e27m+mbd6z2bezpwv7mP7fTv72cxbzTm4j/n6qT1XVdW5Xa7ruizW52l92ln3nv+ref/te47OG4aXuv5ox47jnTx3b9873v5Sp/PD58faud69rzP/2/N69/32Pjr7+el9TMf5vyYAEEQAAEAgAQAAgQQAAAQSAAAQSAAAQCABAACBBAAABBIAABBIAABAIAEAAIEEAAAEEgAAEEgAAEAgAQAAgQQAAAQSAAAQSAAAQCABAACBBAAABBIAABBIAABAIAEAAIEEAAAEEgAAEEgAAEAgAQAAgQQAAAQSAAAQSAAAQCABAACBBAAABBIAABBIAABAIAEAAIEEAAAEEgAAEEgAAEAgAQAAgQQAAAQSAAAQSAAAQCABAACBBAAABBIAABBIAABAIAEAAIEEAAAEEgAAEEgAAEAgAQAAgQQAAAQSAAAQSAAAQCABAACBBAAABBIAABBIAABAIAEAAIEEAAAEEgAAEEgAAEAgAQAAgV4BTyGi1HuEyykAAAAASUVORK5CYII=\"></div><div style=\"vertical-align: middle; max-width: 514px; display: flex; justify-content: space-between;\"><div style=\"float: left;\"><div title=\"#3361a5ff\" style=\"display: inline-block; width: 1em; height: 1em; margin: 0; vertical-align: middle; border: 1px solid #555; background-color: #3361a5ff;\"></div> under</div><div style=\"margin: 0 auto; display: inline-block;\">bad <div title=\"#00000000\" style=\"display: inline-block; width: 1em; height: 1em; margin: 0; vertical-align: middle; border: 1px solid #555; background-color: #00000000;\"></div></div><div style=\"float: right;\">over <div title=\"#fffc5aff\" style=\"display: inline-block; width: 1em; height: 1em; margin: 0; vertical-align: middle; border: 1px solid #555; background-color: #fffc5aff;\"></div></div>"
      ],
      "text/plain": [
       "<matplotlib.colors.LinearSegmentedColormap at 0x7f9ff003a0d0>"
      ]
     },
     "execution_count": 44,
     "metadata": {},
     "output_type": "execute_result"
    }
   ],
   "source": [
    "\n",
    "solarEx_horizonEx=['#3361A5',\n",
    " '#248AF3',\n",
    " '#14B3FF',\n",
    " '#FF9965',\n",
    " '#FFD32B',\n",
    " '#FFFC5A']\n",
    "\n",
    "solarEx_horizonEx02=['#021EA9',\n",
    " '#248AF3',\n",
    " '#14B3FF',\n",
    " '#FF9965',\n",
    " '#FFD32B',\n",
    " '#FFFC5A']\n",
    "solarEx_horizonEx_map = LinearSegmentedColormap.from_list(\"mycmap\", solarEx_horizonEx)\n",
    "\n",
    "solarEx_horizonEx_map\n",
    "\n"
   ]
  },
  {
   "cell_type": "code",
   "execution_count": 43,
   "id": "ab96ee2f-0a0b-47f6-89ee-7587e3575ef6",
   "metadata": {},
   "outputs": [
    {
     "data": {
      "image/png": "[encoded data removed]",
      "text/html": [
       "<div style=\"vertical-align: middle;\"><strong>mycmap</strong> </div><div class=\"cmap\"><img alt=\"mycmap colormap\" title=\"mycmap\" style=\"border: 1px solid #555;\" src=\"data:image/png;base64,iVBORw0KGgoAAAANSUhEUgAAAgAAAABACAYAAABsv8+/AAAAFXRFWHRUaXRsZQBteWNtYXAgY29sb3JtYXBbv6KmAAAAG3RFWHREZXNjcmlwdGlvbgBteWNtYXAgY29sb3JtYXASKLpCAAAAMHRFWHRBdXRob3IATWF0cGxvdGxpYiB2My41LjAsIGh0dHBzOi8vbWF0cGxvdGxpYi5vcmdSPF7BAAAAMnRFWHRTb2Z0d2FyZQBNYXRwbG90bGliIHYzLjUuMCwgaHR0cHM6Ly9tYXRwbG90bGliLm9yZ3yaweYAAAG/SURBVHic7dYxUsMwAABBCV7B/5/AA00BoRAIexhTMLfbeCxFkp2kuPkyXo8xxjjGh/l+OeZc7h/z8+R+t/7ifuPm/X67fiz3tz3Ptf3Gl/uP69My/7TOzz/+fP3873+XuVk3N/uu43Oz/1zPf6xfxk/PX/a/fP7u+c/O3z3/2flXv7/d9zKPZb9ln+WYdf7q59b5+887fpz/b+/3+Lmel+vj77aOP+/WnYx/7rsZP5s/XXfX8970Pnc9LwAQIgAAIEgAAECQAACAIAEAAEECAACCBAAABAkAAAgSAAAQJAAAIEgAAECQAACAIAEAAEECAACCBAAABAkAAAgSAAAQJAAAIEgAAECQAACAIAEAAEECAACCBAAABAkAAAgSAAAQJAAAIEgAAECQAACAIAEAAEECAACCBAAABAkAAAgSAAAQJAAAIEgAAECQAACAIAEAAEECAACCBAAABAkAAAgSAAAQJAAAIEgAAECQAACAIAEAAEECAACCBAAABAkAAAgSAAAQJAAAIEgAAECQAACAIAEAAEECAACCBAAABAkAAAgSAAAQJAAAIEgAAECQAACAIAEAAEECAACCBAAABL0BurkfGRYdFRIAAAAASUVORK5CYII=\"></div><div style=\"vertical-align: middle; max-width: 514px; display: flex; justify-content: space-between;\"><div style=\"float: left;\"><div title=\"#1900b3ff\" style=\"display: inline-block; width: 1em; height: 1em; margin: 0; vertical-align: middle; border: 1px solid #555; background-color: #1900b3ff;\"></div> under</div><div style=\"margin: 0 auto; display: inline-block;\">bad <div title=\"#00000000\" style=\"display: inline-block; width: 1em; height: 1em; margin: 0; vertical-align: middle; border: 1px solid #555; background-color: #00000000;\"></div></div><div style=\"float: right;\">over <div title=\"#bbfde2ff\" style=\"display: inline-block; width: 1em; height: 1em; margin: 0; vertical-align: middle; border: 1px solid #555; background-color: #bbfde2ff;\"></div></div>"
      ],
      "text/plain": [
       "<matplotlib.colors.LinearSegmentedColormap at 0x7f9ff0040510>"
      ]
     },
     "execution_count": 43,
     "metadata": {},
     "output_type": "execute_result"
    }
   ],
   "source": [
    "blue01_set=['#1900B3',\n",
    " '#0030C7',\n",
    " '#007CD7',\n",
    " '#13C5E4',\n",
    " '#30EDE2',\n",
    " '#BBFDE2']\n",
    "\n",
    "blue02_set=['#52009E',\n",
    " '#1900B3',\n",
    " '#007CD7',\n",
    " '#13C5E4',\n",
    " '#30EDE2',\n",
    " '#BBFDE2']\n",
    "\n",
    "blue03_set=['#770087',\n",
    " '#1900B3',\n",
    " '#007CD7',\n",
    " '#13C5E4',\n",
    " '#30EDE2',\n",
    " '#BBFDE2']\n",
    "\n",
    "blue01_set_map = LinearSegmentedColormap.from_list(\"mycmap\", blue01_set)\n",
    "blue01_set_map"
   ]
  },
  {
   "cell_type": "code",
   "execution_count": 45,
   "id": "2d3d8d23-503a-498b-971f-563afb32894a",
   "metadata": {},
   "outputs": [
    {
     "data": {
      "image/png": "[encoded data removed]",
      "text/html": [
       "<div style=\"vertical-align: middle;\"><strong>mycmap</strong> </div><div class=\"cmap\"><img alt=\"mycmap colormap\" title=\"mycmap\" style=\"border: 1px solid #555;\" src=\"data:image/png;base64,iVBORw0KGgoAAAANSUhEUgAAAgAAAABACAYAAABsv8+/AAAAFXRFWHRUaXRsZQBteWNtYXAgY29sb3JtYXBbv6KmAAAAG3RFWHREZXNjcmlwdGlvbgBteWNtYXAgY29sb3JtYXASKLpCAAAAMHRFWHRBdXRob3IATWF0cGxvdGxpYiB2My41LjAsIGh0dHBzOi8vbWF0cGxvdGxpYi5vcmdSPF7BAAAAMnRFWHRTb2Z0d2FyZQBNYXRwbG90bGliIHYzLjUuMCwgaHR0cHM6Ly9tYXRwbG90bGliLm9yZ3yaweYAAAIISURBVHic7dZBUqwwGIXRH3pJrugtzlXaGgckrQQp1HqO7jmTNiQEonbVtzz9e25VVa2WqqqqZe2f27hN46q1X/96/Rj/dL/HfSf7tjp5zry+LuYv9jvcVxfvf3He3+73se/+WOOzPcbjh/n6fr7tl33aZ5nW1/Tck/nDftNzDvtd7PPNcxzf7+I8h/2mfX54jjG/9jdY+/Xx33db2m78Md/6fE3z/frJ+jG+Tevn/W+/ve/kHFfvdTzH/znP2Tkuf79j3/ayjdu9r7v36/vx2tfdHuN5/j7Nv1zsNz/Pe2zrt3Xttf+BXquPt896W/bjMf/2x+vDnz+uj+8RABBEAABAIAEAAIEEAAAEEgAAEEgAAEAgAQAAgQQAAAQSAAAQSAAAQCABAACBBAAABBIAABBIAABAIAEAAIEEAAAEEgAAEEgAAEAgAQAAgQQAAAQSAAAQSAAAQCABAACBBAAABBIAABBIAABAIAEAAIEEAAAEEgAAEEgAAEAgAQAAgQQAAAQSAAAQSAAAQCABAACBBAAABBIAABBIAABAIAEAAIEEAAAEEgAAEEgAAEAgAQAAgQQAAAQSAAAQSAAAQCABAACBBAAABBIAABBIAABAIAEAAIEEAAAEEgAAEEgAAEAgAQAAgQQAAAQSAAAQSAAAQCABAACBBAAABBIAABBIAABAIAEAAIHeAYP3y7epoKKvAAAAAElFTkSuQmCC\"></div><div style=\"vertical-align: middle; max-width: 514px; display: flex; justify-content: space-between;\"><div style=\"float: left;\"><div title=\"#3361a5ff\" style=\"display: inline-block; width: 1em; height: 1em; margin: 0; vertical-align: middle; border: 1px solid #555; background-color: #3361a5ff;\"></div> under</div><div style=\"margin: 0 auto; display: inline-block;\">bad <div title=\"#00000000\" style=\"display: inline-block; width: 1em; height: 1em; margin: 0; vertical-align: middle; border: 1px solid #555; background-color: #00000000;\"></div></div><div style=\"float: right;\">over <div title=\"#e42a2aff\" style=\"display: inline-block; width: 1em; height: 1em; margin: 0; vertical-align: middle; border: 1px solid #555; background-color: #e42a2aff;\"></div></div>"
      ],
      "text/plain": [
       "<matplotlib.colors.LinearSegmentedColormap at 0x7f9ff0034490>"
      ]
     },
     "execution_count": 45,
     "metadata": {},
     "output_type": "execute_result"
    }
   ],
   "source": [
    "solarExtra02=['#3361A5',\n",
    " '#248AF3',\n",
    " '#14B3FF',\n",
    " '#88CEEF',\n",
    " # '#C1D5DC',\n",
    " # '#EAD397',\n",
    " '#FDB31A',\n",
    " '#E42A2A',\n",
    " # '#A31D1D'\n",
    "             ]\n",
    "solarExtra02_map = LinearSegmentedColormap.from_list(\"mycmap\", solarExtra02)\n",
    "\n",
    "solarExtra02_map"
   ]
  },
  {
   "cell_type": "code",
   "execution_count": null,
   "id": "3ece3768-bda6-46a4-afe6-91c33bd23b2b",
   "metadata": {},
   "outputs": [],
   "source": []
  }
 ],
 "metadata": {
  "kernelspec": {
   "display_name": "Python 3 (ipykernel)",
   "language": "python",
   "name": "python3"
  },
  "language_info": {
   "codemirror_mode": {
    "name": "ipython",
    "version": 3
   },
   "file_extension": ".py",
   "mimetype": "text/x-python",
   "name": "python",
   "nbconvert_exporter": "python",
   "pygments_lexer": "ipython3",
   "version": "3.7.6"
  }
 },
 "nbformat": 4,
 "nbformat_minor": 5
}
